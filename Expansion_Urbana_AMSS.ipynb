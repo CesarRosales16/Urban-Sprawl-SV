{
  "nbformat": 4,
  "nbformat_minor": 0,
  "metadata": {
    "colab": {
      "name": "Expansion Urbana AMSS.ipynb",
      "provenance": [],
      "collapsed_sections": [
        "W-lih9CDG76M"
      ],
      "authorship_tag": "ABX9TyOGwGAOLRNjDq1UY+WXTMYv",
      "include_colab_link": true
    },
    "kernelspec": {
      "name": "python3",
      "display_name": "Python 3"
    },
    "language_info": {
      "name": "python"
    }
  },
  "cells": [
    {
      "cell_type": "markdown",
      "metadata": {
        "id": "view-in-github",
        "colab_type": "text"
      },
      "source": [
        "<a href=\"https://colab.research.google.com/github/CesarRosales16/Urban-Sprawl-SV/blob/main/Expansion_Urbana_AMSS.ipynb\" target=\"_parent\"><img src=\"https://colab.research.google.com/assets/colab-badge.svg\" alt=\"Open In Colab\"/></a>"
      ]
    },
    {
      "cell_type": "markdown",
      "source": [
        "# Análisis de la expansión urbana en el AMSS usando técnicas de Teledetección y Machine Learning\n"
      ],
      "metadata": {
        "id": "6eHyVF0UEUp6"
      }
    },
    {
      "cell_type": "markdown",
      "source": [
        "## Delimitación espacial"
      ],
      "metadata": {
        "id": "VvnAkyGASa6s"
      }
    },
    {
      "cell_type": "code",
      "source": [
        "# Google Earth Engine API\n",
        "import ee\n",
        "# Trigger the authentication flow.\n",
        "ee.Authenticate()\n",
        "\n",
        "# Initialize the library.\n",
        "ee.Initialize()"
      ],
      "metadata": {
        "colab": {
          "base_uri": "https://localhost:8080/"
        },
        "id": "iyLWWpg3EYOz",
        "outputId": "59125bf5-ff95-4767-a930-6a70bd5c8823"
      },
      "execution_count": 1,
      "outputs": [
        {
          "output_type": "stream",
          "name": "stdout",
          "text": [
            "To authorize access needed by Earth Engine, open the following URL in a web browser and follow the instructions. If the web browser does not start automatically, please manually browse the URL below.\n",
            "\n",
            "    https://code.earthengine.google.com/client-auth?scopes=https%3A//www.googleapis.com/auth/earthengine%20https%3A//www.googleapis.com/auth/devstorage.full_control&request_id=VmEPI371NsYYEzoep97wDJDMuOcT9CVgyNSfseG92J4&tc=GMEY7BK2N6v2dJSS9PObn4HDrE3CCgNDM27FKEAkfmM&cc=Uz--2CT_Tg_sHSnbpizx5is3fV_t8LPDjbaDAXo17Dk\n",
            "\n",
            "The authorization workflow will generate a code, which you should paste in the box below. \n",
            "Enter verification code: 4/1AX4XfWjBMaL0x47JkxswzOEzvHOJ-jV_k97jrWYUPluA5G0xrHaHOoTUVrA\n",
            "\n",
            "Successfully saved authorization token.\n"
          ]
        }
      ]
    },
    {
      "cell_type": "code",
      "source": [
        "# Import the Folium library to display interactive maps\n",
        "import folium\n",
        "\n",
        "# Define a method for displaying Earth Engine image tiles to folium map.\n",
        "def add_ee_layer(self, ee_image_object, vis_params, name):\n",
        "  map_id_dict = ee.Image(ee_image_object).getMapId(vis_params)\n",
        "  folium.raster_layers.TileLayer(\n",
        "    tiles = map_id_dict['tile_fetcher'].url_format,\n",
        "    attr = 'Map Data &copy; <a href=\"https://earthengine.google.com/\">Google Earth Engine</a>',\n",
        "    name = name,\n",
        "    overlay = True,\n",
        "    control = True\n",
        "  ).add_to(self)\n",
        "\n",
        "# Add EE drawing method to folium.\n",
        "folium.Map.add_ee_layer = add_ee_layer"
      ],
      "metadata": {
        "id": "0SVMnvxWEl_1"
      },
      "execution_count": 2,
      "outputs": []
    },
    {
      "cell_type": "code",
      "source": [
        "# Install and import geopandas for manage datasets with geospatial data\n",
        "!pip install geopandas\n",
        "import geopandas as gpd"
      ],
      "metadata": {
        "id": "co7YZz0FE-8d",
        "colab": {
          "base_uri": "https://localhost:8080/"
        },
        "outputId": "fb65611d-0393-4336-c27c-4ce8465891a6"
      },
      "execution_count": 3,
      "outputs": [
        {
          "output_type": "stream",
          "name": "stdout",
          "text": [
            "Looking in indexes: https://pypi.org/simple, https://us-python.pkg.dev/colab-wheels/public/simple/\n",
            "Collecting geopandas\n",
            "  Downloading geopandas-0.10.2-py2.py3-none-any.whl (1.0 MB)\n",
            "\u001b[K     |████████████████████████████████| 1.0 MB 8.5 MB/s \n",
            "\u001b[?25hCollecting fiona>=1.8\n",
            "  Downloading Fiona-1.8.21-cp37-cp37m-manylinux2014_x86_64.whl (16.7 MB)\n",
            "\u001b[K     |████████████████████████████████| 16.7 MB 433 kB/s \n",
            "\u001b[?25hRequirement already satisfied: pandas>=0.25.0 in /usr/local/lib/python3.7/dist-packages (from geopandas) (1.3.5)\n",
            "Collecting pyproj>=2.2.0\n",
            "  Downloading pyproj-3.2.1-cp37-cp37m-manylinux2010_x86_64.whl (6.3 MB)\n",
            "\u001b[K     |████████████████████████████████| 6.3 MB 38.1 MB/s \n",
            "\u001b[?25hRequirement already satisfied: shapely>=1.6 in /usr/local/lib/python3.7/dist-packages (from geopandas) (1.8.2)\n",
            "Requirement already satisfied: click>=4.0 in /usr/local/lib/python3.7/dist-packages (from fiona>=1.8->geopandas) (7.1.2)\n",
            "Requirement already satisfied: setuptools in /usr/local/lib/python3.7/dist-packages (from fiona>=1.8->geopandas) (57.4.0)\n",
            "Requirement already satisfied: certifi in /usr/local/lib/python3.7/dist-packages (from fiona>=1.8->geopandas) (2022.5.18.1)\n",
            "Requirement already satisfied: six>=1.7 in /usr/local/lib/python3.7/dist-packages (from fiona>=1.8->geopandas) (1.15.0)\n",
            "Requirement already satisfied: attrs>=17 in /usr/local/lib/python3.7/dist-packages (from fiona>=1.8->geopandas) (21.4.0)\n",
            "Collecting click-plugins>=1.0\n",
            "  Downloading click_plugins-1.1.1-py2.py3-none-any.whl (7.5 kB)\n",
            "Collecting munch\n",
            "  Downloading munch-2.5.0-py2.py3-none-any.whl (10 kB)\n",
            "Collecting cligj>=0.5\n",
            "  Downloading cligj-0.7.2-py3-none-any.whl (7.1 kB)\n",
            "Requirement already satisfied: pytz>=2017.3 in /usr/local/lib/python3.7/dist-packages (from pandas>=0.25.0->geopandas) (2022.1)\n",
            "Requirement already satisfied: python-dateutil>=2.7.3 in /usr/local/lib/python3.7/dist-packages (from pandas>=0.25.0->geopandas) (2.8.2)\n",
            "Requirement already satisfied: numpy>=1.17.3 in /usr/local/lib/python3.7/dist-packages (from pandas>=0.25.0->geopandas) (1.21.6)\n",
            "Installing collected packages: munch, cligj, click-plugins, pyproj, fiona, geopandas\n",
            "Successfully installed click-plugins-1.1.1 cligj-0.7.2 fiona-1.8.21 geopandas-0.10.2 munch-2.5.0 pyproj-3.2.1\n"
          ]
        }
      ]
    },
    {
      "cell_type": "code",
      "source": [
        "# Load data from shapefile (.shp) located in GitHub\n",
        "# https://github.com/CesarRosales16/Urban-Sprawl-SV\n",
        "mun_datasource_url = 'https://raw.githubusercontent.com/CesarRosales16/Urban-Sprawl-SV/main/datasources/municipios-qgis/municipios_wgs84.shp'\n",
        "mun_shp_path = '/vsicurl/' + mun_datasource_url\n",
        "mun_data = gpd.read_file(mun_shp_path)\n",
        "mun_data.head()"
      ],
      "metadata": {
        "id": "_wBU1X-GFBD1",
        "colab": {
          "base_uri": "https://localhost:8080/",
          "height": 617
        },
        "outputId": "fe130323-5d80-4e11-fccb-bd84c6838dac"
      },
      "execution_count": 4,
      "outputs": [
        {
          "output_type": "execute_result",
          "data": {
            "text/plain": [
              "   fid      NOM_DPTO COD_DPTO           NOM_MUN COD_MUN COD_MUN4  TASA_POBR  \\\n",
              "0  1.0  CHALATENANGO       04  NUEVA CONCEPCION      16     0416       46.6   \n",
              "1  2.0  CHALATENANGO       04     AGUA CALIENTE      01     0401       57.3   \n",
              "2  3.0  CHALATENANGO       04          LA PALMA      12     0412       52.4   \n",
              "3  4.0  CHALATENANGO       04       SAN IGNACIO      25     0425       55.2   \n",
              "4  5.0  CHALATENANGO       04            CITALA      04     0404       55.7   \n",
              "\n",
              "         POBR_FISDL    PERIM_KM    AREA_KM2  POB_TOTAL  POB_HOMB  POB_MUJER  \\\n",
              "0  Pobreza Moderada  111.054433  343.809219      28625     13491      15134   \n",
              "1      Pobreza Alta   59.338583  128.497304       8261      3820       4441   \n",
              "2      Pobreza Alta   75.920713  150.504556      12235      5781       6454   \n",
              "3      Pobreza Alta   50.199616   57.706536       8611      4055       4556   \n",
              "4      Pobreza Alta   59.140700   73.623486       4164      1964       2200   \n",
              "\n",
              "   Shape_Leng  Shape_Area                                           geometry  \n",
              "0    1.015356    0.028779  POLYGON ((-89.28916 14.24249, -89.28889 14.241...  \n",
              "1    0.541842    0.010761  POLYGON ((-89.23636 14.27155, -89.23595 14.271...  \n",
              "2    0.696167    0.012609  POLYGON ((-89.10319 14.35704, -89.10298 14.356...  \n",
              "3    0.460160    0.004835  POLYGON ((-89.08244 14.35526, -89.08251 14.355...  \n",
              "4    0.543241    0.006170  POLYGON ((-89.34774 14.41833, -89.34478 14.418...  "
            ],
            "text/html": [
              "\n",
              "  <div id=\"df-8608273b-68f9-4c05-9e06-d4b9f0887c00\">\n",
              "    <div class=\"colab-df-container\">\n",
              "      <div>\n",
              "<style scoped>\n",
              "    .dataframe tbody tr th:only-of-type {\n",
              "        vertical-align: middle;\n",
              "    }\n",
              "\n",
              "    .dataframe tbody tr th {\n",
              "        vertical-align: top;\n",
              "    }\n",
              "\n",
              "    .dataframe thead th {\n",
              "        text-align: right;\n",
              "    }\n",
              "</style>\n",
              "<table border=\"1\" class=\"dataframe\">\n",
              "  <thead>\n",
              "    <tr style=\"text-align: right;\">\n",
              "      <th></th>\n",
              "      <th>fid</th>\n",
              "      <th>NOM_DPTO</th>\n",
              "      <th>COD_DPTO</th>\n",
              "      <th>NOM_MUN</th>\n",
              "      <th>COD_MUN</th>\n",
              "      <th>COD_MUN4</th>\n",
              "      <th>TASA_POBR</th>\n",
              "      <th>POBR_FISDL</th>\n",
              "      <th>PERIM_KM</th>\n",
              "      <th>AREA_KM2</th>\n",
              "      <th>POB_TOTAL</th>\n",
              "      <th>POB_HOMB</th>\n",
              "      <th>POB_MUJER</th>\n",
              "      <th>Shape_Leng</th>\n",
              "      <th>Shape_Area</th>\n",
              "      <th>geometry</th>\n",
              "    </tr>\n",
              "  </thead>\n",
              "  <tbody>\n",
              "    <tr>\n",
              "      <th>0</th>\n",
              "      <td>1.0</td>\n",
              "      <td>CHALATENANGO</td>\n",
              "      <td>04</td>\n",
              "      <td>NUEVA CONCEPCION</td>\n",
              "      <td>16</td>\n",
              "      <td>0416</td>\n",
              "      <td>46.6</td>\n",
              "      <td>Pobreza Moderada</td>\n",
              "      <td>111.054433</td>\n",
              "      <td>343.809219</td>\n",
              "      <td>28625</td>\n",
              "      <td>13491</td>\n",
              "      <td>15134</td>\n",
              "      <td>1.015356</td>\n",
              "      <td>0.028779</td>\n",
              "      <td>POLYGON ((-89.28916 14.24249, -89.28889 14.241...</td>\n",
              "    </tr>\n",
              "    <tr>\n",
              "      <th>1</th>\n",
              "      <td>2.0</td>\n",
              "      <td>CHALATENANGO</td>\n",
              "      <td>04</td>\n",
              "      <td>AGUA CALIENTE</td>\n",
              "      <td>01</td>\n",
              "      <td>0401</td>\n",
              "      <td>57.3</td>\n",
              "      <td>Pobreza Alta</td>\n",
              "      <td>59.338583</td>\n",
              "      <td>128.497304</td>\n",
              "      <td>8261</td>\n",
              "      <td>3820</td>\n",
              "      <td>4441</td>\n",
              "      <td>0.541842</td>\n",
              "      <td>0.010761</td>\n",
              "      <td>POLYGON ((-89.23636 14.27155, -89.23595 14.271...</td>\n",
              "    </tr>\n",
              "    <tr>\n",
              "      <th>2</th>\n",
              "      <td>3.0</td>\n",
              "      <td>CHALATENANGO</td>\n",
              "      <td>04</td>\n",
              "      <td>LA PALMA</td>\n",
              "      <td>12</td>\n",
              "      <td>0412</td>\n",
              "      <td>52.4</td>\n",
              "      <td>Pobreza Alta</td>\n",
              "      <td>75.920713</td>\n",
              "      <td>150.504556</td>\n",
              "      <td>12235</td>\n",
              "      <td>5781</td>\n",
              "      <td>6454</td>\n",
              "      <td>0.696167</td>\n",
              "      <td>0.012609</td>\n",
              "      <td>POLYGON ((-89.10319 14.35704, -89.10298 14.356...</td>\n",
              "    </tr>\n",
              "    <tr>\n",
              "      <th>3</th>\n",
              "      <td>4.0</td>\n",
              "      <td>CHALATENANGO</td>\n",
              "      <td>04</td>\n",
              "      <td>SAN IGNACIO</td>\n",
              "      <td>25</td>\n",
              "      <td>0425</td>\n",
              "      <td>55.2</td>\n",
              "      <td>Pobreza Alta</td>\n",
              "      <td>50.199616</td>\n",
              "      <td>57.706536</td>\n",
              "      <td>8611</td>\n",
              "      <td>4055</td>\n",
              "      <td>4556</td>\n",
              "      <td>0.460160</td>\n",
              "      <td>0.004835</td>\n",
              "      <td>POLYGON ((-89.08244 14.35526, -89.08251 14.355...</td>\n",
              "    </tr>\n",
              "    <tr>\n",
              "      <th>4</th>\n",
              "      <td>5.0</td>\n",
              "      <td>CHALATENANGO</td>\n",
              "      <td>04</td>\n",
              "      <td>CITALA</td>\n",
              "      <td>04</td>\n",
              "      <td>0404</td>\n",
              "      <td>55.7</td>\n",
              "      <td>Pobreza Alta</td>\n",
              "      <td>59.140700</td>\n",
              "      <td>73.623486</td>\n",
              "      <td>4164</td>\n",
              "      <td>1964</td>\n",
              "      <td>2200</td>\n",
              "      <td>0.543241</td>\n",
              "      <td>0.006170</td>\n",
              "      <td>POLYGON ((-89.34774 14.41833, -89.34478 14.418...</td>\n",
              "    </tr>\n",
              "  </tbody>\n",
              "</table>\n",
              "</div>\n",
              "      <button class=\"colab-df-convert\" onclick=\"convertToInteractive('df-8608273b-68f9-4c05-9e06-d4b9f0887c00')\"\n",
              "              title=\"Convert this dataframe to an interactive table.\"\n",
              "              style=\"display:none;\">\n",
              "        \n",
              "  <svg xmlns=\"http://www.w3.org/2000/svg\" height=\"24px\"viewBox=\"0 0 24 24\"\n",
              "       width=\"24px\">\n",
              "    <path d=\"M0 0h24v24H0V0z\" fill=\"none\"/>\n",
              "    <path d=\"M18.56 5.44l.94 2.06.94-2.06 2.06-.94-2.06-.94-.94-2.06-.94 2.06-2.06.94zm-11 1L8.5 8.5l.94-2.06 2.06-.94-2.06-.94L8.5 2.5l-.94 2.06-2.06.94zm10 10l.94 2.06.94-2.06 2.06-.94-2.06-.94-.94-2.06-.94 2.06-2.06.94z\"/><path d=\"M17.41 7.96l-1.37-1.37c-.4-.4-.92-.59-1.43-.59-.52 0-1.04.2-1.43.59L10.3 9.45l-7.72 7.72c-.78.78-.78 2.05 0 2.83L4 21.41c.39.39.9.59 1.41.59.51 0 1.02-.2 1.41-.59l7.78-7.78 2.81-2.81c.8-.78.8-2.07 0-2.86zM5.41 20L4 18.59l7.72-7.72 1.47 1.35L5.41 20z\"/>\n",
              "  </svg>\n",
              "      </button>\n",
              "      \n",
              "  <style>\n",
              "    .colab-df-container {\n",
              "      display:flex;\n",
              "      flex-wrap:wrap;\n",
              "      gap: 12px;\n",
              "    }\n",
              "\n",
              "    .colab-df-convert {\n",
              "      background-color: #E8F0FE;\n",
              "      border: none;\n",
              "      border-radius: 50%;\n",
              "      cursor: pointer;\n",
              "      display: none;\n",
              "      fill: #1967D2;\n",
              "      height: 32px;\n",
              "      padding: 0 0 0 0;\n",
              "      width: 32px;\n",
              "    }\n",
              "\n",
              "    .colab-df-convert:hover {\n",
              "      background-color: #E2EBFA;\n",
              "      box-shadow: 0px 1px 2px rgba(60, 64, 67, 0.3), 0px 1px 3px 1px rgba(60, 64, 67, 0.15);\n",
              "      fill: #174EA6;\n",
              "    }\n",
              "\n",
              "    [theme=dark] .colab-df-convert {\n",
              "      background-color: #3B4455;\n",
              "      fill: #D2E3FC;\n",
              "    }\n",
              "\n",
              "    [theme=dark] .colab-df-convert:hover {\n",
              "      background-color: #434B5C;\n",
              "      box-shadow: 0px 1px 3px 1px rgba(0, 0, 0, 0.15);\n",
              "      filter: drop-shadow(0px 1px 2px rgba(0, 0, 0, 0.3));\n",
              "      fill: #FFFFFF;\n",
              "    }\n",
              "  </style>\n",
              "\n",
              "      <script>\n",
              "        const buttonEl =\n",
              "          document.querySelector('#df-8608273b-68f9-4c05-9e06-d4b9f0887c00 button.colab-df-convert');\n",
              "        buttonEl.style.display =\n",
              "          google.colab.kernel.accessAllowed ? 'block' : 'none';\n",
              "\n",
              "        async function convertToInteractive(key) {\n",
              "          const element = document.querySelector('#df-8608273b-68f9-4c05-9e06-d4b9f0887c00');\n",
              "          const dataTable =\n",
              "            await google.colab.kernel.invokeFunction('convertToInteractive',\n",
              "                                                     [key], {});\n",
              "          if (!dataTable) return;\n",
              "\n",
              "          const docLinkHtml = 'Like what you see? Visit the ' +\n",
              "            '<a target=\"_blank\" href=https://colab.research.google.com/notebooks/data_table.ipynb>data table notebook</a>'\n",
              "            + ' to learn more about interactive tables.';\n",
              "          element.innerHTML = '';\n",
              "          dataTable['output_type'] = 'display_data';\n",
              "          await google.colab.output.renderOutput(dataTable, element);\n",
              "          const docLink = document.createElement('div');\n",
              "          docLink.innerHTML = docLinkHtml;\n",
              "          element.appendChild(docLink);\n",
              "        }\n",
              "      </script>\n",
              "    </div>\n",
              "  </div>\n",
              "  "
            ]
          },
          "metadata": {},
          "execution_count": 4
        }
      ]
    },
    {
      "cell_type": "code",
      "source": [
        "# Set coordinate reference system to dataset (WGS84 = epsg:4326)\n",
        "mun_data.crs = 'epsg:4326'\n",
        "print(mun_data.crs)\n",
        "mun_data.plot()"
      ],
      "metadata": {
        "id": "yGGt0mJqFFWd",
        "colab": {
          "base_uri": "https://localhost:8080/",
          "height": 265
        },
        "outputId": "1ed17329-667f-4f3e-8c53-ff601121ff85"
      },
      "execution_count": 5,
      "outputs": [
        {
          "output_type": "stream",
          "name": "stdout",
          "text": [
            "epsg:4326\n"
          ]
        },
        {
          "output_type": "execute_result",
          "data": {
            "text/plain": [
              "<matplotlib.axes._subplots.AxesSubplot at 0x7fe370518910>"
            ]
          },
          "metadata": {},
          "execution_count": 5
        },
        {
          "output_type": "display_data",
          "data": {
            "text/plain": [
              "<Figure size 432x288 with 1 Axes>"
            ],
            "image/png": "[encoded data removed]"
          },
          "metadata": {
            "needs_background": "light"
          }
        }
      ]
    },
    {
      "cell_type": "code",
      "source": [
        "# Create a new dataset based on AMSS municipalities\n",
        "mun_amss = ['NEJAPA', 'TONACATEPEQUE', 'CUSCATANCINGO', 'APOPA', 'DELGADO', 'AYUTUXTEPEQUE', 'MEJICANOS', 'SAN SALVADOR',\n",
        "'SAN MARTIN', 'ILOPANGO', 'SOYAPANGO', 'SAN MARCOS', 'ANTIGUO CUSCATLAN', 'SANTA TECLA']\n",
        "amss_data = mun_data.loc[mun_data.NOM_MUN.isin(mun_amss)]"
      ],
      "metadata": {
        "id": "u7jco1S8FHyT"
      },
      "execution_count": 6,
      "outputs": []
    },
    {
      "cell_type": "code",
      "source": [
        "# Create a new dataset based on aiditional municipalities, for our case Colon\n",
        "mun_aditional = ['COLON']\n",
        "mun_aditional_data = mun_data.loc[mun_data.NOM_MUN.isin(mun_aditional)]"
      ],
      "metadata": {
        "id": "NptAejDXFKXM"
      },
      "execution_count": 7,
      "outputs": []
    },
    {
      "cell_type": "code",
      "source": [
        "# Plot amss and colon in a single map\n",
        "ax = amss_data.plot(figsize=(5,5), color='none', edgecolor='gray')\n",
        "mun_aditional_data.plot(ax=ax, color='none', edgecolor='red')"
      ],
      "metadata": {
        "id": "gm3_ddaWFNFj",
        "colab": {
          "base_uri": "https://localhost:8080/",
          "height": 337
        },
        "outputId": "bf335d55-9026-4bea-924a-009b1e6ccf90"
      },
      "execution_count": 8,
      "outputs": [
        {
          "output_type": "execute_result",
          "data": {
            "text/plain": [
              "<matplotlib.axes._subplots.AxesSubplot at 0x7fe37053b490>"
            ]
          },
          "metadata": {},
          "execution_count": 8
        },
        {
          "output_type": "display_data",
          "data": {
            "text/plain": [
              "<Figure size 360x360 with 1 Axes>"
            ],
            "image/png": "[encoded data removed]"
          },
          "metadata": {
            "needs_background": "light"
          }
        }
      ]
    },
    {
      "cell_type": "code",
      "source": [
        "# Merge AMSS and aditional municipalities in a single dataframe for our ROI (Region Of Interest)\n",
        "mun_roi = mun_amss + mun_aditional\n",
        "roi_data = mun_data.loc[mun_data.NOM_MUN.isin(mun_roi)]"
      ],
      "metadata": {
        "id": "EwaQoVBMFOEt"
      },
      "execution_count": 9,
      "outputs": []
    },
    {
      "cell_type": "code",
      "source": [
        "# Plot or ROI\n",
        "roi_data.plot(figsize=(5,5), color='none', edgecolor='gray')"
      ],
      "metadata": {
        "id": "eMVochzzFPab",
        "colab": {
          "base_uri": "https://localhost:8080/",
          "height": 337
        },
        "outputId": "4999e9b3-6b4f-45e1-8fc0-de71cc7777fa"
      },
      "execution_count": 10,
      "outputs": [
        {
          "output_type": "execute_result",
          "data": {
            "text/plain": [
              "<matplotlib.axes._subplots.AxesSubplot at 0x7fe3704de6d0>"
            ]
          },
          "metadata": {},
          "execution_count": 10
        },
        {
          "output_type": "display_data",
          "data": {
            "text/plain": [
              "<Figure size 360x360 with 1 Axes>"
            ],
            "image/png": "[encoded data removed]"
          },
          "metadata": {
            "needs_background": "light"
          }
        }
      ]
    },
    {
      "cell_type": "code",
      "source": [
        "# Check the CRS for the final df\n",
        "print(roi_data.crs)"
      ],
      "metadata": {
        "id": "QN_5Mex_GMrV",
        "colab": {
          "base_uri": "https://localhost:8080/"
        },
        "outputId": "a76e6d71-4956-4438-94e3-05fa0362a22b"
      },
      "execution_count": 11,
      "outputs": [
        {
          "output_type": "stream",
          "name": "stdout",
          "text": [
            "epsg:4326\n"
          ]
        }
      ]
    },
    {
      "cell_type": "code",
      "source": [
        "# Geographic data for SV\n",
        "sv_lon = -88.89653\n",
        "sv_lat = 13.794185\n",
        "sv_poi = ee.Geometry.Point(sv_lon, sv_lat)"
      ],
      "metadata": {
        "id": "ncPGEAqAG25M"
      },
      "execution_count": 12,
      "outputs": []
    },
    {
      "cell_type": "code",
      "source": [
        "# Import json library to transform geopandas to json and then to GEE feature collection\n",
        "import json\n",
        "\n",
        "# Create json from our ROI geodataframe\n",
        "roi_json = json.loads(roi_data.to_json())\n",
        "\n",
        "# Craete Google Earth Engine FeatureCollection from geojson\n",
        "roi_fc = ee.FeatureCollection(roi_json)\n",
        "\n",
        "# Create GEE Geometry from FeatureCollection\n",
        "roi_geom = ee.Geometry(roi_fc.geometry())"
      ],
      "metadata": {
        "id": "0EoewHFbH82s"
      },
      "execution_count": 13,
      "outputs": []
    },
    {
      "cell_type": "markdown",
      "source": [
        "## Clipping landsat images"
      ],
      "metadata": {
        "id": "NbVpPLSPR1p7"
      }
    },
    {
      "cell_type": "code",
      "source": [
        "#Define cloud masks for landsat images\n",
        "def cloudMaskL8(img):\n",
        "  '''  \n",
        "  Function to mask clouds based on the pixel_qa band of Landsat 8 SR data. See:\n",
        "  https://developers.google.com/earth-engine/datasets/catalog/LANDSAT_LC08_C01_T1_SR\n",
        "  \n",
        "  Params:\n",
        "  -------\n",
        "  - img: image input Landsat 8 SR image\n",
        "  \n",
        "  Return:\n",
        "  -------\n",
        "  cloudmasked Landsat 8 image\n",
        "  '''\n",
        "  cloudShadowBitMask = (1 << 3)\n",
        "  cloudsBitMask = (1 << 5)\n",
        "  # Get the pixel QA band.\n",
        "  qa = img.select('pixel_qa')\n",
        "  # Both flags should be set to zero, indicating clear conditions.\n",
        "  mask = qa.bitwiseAnd(cloudShadowBitMask).eq(0)\\\n",
        "           .And(qa.bitwiseAnd(cloudsBitMask).eq(0))\n",
        "  return img.updateMask(mask)   \n",
        "\n",
        "def cloudMaskL457(img):\n",
        "  '''  \n",
        "  Function to mask clouds based on the pixel_qa band of Landsat 4/5/7 SR data. See:\n",
        "  https://developers.google.com/earth-engine/datasets/catalog/LANDSAT_LT05_C01_T1_SR\n",
        "  \n",
        "  Params:\n",
        "  -------\n",
        "  - img: image input Landsat 4/5/7 SR image\n",
        "  \n",
        "  Return:\n",
        "  -------\n",
        "  cloudmasked Landsat 4/5/7 image\n",
        "  '''\n",
        "  # Get the pixel QA band.\n",
        "  qa = img.select('pixel_qa')\n",
        "  # If the cloud bit (5) is set and the cloud confidence (7) is high or the cloud shadow bit is set (3), then it's a bad pixel.\n",
        "  cloud = qa.bitwiseAnd(1 << 5)\\\n",
        "                  .And(qa.bitwiseAnd(1 << 7))\\\n",
        "                  .Or(qa.bitwiseAnd(1 << 3))\n",
        "  # Remove edge pixels that don't occur in all bands\n",
        "  mask = img.mask().reduce(ee.Reducer.min())\n",
        "  return img.updateMask(cloud.Not()).updateMask(mask)   "
      ],
      "metadata": {
        "id": "04whIroOlOqZ"
      },
      "execution_count": 14,
      "outputs": []
    },
    {
      "cell_type": "code",
      "source": [
        "# Clipping landsat image\n",
        "\"\"\"\n",
        "Params needed to landsat image\n",
        "landsat_collection_path = 'LANDSAT/LC08/C01/T1_SR'\n",
        "initial_date = '2015-01-01'\n",
        "final_date = '2015-12-31'\n",
        "sort_filter = 'CLOUD_COVER'\n",
        "\"\"\"\n",
        "\n",
        "# Load Landsat Collection\n",
        "landsat_collection = ee.ImageCollection('LANDSAT/LC08/C01/T1_SR')\n",
        "\n",
        "\n",
        "# Clips image to desired area\n",
        "clipped_image = landsat_collection\\\n",
        "  .filterBounds(roi_geom)\\\n",
        "  .filterDate('2015-01-01','2015-12-31')\\\n",
        "  .filter(ee.Filter.lt('CLOUD_COVER', 20))\\\n",
        "  .map(cloudMaskL8)\\\n",
        "  .median()\\\n",
        "  .clip(roi_geom)\n",
        "\n",
        "\"\"\"# Clips image to desired area\n",
        "clipped_image = landsat_collection\\\n",
        "  .filterBounds(roi_geom)\\\n",
        "  .filterDate('2015-01-01','2015-12-31')\\\n",
        "  .filter(ee.Filter.lt('CLOUD_COVER', 20))\\\n",
        "  .map(maskS2clouds)\\ \n",
        "  .median()\\\n",
        "  .multiply(0.0001)\\ \n",
        "  .clip(roi_geom)\"\"\"\n",
        "\n",
        "# Set visualization parameters\n",
        "vis_params = {\n",
        "    'bands':['B4', 'B3', 'B2'], \n",
        "    'min': 0, \n",
        "    'max': 3000, \n",
        "    'gamma': 1.4\n",
        "}"
      ],
      "metadata": {
        "id": "LVgZvkm9T0xb"
      },
      "execution_count": null,
      "outputs": []
    },
    {
      "cell_type": "markdown",
      "source": [
        "### Obtener imagenes landsat de forma dinamica"
      ],
      "metadata": {
        "id": "MWs3GZrgJczd"
      }
    },
    {
      "cell_type": "code",
      "source": [
        "# Function that retrieves Landsat Collection number for a given year\n",
        "def getLandsatCollectionNumber(year):\n",
        "  if year >= 1985 and year <= 1999:\n",
        "    return 'LT05'\n",
        "  elif year >= 2000 and year <= 2013:\n",
        "    return 'LE07'\n",
        "  elif year >= 2014 and year <= 2021:\n",
        "    return 'LC08'"
      ],
      "metadata": {
        "id": "-TnXdDICJiBz"
      },
      "execution_count": 15,
      "outputs": []
    },
    {
      "cell_type": "code",
      "source": [
        "# Function that clips a single Landsat Image given landsat collection number, a year, a roi and a porcentage of cloud contamination\n",
        "def clipLandsatImage(year, landsat_number, cloud_contamination, roi):\n",
        "\n",
        "  landsat_path = 'LANDSAT/' + landsat_number + '/C01/T1_SR'\n",
        "  initial_date = str(year) + '-01-01'\n",
        "  end_date = str(year) + '-12-31'\n",
        "\n",
        "  landsat_collection = ee.ImageCollection(landsat_path)\n",
        "\n",
        "  clipped_image = landsat_collection\\\n",
        "    .filterBounds(roi)\\\n",
        "    .filterDate(initial_date, end_date)\\\n",
        "    .filter(ee.Filter.lt('CLOUD_COVER', cloud_contamination))\\\n",
        "    .map(cloudMaskL8 if landsat_number == 'LC08' else cloudMaskL457)\\\n",
        "    .median()\\\n",
        "    .clip(roi)\n",
        "\n",
        "  return clipped_image"
      ],
      "metadata": {
        "id": "tvVJqza8J2G1"
      },
      "execution_count": 24,
      "outputs": []
    },
    {
      "cell_type": "code",
      "source": [
        "# Function that clips n Landsat Images in a range of years, given a cloud contamination percentage and a roi\n",
        "def clipLandsatImagesInRange(initial_year, end_year, cloud_contamination, roi):\n",
        "  clipped_images = []\n",
        "  for year in range(initial_year, end_year + 1):\n",
        "    landsat_num = getLandsatCollectionNumber(year)\n",
        "    clipped_images.append(clipLandsatImage(year, landsat_num, cloud_contamination, roi_geom))\n",
        "  print(\"Number of clipped images: \", len(clipped_images))\n",
        "  return clipped_images"
      ],
      "metadata": {
        "id": "zRnceTQVKzbc"
      },
      "execution_count": 25,
      "outputs": []
    },
    {
      "cell_type": "code",
      "source": [
        "clipped_images = clipLandsatImagesInRange(initial_year=1992, end_year=2021, cloud_contamination=30, roi=roi_geom)"
      ],
      "metadata": {
        "colab": {
          "base_uri": "https://localhost:8080/"
        },
        "id": "vaQYAZdsNRUc",
        "outputId": "81740fb4-be3f-4f9f-88de-32933dd6e5de"
      },
      "execution_count": 26,
      "outputs": [
        {
          "output_type": "stream",
          "name": "stdout",
          "text": [
            "Number of clipped images:  30\n"
          ]
        }
      ]
    },
    {
      "cell_type": "code",
      "source": [
        "# Define a map centered on El Salvador\n",
        "my_map = folium.Map(location=[sv_lat, sv_lon], zoom_start=9, max_bounds=True)"
      ],
      "metadata": {
        "id": "Z38a2jEn9Bmb"
      },
      "execution_count": 27,
      "outputs": []
    },
    {
      "cell_type": "code",
      "source": [
        "#Add Boundaries layer\n",
        "# Reference: https://developers.google.com/earth-engine/guides/feature_collections_visualizing\n",
        "my_map.add_ee_layer(roi_fc.draw('006600', 3, 2), {}, 'Study Area Boundaries')"
      ],
      "metadata": {
        "id": "DjazjJou9LhB"
      },
      "execution_count": 28,
      "outputs": []
    },
    {
      "cell_type": "code",
      "source": [
        "# Set visualization parameters\n",
        "vis_params_L8 = {\n",
        "    'bands':['B4', 'B3', 'B2'], \n",
        "    'min': 0, \n",
        "    'max': 3000, \n",
        "    'gamma': 1.4\n",
        "}\n",
        "\n",
        "# Set visualization parameters\n",
        "vis_params_L457 = {\n",
        "    'bands':['B3', 'B2', 'B1'], \n",
        "    'min': 0, \n",
        "    'max': 3000, \n",
        "    'gamma': 1.4\n",
        "}"
      ],
      "metadata": {
        "id": "F8eveWQk96xl"
      },
      "execution_count": 29,
      "outputs": []
    },
    {
      "cell_type": "code",
      "source": [
        "initial_year = 1992\n",
        "end_year = 2021\n",
        "for year in range(initial_year, end_year + 1):\n",
        "  my_map.add_ee_layer(clipped_images[year - initial_year], vis_params_L8 if year >= 2014 else vis_params_L457, 'Landsat ' + str(year))"
      ],
      "metadata": {
        "id": "W3C2EaeE9N5a"
      },
      "execution_count": 30,
      "outputs": []
    },
    {
      "cell_type": "code",
      "source": [
        "# Add a layer control panel to the map\n",
        "my_map.add_child(folium.LayerControl())\n",
        "\n",
        "# Displays the map\n",
        "display(my_map)"
      ],
      "metadata": {
        "id": "162WWw6b-bjb",
        "outputId": "da887877-b02f-4226-e549-286cd88bfd52",
        "colab": {
          "base_uri": "https://localhost:8080/",
          "height": 763
        }
      },
      "execution_count": 31,
      "outputs": [
        {
          "output_type": "display_data",
          "data": {
            "text/plain": [
              "<folium.folium.Map at 0x7fe370d82290>"
            ],
            "text/html": [
              "<div style=\"width:100%;\"><div style=\"position:relative;width:100%;height:0;padding-bottom:60%;\"><span style=\"color:#565656\">Make this Notebook Trusted to load map: File -> Trust Notebook</span><iframe srcdoc=\"&lt;!DOCTYPE html&gt;\n",
              "&lt;head&gt;    \n",
              "    &lt;meta http-equiv=&quot;content-type&quot; content=&quot;text/html; charset=UTF-8&quot; /&gt;\n",
              "    &lt;script&gt;L_PREFER_CANVAS=false; L_NO_TOUCH=false; L_DISABLE_3D=false;&lt;/script&gt;\n",
              "    &lt;script src=&quot;https://cdn.jsdelivr.net/npm/leaflet@1.4.0/dist/leaflet.js&quot;&gt;&lt;/script&gt;\n",
              "    &lt;script src=&quot;https://code.jquery.com/jquery-1.12.4.min.js&quot;&gt;&lt;/script&gt;\n",
              "    &lt;script src=&quot;https://maxcdn.bootstrapcdn.com/bootstrap/3.2.0/js/bootstrap.min.js&quot;&gt;&lt;/script&gt;\n",
              "    &lt;script src=&quot;https://cdnjs.cloudflare.com/ajax/libs/Leaflet.awesome-markers/2.0.2/leaflet.awesome-markers.js&quot;&gt;&lt;/script&gt;\n",
              "    &lt;link rel=&quot;stylesheet&quot; href=&quot;https://cdn.jsdelivr.net/npm/leaflet@1.4.0/dist/leaflet.css&quot;/&gt;\n",
              "    &lt;link rel=&quot;stylesheet&quot; href=&quot;https://maxcdn.bootstrapcdn.com/bootstrap/3.2.0/css/bootstrap.min.css&quot;/&gt;\n",
              "    &lt;link rel=&quot;stylesheet&quot; href=&quot;https://maxcdn.bootstrapcdn.com/bootstrap/3.2.0/css/bootstrap-theme.min.css&quot;/&gt;\n",
              "    &lt;link rel=&quot;stylesheet&quot; href=&quot;https://maxcdn.bootstrapcdn.com/font-awesome/4.6.3/css/font-awesome.min.css&quot;/&gt;\n",
              "    &lt;link rel=&quot;stylesheet&quot; href=&quot;https://cdnjs.cloudflare.com/ajax/libs/Leaflet.awesome-markers/2.0.2/leaflet.awesome-markers.css&quot;/&gt;\n",
              "    &lt;link rel=&quot;stylesheet&quot; href=&quot;https://rawcdn.githack.com/python-visualization/folium/master/folium/templates/leaflet.awesome.rotate.css&quot;/&gt;\n",
              "    &lt;style&gt;html, body {width: 100%;height: 100%;margin: 0;padding: 0;}&lt;/style&gt;\n",
              "    &lt;style&gt;#map {position:absolute;top:0;bottom:0;right:0;left:0;}&lt;/style&gt;\n",
              "    \n",
              "    &lt;meta name=&quot;viewport&quot; content=&quot;width=device-width,\n",
              "        initial-scale=1.0, maximum-scale=1.0, user-scalable=no&quot; /&gt;\n",
              "    &lt;style&gt;#map_ecc0899d798315862927b18452c4f07a {\n",
              "        position: relative;\n",
              "        width: 100.0%;\n",
              "        height: 100.0%;\n",
              "        left: 0.0%;\n",
              "        top: 0.0%;\n",
              "        }\n",
              "    &lt;/style&gt;\n",
              "&lt;/head&gt;\n",
              "&lt;body&gt;    \n",
              "    \n",
              "    &lt;div class=&quot;folium-map&quot; id=&quot;map_ecc0899d798315862927b18452c4f07a&quot; &gt;&lt;/div&gt;\n",
              "&lt;/body&gt;\n",
              "&lt;script&gt;    \n",
              "    \n",
              "    \n",
              "        var southWest = L.latLng(-90, -180);\n",
              "        var northEast = L.latLng(90, 180);\n",
              "        var bounds = L.latLngBounds(southWest, northEast);\n",
              "    \n",
              "\n",
              "    var map_ecc0899d798315862927b18452c4f07a = L.map(\n",
              "        &#x27;map_ecc0899d798315862927b18452c4f07a&#x27;, {\n",
              "        center: [13.794185, -88.89653],\n",
              "        zoom: 9,\n",
              "        maxBounds: bounds,\n",
              "        layers: [],\n",
              "        worldCopyJump: false,\n",
              "        crs: L.CRS.EPSG3857,\n",
              "        zoomControl: true,\n",
              "        });\n",
              "\n",
              "\n",
              "    \n",
              "    var tile_layer_cd8d555156edc354188e663b3dff70a6 = L.tileLayer(\n",
              "        &#x27;https://{s}.tile.openstreetmap.org/{z}/{x}/{y}.png&#x27;,\n",
              "        {\n",
              "        &quot;attribution&quot;: null,\n",
              "        &quot;detectRetina&quot;: false,\n",
              "        &quot;maxNativeZoom&quot;: 18,\n",
              "        &quot;maxZoom&quot;: 18,\n",
              "        &quot;minZoom&quot;: 0,\n",
              "        &quot;noWrap&quot;: false,\n",
              "        &quot;opacity&quot;: 1,\n",
              "        &quot;subdomains&quot;: &quot;abc&quot;,\n",
              "        &quot;tms&quot;: false\n",
              "}).addTo(map_ecc0899d798315862927b18452c4f07a);\n",
              "    var tile_layer_dc2c612fea952550520ab0df714050bd = L.tileLayer(\n",
              "        &#x27;https://earthengine.googleapis.com/v1alpha/projects/earthengine-legacy/maps/f6a616aab17f0ed5506b468e5e4945ff-d5698a6df936a9167947931bb1bc2ffb/tiles/{z}/{x}/{y}&#x27;,\n",
              "        {\n",
              "        &quot;attribution&quot;: &quot;Map Data &amp;copy; &lt;a href=\\&quot;https://earthengine.google.com/\\&quot;&gt;Google Earth Engine&lt;/a&gt;&quot;,\n",
              "        &quot;detectRetina&quot;: false,\n",
              "        &quot;maxNativeZoom&quot;: 18,\n",
              "        &quot;maxZoom&quot;: 18,\n",
              "        &quot;minZoom&quot;: 0,\n",
              "        &quot;noWrap&quot;: false,\n",
              "        &quot;opacity&quot;: 1,\n",
              "        &quot;subdomains&quot;: &quot;abc&quot;,\n",
              "        &quot;tms&quot;: false\n",
              "}).addTo(map_ecc0899d798315862927b18452c4f07a);\n",
              "    var tile_layer_0bd8f534770810fbd5d662f141c1b61b = L.tileLayer(\n",
              "        &#x27;https://earthengine.googleapis.com/v1alpha/projects/earthengine-legacy/maps/6b27eb3f0c2c2f9d088ac5c209da6d51-b77d67c6a125431a2f07cdd71b1bc054/tiles/{z}/{x}/{y}&#x27;,\n",
              "        {\n",
              "        &quot;attribution&quot;: &quot;Map Data &amp;copy; &lt;a href=\\&quot;https://earthengine.google.com/\\&quot;&gt;Google Earth Engine&lt;/a&gt;&quot;,\n",
              "        &quot;detectRetina&quot;: false,\n",
              "        &quot;maxNativeZoom&quot;: 18,\n",
              "        &quot;maxZoom&quot;: 18,\n",
              "        &quot;minZoom&quot;: 0,\n",
              "        &quot;noWrap&quot;: false,\n",
              "        &quot;opacity&quot;: 1,\n",
              "        &quot;subdomains&quot;: &quot;abc&quot;,\n",
              "        &quot;tms&quot;: false\n",
              "}).addTo(map_ecc0899d798315862927b18452c4f07a);\n",
              "    var tile_layer_a137302c6c85dd9e7f830335d85f9d28 = L.tileLayer(\n",
              "        &#x27;https://earthengine.googleapis.com/v1alpha/projects/earthengine-legacy/maps/0581544605dff9cb0160551c7a26fbb0-d9d9888684dd0e9efbe467204cef4988/tiles/{z}/{x}/{y}&#x27;,\n",
              "        {\n",
              "        &quot;attribution&quot;: &quot;Map Data &amp;copy; &lt;a href=\\&quot;https://earthengine.google.com/\\&quot;&gt;Google Earth Engine&lt;/a&gt;&quot;,\n",
              "        &quot;detectRetina&quot;: false,\n",
              "        &quot;maxNativeZoom&quot;: 18,\n",
              "        &quot;maxZoom&quot;: 18,\n",
              "        &quot;minZoom&quot;: 0,\n",
              "        &quot;noWrap&quot;: false,\n",
              "        &quot;opacity&quot;: 1,\n",
              "        &quot;subdomains&quot;: &quot;abc&quot;,\n",
              "        &quot;tms&quot;: false\n",
              "}).addTo(map_ecc0899d798315862927b18452c4f07a);\n",
              "    var tile_layer_10f300fb068919866a194b732c2a8a36 = L.tileLayer(\n",
              "        &#x27;https://earthengine.googleapis.com/v1alpha/projects/earthengine-legacy/maps/50e9de0f8299e94f5eac1a04fbedfa0f-271c91c3c77a76614c16c37090455b40/tiles/{z}/{x}/{y}&#x27;,\n",
              "        {\n",
              "        &quot;attribution&quot;: &quot;Map Data &amp;copy; &lt;a href=\\&quot;https://earthengine.google.com/\\&quot;&gt;Google Earth Engine&lt;/a&gt;&quot;,\n",
              "        &quot;detectRetina&quot;: false,\n",
              "        &quot;maxNativeZoom&quot;: 18,\n",
              "        &quot;maxZoom&quot;: 18,\n",
              "        &quot;minZoom&quot;: 0,\n",
              "        &quot;noWrap&quot;: false,\n",
              "        &quot;opacity&quot;: 1,\n",
              "        &quot;subdomains&quot;: &quot;abc&quot;,\n",
              "        &quot;tms&quot;: false\n",
              "}).addTo(map_ecc0899d798315862927b18452c4f07a);\n",
              "    var tile_layer_e4c5bbcc86c008a1bb30caac50b22a46 = L.tileLayer(\n",
              "        &#x27;https://earthengine.googleapis.com/v1alpha/projects/earthengine-legacy/maps/cc72822147cfd5dfd9d6973821003070-bb37a382382bba7299ddfb1f46aeadb5/tiles/{z}/{x}/{y}&#x27;,\n",
              "        {\n",
              "        &quot;attribution&quot;: &quot;Map Data &amp;copy; &lt;a href=\\&quot;https://earthengine.google.com/\\&quot;&gt;Google Earth Engine&lt;/a&gt;&quot;,\n",
              "        &quot;detectRetina&quot;: false,\n",
              "        &quot;maxNativeZoom&quot;: 18,\n",
              "        &quot;maxZoom&quot;: 18,\n",
              "        &quot;minZoom&quot;: 0,\n",
              "        &quot;noWrap&quot;: false,\n",
              "        &quot;opacity&quot;: 1,\n",
              "        &quot;subdomains&quot;: &quot;abc&quot;,\n",
              "        &quot;tms&quot;: false\n",
              "}).addTo(map_ecc0899d798315862927b18452c4f07a);\n",
              "    var tile_layer_31a6714a1630fd40fe387b237f752749 = L.tileLayer(\n",
              "        &#x27;https://earthengine.googleapis.com/v1alpha/projects/earthengine-legacy/maps/21285b20ae630408eb59aa764363fd40-2553ef3caae1050126fe930197429316/tiles/{z}/{x}/{y}&#x27;,\n",
              "        {\n",
              "        &quot;attribution&quot;: &quot;Map Data &amp;copy; &lt;a href=\\&quot;https://earthengine.google.com/\\&quot;&gt;Google Earth Engine&lt;/a&gt;&quot;,\n",
              "        &quot;detectRetina&quot;: false,\n",
              "        &quot;maxNativeZoom&quot;: 18,\n",
              "        &quot;maxZoom&quot;: 18,\n",
              "        &quot;minZoom&quot;: 0,\n",
              "        &quot;noWrap&quot;: false,\n",
              "        &quot;opacity&quot;: 1,\n",
              "        &quot;subdomains&quot;: &quot;abc&quot;,\n",
              "        &quot;tms&quot;: false\n",
              "}).addTo(map_ecc0899d798315862927b18452c4f07a);\n",
              "    var tile_layer_cdec0277a9036731842fdf02f8d231d1 = L.tileLayer(\n",
              "        &#x27;https://earthengine.googleapis.com/v1alpha/projects/earthengine-legacy/maps/68675972dd91736672523feed1bdb06d-2b93c04fdf0ca5a6aa677c5660170066/tiles/{z}/{x}/{y}&#x27;,\n",
              "        {\n",
              "        &quot;attribution&quot;: &quot;Map Data &amp;copy; &lt;a href=\\&quot;https://earthengine.google.com/\\&quot;&gt;Google Earth Engine&lt;/a&gt;&quot;,\n",
              "        &quot;detectRetina&quot;: false,\n",
              "        &quot;maxNativeZoom&quot;: 18,\n",
              "        &quot;maxZoom&quot;: 18,\n",
              "        &quot;minZoom&quot;: 0,\n",
              "        &quot;noWrap&quot;: false,\n",
              "        &quot;opacity&quot;: 1,\n",
              "        &quot;subdomains&quot;: &quot;abc&quot;,\n",
              "        &quot;tms&quot;: false\n",
              "}).addTo(map_ecc0899d798315862927b18452c4f07a);\n",
              "    var tile_layer_e2ef58d00ffa000572959446f4d165a3 = L.tileLayer(\n",
              "        &#x27;https://earthengine.googleapis.com/v1alpha/projects/earthengine-legacy/maps/a29d7c5f84ed2a564edfa4dd3ba379c2-d8a7ed1606fd83d3d72bd863e24e4cc5/tiles/{z}/{x}/{y}&#x27;,\n",
              "        {\n",
              "        &quot;attribution&quot;: &quot;Map Data &amp;copy; &lt;a href=\\&quot;https://earthengine.google.com/\\&quot;&gt;Google Earth Engine&lt;/a&gt;&quot;,\n",
              "        &quot;detectRetina&quot;: false,\n",
              "        &quot;maxNativeZoom&quot;: 18,\n",
              "        &quot;maxZoom&quot;: 18,\n",
              "        &quot;minZoom&quot;: 0,\n",
              "        &quot;noWrap&quot;: false,\n",
              "        &quot;opacity&quot;: 1,\n",
              "        &quot;subdomains&quot;: &quot;abc&quot;,\n",
              "        &quot;tms&quot;: false\n",
              "}).addTo(map_ecc0899d798315862927b18452c4f07a);\n",
              "    var tile_layer_6c03ed376575b1264e9a0d3295faf78e = L.tileLayer(\n",
              "        &#x27;https://earthengine.googleapis.com/v1alpha/projects/earthengine-legacy/maps/019bdbc0828d1cca6942d5e86dab5a76-d5020592334f773cbee05bfef27427d2/tiles/{z}/{x}/{y}&#x27;,\n",
              "        {\n",
              "        &quot;attribution&quot;: &quot;Map Data &amp;copy; &lt;a href=\\&quot;https://earthengine.google.com/\\&quot;&gt;Google Earth Engine&lt;/a&gt;&quot;,\n",
              "        &quot;detectRetina&quot;: false,\n",
              "        &quot;maxNativeZoom&quot;: 18,\n",
              "        &quot;maxZoom&quot;: 18,\n",
              "        &quot;minZoom&quot;: 0,\n",
              "        &quot;noWrap&quot;: false,\n",
              "        &quot;opacity&quot;: 1,\n",
              "        &quot;subdomains&quot;: &quot;abc&quot;,\n",
              "        &quot;tms&quot;: false\n",
              "}).addTo(map_ecc0899d798315862927b18452c4f07a);\n",
              "    var tile_layer_0b53eeef4c1c3f0f8af5bc34e8ab13aa = L.tileLayer(\n",
              "        &#x27;https://earthengine.googleapis.com/v1alpha/projects/earthengine-legacy/maps/609182294955cbe555846c60bc87c856-34cb8abcd22d89338aabc04b786fcc89/tiles/{z}/{x}/{y}&#x27;,\n",
              "        {\n",
              "        &quot;attribution&quot;: &quot;Map Data &amp;copy; &lt;a href=\\&quot;https://earthengine.google.com/\\&quot;&gt;Google Earth Engine&lt;/a&gt;&quot;,\n",
              "        &quot;detectRetina&quot;: false,\n",
              "        &quot;maxNativeZoom&quot;: 18,\n",
              "        &quot;maxZoom&quot;: 18,\n",
              "        &quot;minZoom&quot;: 0,\n",
              "        &quot;noWrap&quot;: false,\n",
              "        &quot;opacity&quot;: 1,\n",
              "        &quot;subdomains&quot;: &quot;abc&quot;,\n",
              "        &quot;tms&quot;: false\n",
              "}).addTo(map_ecc0899d798315862927b18452c4f07a);\n",
              "    var tile_layer_bdbabef5ccf67659e36540a9a5bc7559 = L.tileLayer(\n",
              "        &#x27;https://earthengine.googleapis.com/v1alpha/projects/earthengine-legacy/maps/bebd57a5cc2339f40e67ba418193af42-9c71b24bcf7765d5dc7f7816b3f06dd8/tiles/{z}/{x}/{y}&#x27;,\n",
              "        {\n",
              "        &quot;attribution&quot;: &quot;Map Data &amp;copy; &lt;a href=\\&quot;https://earthengine.google.com/\\&quot;&gt;Google Earth Engine&lt;/a&gt;&quot;,\n",
              "        &quot;detectRetina&quot;: false,\n",
              "        &quot;maxNativeZoom&quot;: 18,\n",
              "        &quot;maxZoom&quot;: 18,\n",
              "        &quot;minZoom&quot;: 0,\n",
              "        &quot;noWrap&quot;: false,\n",
              "        &quot;opacity&quot;: 1,\n",
              "        &quot;subdomains&quot;: &quot;abc&quot;,\n",
              "        &quot;tms&quot;: false\n",
              "}).addTo(map_ecc0899d798315862927b18452c4f07a);\n",
              "    var tile_layer_1de6e4febb7392d7239ec28ab70d6dd1 = L.tileLayer(\n",
              "        &#x27;https://earthengine.googleapis.com/v1alpha/projects/earthengine-legacy/maps/707fb39e4fb7f76e481c63fbc3923bbd-a0b86bf0f147715bf1d01625b3e62d4c/tiles/{z}/{x}/{y}&#x27;,\n",
              "        {\n",
              "        &quot;attribution&quot;: &quot;Map Data &amp;copy; &lt;a href=\\&quot;https://earthengine.google.com/\\&quot;&gt;Google Earth Engine&lt;/a&gt;&quot;,\n",
              "        &quot;detectRetina&quot;: false,\n",
              "        &quot;maxNativeZoom&quot;: 18,\n",
              "        &quot;maxZoom&quot;: 18,\n",
              "        &quot;minZoom&quot;: 0,\n",
              "        &quot;noWrap&quot;: false,\n",
              "        &quot;opacity&quot;: 1,\n",
              "        &quot;subdomains&quot;: &quot;abc&quot;,\n",
              "        &quot;tms&quot;: false\n",
              "}).addTo(map_ecc0899d798315862927b18452c4f07a);\n",
              "    var tile_layer_181ea6302b0456ad60bf31f1619fd4a8 = L.tileLayer(\n",
              "        &#x27;https://earthengine.googleapis.com/v1alpha/projects/earthengine-legacy/maps/2fca45a2766c934b7725f51461bcd15f-f2d151a31db8d23baac22326b80473fc/tiles/{z}/{x}/{y}&#x27;,\n",
              "        {\n",
              "        &quot;attribution&quot;: &quot;Map Data &amp;copy; &lt;a href=\\&quot;https://earthengine.google.com/\\&quot;&gt;Google Earth Engine&lt;/a&gt;&quot;,\n",
              "        &quot;detectRetina&quot;: false,\n",
              "        &quot;maxNativeZoom&quot;: 18,\n",
              "        &quot;maxZoom&quot;: 18,\n",
              "        &quot;minZoom&quot;: 0,\n",
              "        &quot;noWrap&quot;: false,\n",
              "        &quot;opacity&quot;: 1,\n",
              "        &quot;subdomains&quot;: &quot;abc&quot;,\n",
              "        &quot;tms&quot;: false\n",
              "}).addTo(map_ecc0899d798315862927b18452c4f07a);\n",
              "    var tile_layer_f3c91ef9867bdf6bcd79b575bc93dac7 = L.tileLayer(\n",
              "        &#x27;https://earthengine.googleapis.com/v1alpha/projects/earthengine-legacy/maps/d01c755cafe6907a058d4a487ab54791-98759bfbcadc62580756b9ca3f75b6ce/tiles/{z}/{x}/{y}&#x27;,\n",
              "        {\n",
              "        &quot;attribution&quot;: &quot;Map Data &amp;copy; &lt;a href=\\&quot;https://earthengine.google.com/\\&quot;&gt;Google Earth Engine&lt;/a&gt;&quot;,\n",
              "        &quot;detectRetina&quot;: false,\n",
              "        &quot;maxNativeZoom&quot;: 18,\n",
              "        &quot;maxZoom&quot;: 18,\n",
              "        &quot;minZoom&quot;: 0,\n",
              "        &quot;noWrap&quot;: false,\n",
              "        &quot;opacity&quot;: 1,\n",
              "        &quot;subdomains&quot;: &quot;abc&quot;,\n",
              "        &quot;tms&quot;: false\n",
              "}).addTo(map_ecc0899d798315862927b18452c4f07a);\n",
              "    var tile_layer_8f811f6e273dafbc448631a64113803e = L.tileLayer(\n",
              "        &#x27;https://earthengine.googleapis.com/v1alpha/projects/earthengine-legacy/maps/ad5d4788950535a882673b13bb1e7e51-a60c11a31f188723bc006687d48e4c20/tiles/{z}/{x}/{y}&#x27;,\n",
              "        {\n",
              "        &quot;attribution&quot;: &quot;Map Data &amp;copy; &lt;a href=\\&quot;https://earthengine.google.com/\\&quot;&gt;Google Earth Engine&lt;/a&gt;&quot;,\n",
              "        &quot;detectRetina&quot;: false,\n",
              "        &quot;maxNativeZoom&quot;: 18,\n",
              "        &quot;maxZoom&quot;: 18,\n",
              "        &quot;minZoom&quot;: 0,\n",
              "        &quot;noWrap&quot;: false,\n",
              "        &quot;opacity&quot;: 1,\n",
              "        &quot;subdomains&quot;: &quot;abc&quot;,\n",
              "        &quot;tms&quot;: false\n",
              "}).addTo(map_ecc0899d798315862927b18452c4f07a);\n",
              "    var tile_layer_dbdad5b953c4a6fcdf937c3791cce375 = L.tileLayer(\n",
              "        &#x27;https://earthengine.googleapis.com/v1alpha/projects/earthengine-legacy/maps/8ebda279e4cd8e409e127d5299212f59-a3520e81385d09c05f361a4b0e17451d/tiles/{z}/{x}/{y}&#x27;,\n",
              "        {\n",
              "        &quot;attribution&quot;: &quot;Map Data &amp;copy; &lt;a href=\\&quot;https://earthengine.google.com/\\&quot;&gt;Google Earth Engine&lt;/a&gt;&quot;,\n",
              "        &quot;detectRetina&quot;: false,\n",
              "        &quot;maxNativeZoom&quot;: 18,\n",
              "        &quot;maxZoom&quot;: 18,\n",
              "        &quot;minZoom&quot;: 0,\n",
              "        &quot;noWrap&quot;: false,\n",
              "        &quot;opacity&quot;: 1,\n",
              "        &quot;subdomains&quot;: &quot;abc&quot;,\n",
              "        &quot;tms&quot;: false\n",
              "}).addTo(map_ecc0899d798315862927b18452c4f07a);\n",
              "    var tile_layer_611c4c32f192b658c3ce920d816afcf0 = L.tileLayer(\n",
              "        &#x27;https://earthengine.googleapis.com/v1alpha/projects/earthengine-legacy/maps/a88d04d53f3dd30e52156ec1e7bfb76a-da9cc40bb17642c4ea78560bd82b477e/tiles/{z}/{x}/{y}&#x27;,\n",
              "        {\n",
              "        &quot;attribution&quot;: &quot;Map Data &amp;copy; &lt;a href=\\&quot;https://earthengine.google.com/\\&quot;&gt;Google Earth Engine&lt;/a&gt;&quot;,\n",
              "        &quot;detectRetina&quot;: false,\n",
              "        &quot;maxNativeZoom&quot;: 18,\n",
              "        &quot;maxZoom&quot;: 18,\n",
              "        &quot;minZoom&quot;: 0,\n",
              "        &quot;noWrap&quot;: false,\n",
              "        &quot;opacity&quot;: 1,\n",
              "        &quot;subdomains&quot;: &quot;abc&quot;,\n",
              "        &quot;tms&quot;: false\n",
              "}).addTo(map_ecc0899d798315862927b18452c4f07a);\n",
              "    var tile_layer_d9c9e5a84f0385ebdfd285cd74250f5b = L.tileLayer(\n",
              "        &#x27;https://earthengine.googleapis.com/v1alpha/projects/earthengine-legacy/maps/791890f7c9f45698b3dd62401ddb84c3-7ac1d28c08ac0688be3784466af37b96/tiles/{z}/{x}/{y}&#x27;,\n",
              "        {\n",
              "        &quot;attribution&quot;: &quot;Map Data &amp;copy; &lt;a href=\\&quot;https://earthengine.google.com/\\&quot;&gt;Google Earth Engine&lt;/a&gt;&quot;,\n",
              "        &quot;detectRetina&quot;: false,\n",
              "        &quot;maxNativeZoom&quot;: 18,\n",
              "        &quot;maxZoom&quot;: 18,\n",
              "        &quot;minZoom&quot;: 0,\n",
              "        &quot;noWrap&quot;: false,\n",
              "        &quot;opacity&quot;: 1,\n",
              "        &quot;subdomains&quot;: &quot;abc&quot;,\n",
              "        &quot;tms&quot;: false\n",
              "}).addTo(map_ecc0899d798315862927b18452c4f07a);\n",
              "    var tile_layer_4f46e2f2483f17f4777bb1209d072c8a = L.tileLayer(\n",
              "        &#x27;https://earthengine.googleapis.com/v1alpha/projects/earthengine-legacy/maps/d0b1ce2aa6d3cfced41c73ec0d454f95-5818ad40637bc00a108a9a2c956a8fcf/tiles/{z}/{x}/{y}&#x27;,\n",
              "        {\n",
              "        &quot;attribution&quot;: &quot;Map Data &amp;copy; &lt;a href=\\&quot;https://earthengine.google.com/\\&quot;&gt;Google Earth Engine&lt;/a&gt;&quot;,\n",
              "        &quot;detectRetina&quot;: false,\n",
              "        &quot;maxNativeZoom&quot;: 18,\n",
              "        &quot;maxZoom&quot;: 18,\n",
              "        &quot;minZoom&quot;: 0,\n",
              "        &quot;noWrap&quot;: false,\n",
              "        &quot;opacity&quot;: 1,\n",
              "        &quot;subdomains&quot;: &quot;abc&quot;,\n",
              "        &quot;tms&quot;: false\n",
              "}).addTo(map_ecc0899d798315862927b18452c4f07a);\n",
              "    var tile_layer_01bda7da7d619c3f78f336bead25418a = L.tileLayer(\n",
              "        &#x27;https://earthengine.googleapis.com/v1alpha/projects/earthengine-legacy/maps/98ceabbea8fb736437c42802558f5219-bf86e768b63ae5c6f06a5a821bec2e50/tiles/{z}/{x}/{y}&#x27;,\n",
              "        {\n",
              "        &quot;attribution&quot;: &quot;Map Data &amp;copy; &lt;a href=\\&quot;https://earthengine.google.com/\\&quot;&gt;Google Earth Engine&lt;/a&gt;&quot;,\n",
              "        &quot;detectRetina&quot;: false,\n",
              "        &quot;maxNativeZoom&quot;: 18,\n",
              "        &quot;maxZoom&quot;: 18,\n",
              "        &quot;minZoom&quot;: 0,\n",
              "        &quot;noWrap&quot;: false,\n",
              "        &quot;opacity&quot;: 1,\n",
              "        &quot;subdomains&quot;: &quot;abc&quot;,\n",
              "        &quot;tms&quot;: false\n",
              "}).addTo(map_ecc0899d798315862927b18452c4f07a);\n",
              "    var tile_layer_eed52352e3db64e38db65daad160958e = L.tileLayer(\n",
              "        &#x27;https://earthengine.googleapis.com/v1alpha/projects/earthengine-legacy/maps/56142ebbcdf6dcd06ad6f6242c1545fa-2f468817a61fb1950d9d8182bc5c987c/tiles/{z}/{x}/{y}&#x27;,\n",
              "        {\n",
              "        &quot;attribution&quot;: &quot;Map Data &amp;copy; &lt;a href=\\&quot;https://earthengine.google.com/\\&quot;&gt;Google Earth Engine&lt;/a&gt;&quot;,\n",
              "        &quot;detectRetina&quot;: false,\n",
              "        &quot;maxNativeZoom&quot;: 18,\n",
              "        &quot;maxZoom&quot;: 18,\n",
              "        &quot;minZoom&quot;: 0,\n",
              "        &quot;noWrap&quot;: false,\n",
              "        &quot;opacity&quot;: 1,\n",
              "        &quot;subdomains&quot;: &quot;abc&quot;,\n",
              "        &quot;tms&quot;: false\n",
              "}).addTo(map_ecc0899d798315862927b18452c4f07a);\n",
              "    var tile_layer_1e01df98e1c58ea4aacc1435a19ae8dd = L.tileLayer(\n",
              "        &#x27;https://earthengine.googleapis.com/v1alpha/projects/earthengine-legacy/maps/4aa3dde37bc3d225d4c683a2759afdf4-3acba1a2b0081afb63734519e3335d65/tiles/{z}/{x}/{y}&#x27;,\n",
              "        {\n",
              "        &quot;attribution&quot;: &quot;Map Data &amp;copy; &lt;a href=\\&quot;https://earthengine.google.com/\\&quot;&gt;Google Earth Engine&lt;/a&gt;&quot;,\n",
              "        &quot;detectRetina&quot;: false,\n",
              "        &quot;maxNativeZoom&quot;: 18,\n",
              "        &quot;maxZoom&quot;: 18,\n",
              "        &quot;minZoom&quot;: 0,\n",
              "        &quot;noWrap&quot;: false,\n",
              "        &quot;opacity&quot;: 1,\n",
              "        &quot;subdomains&quot;: &quot;abc&quot;,\n",
              "        &quot;tms&quot;: false\n",
              "}).addTo(map_ecc0899d798315862927b18452c4f07a);\n",
              "    var tile_layer_8e9eb63492bcdfd99e14807497e47b89 = L.tileLayer(\n",
              "        &#x27;https://earthengine.googleapis.com/v1alpha/projects/earthengine-legacy/maps/7e78a15f5fd5b8a8b91782b19e453034-ab48dcbea474aee6abc27fbd007bf234/tiles/{z}/{x}/{y}&#x27;,\n",
              "        {\n",
              "        &quot;attribution&quot;: &quot;Map Data &amp;copy; &lt;a href=\\&quot;https://earthengine.google.com/\\&quot;&gt;Google Earth Engine&lt;/a&gt;&quot;,\n",
              "        &quot;detectRetina&quot;: false,\n",
              "        &quot;maxNativeZoom&quot;: 18,\n",
              "        &quot;maxZoom&quot;: 18,\n",
              "        &quot;minZoom&quot;: 0,\n",
              "        &quot;noWrap&quot;: false,\n",
              "        &quot;opacity&quot;: 1,\n",
              "        &quot;subdomains&quot;: &quot;abc&quot;,\n",
              "        &quot;tms&quot;: false\n",
              "}).addTo(map_ecc0899d798315862927b18452c4f07a);\n",
              "    var tile_layer_297a38195dca69b6fc67d4ac427e0d52 = L.tileLayer(\n",
              "        &#x27;https://earthengine.googleapis.com/v1alpha/projects/earthengine-legacy/maps/7a96f3ed4b6419a656ba96835245e680-1e9339b973863bf851d3a328e7e1c1c8/tiles/{z}/{x}/{y}&#x27;,\n",
              "        {\n",
              "        &quot;attribution&quot;: &quot;Map Data &amp;copy; &lt;a href=\\&quot;https://earthengine.google.com/\\&quot;&gt;Google Earth Engine&lt;/a&gt;&quot;,\n",
              "        &quot;detectRetina&quot;: false,\n",
              "        &quot;maxNativeZoom&quot;: 18,\n",
              "        &quot;maxZoom&quot;: 18,\n",
              "        &quot;minZoom&quot;: 0,\n",
              "        &quot;noWrap&quot;: false,\n",
              "        &quot;opacity&quot;: 1,\n",
              "        &quot;subdomains&quot;: &quot;abc&quot;,\n",
              "        &quot;tms&quot;: false\n",
              "}).addTo(map_ecc0899d798315862927b18452c4f07a);\n",
              "    var tile_layer_a4cc6d1c019b92f35d460363a98db95c = L.tileLayer(\n",
              "        &#x27;https://earthengine.googleapis.com/v1alpha/projects/earthengine-legacy/maps/e1d4c011c2e6bfca2e59a895a30ac77f-1335dc5c6f7eab88c5b30620d4d466ca/tiles/{z}/{x}/{y}&#x27;,\n",
              "        {\n",
              "        &quot;attribution&quot;: &quot;Map Data &amp;copy; &lt;a href=\\&quot;https://earthengine.google.com/\\&quot;&gt;Google Earth Engine&lt;/a&gt;&quot;,\n",
              "        &quot;detectRetina&quot;: false,\n",
              "        &quot;maxNativeZoom&quot;: 18,\n",
              "        &quot;maxZoom&quot;: 18,\n",
              "        &quot;minZoom&quot;: 0,\n",
              "        &quot;noWrap&quot;: false,\n",
              "        &quot;opacity&quot;: 1,\n",
              "        &quot;subdomains&quot;: &quot;abc&quot;,\n",
              "        &quot;tms&quot;: false\n",
              "}).addTo(map_ecc0899d798315862927b18452c4f07a);\n",
              "    var tile_layer_4211eab8891282f3162f8ca6db765744 = L.tileLayer(\n",
              "        &#x27;https://earthengine.googleapis.com/v1alpha/projects/earthengine-legacy/maps/a7d672059284f3955c275518c5404772-b5806541e598c5dd06d84a42bdf4ae0e/tiles/{z}/{x}/{y}&#x27;,\n",
              "        {\n",
              "        &quot;attribution&quot;: &quot;Map Data &amp;copy; &lt;a href=\\&quot;https://earthengine.google.com/\\&quot;&gt;Google Earth Engine&lt;/a&gt;&quot;,\n",
              "        &quot;detectRetina&quot;: false,\n",
              "        &quot;maxNativeZoom&quot;: 18,\n",
              "        &quot;maxZoom&quot;: 18,\n",
              "        &quot;minZoom&quot;: 0,\n",
              "        &quot;noWrap&quot;: false,\n",
              "        &quot;opacity&quot;: 1,\n",
              "        &quot;subdomains&quot;: &quot;abc&quot;,\n",
              "        &quot;tms&quot;: false\n",
              "}).addTo(map_ecc0899d798315862927b18452c4f07a);\n",
              "    var tile_layer_62280d0cf7e6a239580f750694d5a00d = L.tileLayer(\n",
              "        &#x27;https://earthengine.googleapis.com/v1alpha/projects/earthengine-legacy/maps/8063cfe66efa6a42a6204e32f95e2edf-7db3959c279732b69af47c05872cf7a8/tiles/{z}/{x}/{y}&#x27;,\n",
              "        {\n",
              "        &quot;attribution&quot;: &quot;Map Data &amp;copy; &lt;a href=\\&quot;https://earthengine.google.com/\\&quot;&gt;Google Earth Engine&lt;/a&gt;&quot;,\n",
              "        &quot;detectRetina&quot;: false,\n",
              "        &quot;maxNativeZoom&quot;: 18,\n",
              "        &quot;maxZoom&quot;: 18,\n",
              "        &quot;minZoom&quot;: 0,\n",
              "        &quot;noWrap&quot;: false,\n",
              "        &quot;opacity&quot;: 1,\n",
              "        &quot;subdomains&quot;: &quot;abc&quot;,\n",
              "        &quot;tms&quot;: false\n",
              "}).addTo(map_ecc0899d798315862927b18452c4f07a);\n",
              "    var tile_layer_d9a714495d24fa53e58651ca6f311bbd = L.tileLayer(\n",
              "        &#x27;https://earthengine.googleapis.com/v1alpha/projects/earthengine-legacy/maps/6299041797c70eaecb361380bcb34ded-3aa666d82d11a7dd12b737c81846403d/tiles/{z}/{x}/{y}&#x27;,\n",
              "        {\n",
              "        &quot;attribution&quot;: &quot;Map Data &amp;copy; &lt;a href=\\&quot;https://earthengine.google.com/\\&quot;&gt;Google Earth Engine&lt;/a&gt;&quot;,\n",
              "        &quot;detectRetina&quot;: false,\n",
              "        &quot;maxNativeZoom&quot;: 18,\n",
              "        &quot;maxZoom&quot;: 18,\n",
              "        &quot;minZoom&quot;: 0,\n",
              "        &quot;noWrap&quot;: false,\n",
              "        &quot;opacity&quot;: 1,\n",
              "        &quot;subdomains&quot;: &quot;abc&quot;,\n",
              "        &quot;tms&quot;: false\n",
              "}).addTo(map_ecc0899d798315862927b18452c4f07a);\n",
              "    var tile_layer_f4961d4081aedd9c5d8507270d020fbf = L.tileLayer(\n",
              "        &#x27;https://earthengine.googleapis.com/v1alpha/projects/earthengine-legacy/maps/c0e4a555576314e1e0f8c922a4a64456-c263ba6380f9ba076e11efd6a661a9af/tiles/{z}/{x}/{y}&#x27;,\n",
              "        {\n",
              "        &quot;attribution&quot;: &quot;Map Data &amp;copy; &lt;a href=\\&quot;https://earthengine.google.com/\\&quot;&gt;Google Earth Engine&lt;/a&gt;&quot;,\n",
              "        &quot;detectRetina&quot;: false,\n",
              "        &quot;maxNativeZoom&quot;: 18,\n",
              "        &quot;maxZoom&quot;: 18,\n",
              "        &quot;minZoom&quot;: 0,\n",
              "        &quot;noWrap&quot;: false,\n",
              "        &quot;opacity&quot;: 1,\n",
              "        &quot;subdomains&quot;: &quot;abc&quot;,\n",
              "        &quot;tms&quot;: false\n",
              "}).addTo(map_ecc0899d798315862927b18452c4f07a);\n",
              "    var tile_layer_12de6296a40cb4e345eda80e13e00204 = L.tileLayer(\n",
              "        &#x27;https://earthengine.googleapis.com/v1alpha/projects/earthengine-legacy/maps/c8eddde55cf7d28a57f67bcb658281d6-a3eccc3871358697f0fd596ff414942d/tiles/{z}/{x}/{y}&#x27;,\n",
              "        {\n",
              "        &quot;attribution&quot;: &quot;Map Data &amp;copy; &lt;a href=\\&quot;https://earthengine.google.com/\\&quot;&gt;Google Earth Engine&lt;/a&gt;&quot;,\n",
              "        &quot;detectRetina&quot;: false,\n",
              "        &quot;maxNativeZoom&quot;: 18,\n",
              "        &quot;maxZoom&quot;: 18,\n",
              "        &quot;minZoom&quot;: 0,\n",
              "        &quot;noWrap&quot;: false,\n",
              "        &quot;opacity&quot;: 1,\n",
              "        &quot;subdomains&quot;: &quot;abc&quot;,\n",
              "        &quot;tms&quot;: false\n",
              "}).addTo(map_ecc0899d798315862927b18452c4f07a);\n",
              "    var tile_layer_5b05d030c252914337230ebee100b3f6 = L.tileLayer(\n",
              "        &#x27;https://earthengine.googleapis.com/v1alpha/projects/earthengine-legacy/maps/f46d1a7f12842138b0ef36049d1e9899-fdb9a4c744a59125a2597c757932aeb1/tiles/{z}/{x}/{y}&#x27;,\n",
              "        {\n",
              "        &quot;attribution&quot;: &quot;Map Data &amp;copy; &lt;a href=\\&quot;https://earthengine.google.com/\\&quot;&gt;Google Earth Engine&lt;/a&gt;&quot;,\n",
              "        &quot;detectRetina&quot;: false,\n",
              "        &quot;maxNativeZoom&quot;: 18,\n",
              "        &quot;maxZoom&quot;: 18,\n",
              "        &quot;minZoom&quot;: 0,\n",
              "        &quot;noWrap&quot;: false,\n",
              "        &quot;opacity&quot;: 1,\n",
              "        &quot;subdomains&quot;: &quot;abc&quot;,\n",
              "        &quot;tms&quot;: false\n",
              "}).addTo(map_ecc0899d798315862927b18452c4f07a);\n",
              "    \n",
              "            var layer_control_0ce816332f57241cb6e70441215c3e9b = {\n",
              "                base_layers : { &quot;openstreetmap&quot; : tile_layer_cd8d555156edc354188e663b3dff70a6, },\n",
              "                overlays : { &quot;Study Area Boundaries&quot; : tile_layer_dc2c612fea952550520ab0df714050bd,&quot;Landsat 1992&quot; : tile_layer_0bd8f534770810fbd5d662f141c1b61b,&quot;Landsat 1993&quot; : tile_layer_a137302c6c85dd9e7f830335d85f9d28,&quot;Landsat 1994&quot; : tile_layer_10f300fb068919866a194b732c2a8a36,&quot;Landsat 1995&quot; : tile_layer_e4c5bbcc86c008a1bb30caac50b22a46,&quot;Landsat 1996&quot; : tile_layer_31a6714a1630fd40fe387b237f752749,&quot;Landsat 1997&quot; : tile_layer_cdec0277a9036731842fdf02f8d231d1,&quot;Landsat 1998&quot; : tile_layer_e2ef58d00ffa000572959446f4d165a3,&quot;Landsat 1999&quot; : tile_layer_6c03ed376575b1264e9a0d3295faf78e,&quot;Landsat 2000&quot; : tile_layer_0b53eeef4c1c3f0f8af5bc34e8ab13aa,&quot;Landsat 2001&quot; : tile_layer_bdbabef5ccf67659e36540a9a5bc7559,&quot;Landsat 2002&quot; : tile_layer_1de6e4febb7392d7239ec28ab70d6dd1,&quot;Landsat 2003&quot; : tile_layer_181ea6302b0456ad60bf31f1619fd4a8,&quot;Landsat 2004&quot; : tile_layer_f3c91ef9867bdf6bcd79b575bc93dac7,&quot;Landsat 2005&quot; : tile_layer_8f811f6e273dafbc448631a64113803e,&quot;Landsat 2006&quot; : tile_layer_dbdad5b953c4a6fcdf937c3791cce375,&quot;Landsat 2007&quot; : tile_layer_611c4c32f192b658c3ce920d816afcf0,&quot;Landsat 2008&quot; : tile_layer_d9c9e5a84f0385ebdfd285cd74250f5b,&quot;Landsat 2009&quot; : tile_layer_4f46e2f2483f17f4777bb1209d072c8a,&quot;Landsat 2010&quot; : tile_layer_01bda7da7d619c3f78f336bead25418a,&quot;Landsat 2011&quot; : tile_layer_eed52352e3db64e38db65daad160958e,&quot;Landsat 2012&quot; : tile_layer_1e01df98e1c58ea4aacc1435a19ae8dd,&quot;Landsat 2013&quot; : tile_layer_8e9eb63492bcdfd99e14807497e47b89,&quot;Landsat 2014&quot; : tile_layer_297a38195dca69b6fc67d4ac427e0d52,&quot;Landsat 2015&quot; : tile_layer_a4cc6d1c019b92f35d460363a98db95c,&quot;Landsat 2016&quot; : tile_layer_4211eab8891282f3162f8ca6db765744,&quot;Landsat 2017&quot; : tile_layer_62280d0cf7e6a239580f750694d5a00d,&quot;Landsat 2018&quot; : tile_layer_d9a714495d24fa53e58651ca6f311bbd,&quot;Landsat 2019&quot; : tile_layer_f4961d4081aedd9c5d8507270d020fbf,&quot;Landsat 2020&quot; : tile_layer_12de6296a40cb4e345eda80e13e00204,&quot;Landsat 2021&quot; : tile_layer_5b05d030c252914337230ebee100b3f6, }\n",
              "                };\n",
              "            L.control.layers(\n",
              "                layer_control_0ce816332f57241cb6e70441215c3e9b.base_layers,\n",
              "                layer_control_0ce816332f57241cb6e70441215c3e9b.overlays,\n",
              "                {position: &#x27;topright&#x27;,\n",
              "                 collapsed: true,\n",
              "                 autoZIndex: true\n",
              "                }).addTo(map_ecc0899d798315862927b18452c4f07a);\n",
              "            \n",
              "        \n",
              "&lt;/script&gt;\" style=\"position:absolute;width:100%;height:100%;left:0;top:0;border:none !important;\" allowfullscreen webkitallowfullscreen mozallowfullscreen></iframe></div></div>"
            ]
          },
          "metadata": {}
        }
      ]
    },
    {
      "cell_type": "markdown",
      "source": [
        "#### 1992\n",
        "El mapa de 1992 no se muestra debido a que las imagenes estan altamente contaminadas de nubes por lo que el filtro de nubes no pasa, asi mismo, sale cortada. En su lugar se usara la imagen de 1991."
      ],
      "metadata": {
        "id": "aqBUsaONT018"
      }
    },
    {
      "cell_type": "code",
      "source": [
        "# Load Landsat Collection\n",
        "landsat_collection = ee.ImageCollection('LANDSAT/LT05/C01/T1_SR')\n",
        "\n",
        "# Clips image to desired area\n",
        "\"\"\"clipped_image = landsat_collection\\\n",
        "  .filterBounds(roi_geom)\\\n",
        "  .filterDate('1991-01-01','1991-12-31')\\\n",
        "  .median()\\\n",
        "  .clip(roi_geom)\"\"\"\n",
        "\n",
        "clipped_image = landsat_collection\\\n",
        "    .filterBounds(roi_geom)\\\n",
        "    .filterDate('1991-01-01','1991-12-31')\\\n",
        "    .filter(ee.Filter.lt('CLOUD_COVER', 20))\\\n",
        "    .map(cloudMaskL457)\\\n",
        "    .median()\\\n",
        "    .clip(roi_geom)\n",
        "\n",
        "  # Define a map centered on El Salvador\n",
        "my_map = folium.Map(location=[sv_lat, sv_lon], zoom_start=9, max_bounds=True)\n",
        "\n",
        "#Add Boundaries layer\n",
        "my_map.add_ee_layer(roi_fc.draw('006600', 3, 2), {}, 'Study Area Boundaries')\n",
        "\n",
        "# Add the clipped image layer\n",
        "my_map.add_ee_layer(clipped_image, vis_params_L457, 'Landsat clipped image L5 - 1992')\n",
        "\n",
        "# Add a layer control panel to the map\n",
        "my_map.add_child(folium.LayerControl())\n",
        "\n",
        "# Displays the map\n",
        "display(my_map)"
      ],
      "metadata": {
        "colab": {
          "base_uri": "https://localhost:8080/",
          "height": 763
        },
        "id": "bCiOGAAHMjhe",
        "outputId": "ce93798f-e510-4605-94c8-16b03bb68132"
      },
      "execution_count": 34,
      "outputs": [
        {
          "output_type": "display_data",
          "data": {
            "text/plain": [
              "<folium.folium.Map at 0x7fe369373310>"
            ],
            "text/html": [
              "<div style=\"width:100%;\"><div style=\"position:relative;width:100%;height:0;padding-bottom:60%;\"><span style=\"color:#565656\">Make this Notebook Trusted to load map: File -> Trust Notebook</span><iframe srcdoc=\"&lt;!DOCTYPE html&gt;\n",
              "&lt;head&gt;    \n",
              "    &lt;meta http-equiv=&quot;content-type&quot; content=&quot;text/html; charset=UTF-8&quot; /&gt;\n",
              "    &lt;script&gt;L_PREFER_CANVAS=false; L_NO_TOUCH=false; L_DISABLE_3D=false;&lt;/script&gt;\n",
              "    &lt;script src=&quot;https://cdn.jsdelivr.net/npm/leaflet@1.4.0/dist/leaflet.js&quot;&gt;&lt;/script&gt;\n",
              "    &lt;script src=&quot;https://code.jquery.com/jquery-1.12.4.min.js&quot;&gt;&lt;/script&gt;\n",
              "    &lt;script src=&quot;https://maxcdn.bootstrapcdn.com/bootstrap/3.2.0/js/bootstrap.min.js&quot;&gt;&lt;/script&gt;\n",
              "    &lt;script src=&quot;https://cdnjs.cloudflare.com/ajax/libs/Leaflet.awesome-markers/2.0.2/leaflet.awesome-markers.js&quot;&gt;&lt;/script&gt;\n",
              "    &lt;link rel=&quot;stylesheet&quot; href=&quot;https://cdn.jsdelivr.net/npm/leaflet@1.4.0/dist/leaflet.css&quot;/&gt;\n",
              "    &lt;link rel=&quot;stylesheet&quot; href=&quot;https://maxcdn.bootstrapcdn.com/bootstrap/3.2.0/css/bootstrap.min.css&quot;/&gt;\n",
              "    &lt;link rel=&quot;stylesheet&quot; href=&quot;https://maxcdn.bootstrapcdn.com/bootstrap/3.2.0/css/bootstrap-theme.min.css&quot;/&gt;\n",
              "    &lt;link rel=&quot;stylesheet&quot; href=&quot;https://maxcdn.bootstrapcdn.com/font-awesome/4.6.3/css/font-awesome.min.css&quot;/&gt;\n",
              "    &lt;link rel=&quot;stylesheet&quot; href=&quot;https://cdnjs.cloudflare.com/ajax/libs/Leaflet.awesome-markers/2.0.2/leaflet.awesome-markers.css&quot;/&gt;\n",
              "    &lt;link rel=&quot;stylesheet&quot; href=&quot;https://rawcdn.githack.com/python-visualization/folium/master/folium/templates/leaflet.awesome.rotate.css&quot;/&gt;\n",
              "    &lt;style&gt;html, body {width: 100%;height: 100%;margin: 0;padding: 0;}&lt;/style&gt;\n",
              "    &lt;style&gt;#map {position:absolute;top:0;bottom:0;right:0;left:0;}&lt;/style&gt;\n",
              "    \n",
              "    &lt;meta name=&quot;viewport&quot; content=&quot;width=device-width,\n",
              "        initial-scale=1.0, maximum-scale=1.0, user-scalable=no&quot; /&gt;\n",
              "    &lt;style&gt;#map_d4cbe5dd71aaa8e16a4c421f323abb4c {\n",
              "        position: relative;\n",
              "        width: 100.0%;\n",
              "        height: 100.0%;\n",
              "        left: 0.0%;\n",
              "        top: 0.0%;\n",
              "        }\n",
              "    &lt;/style&gt;\n",
              "&lt;/head&gt;\n",
              "&lt;body&gt;    \n",
              "    \n",
              "    &lt;div class=&quot;folium-map&quot; id=&quot;map_d4cbe5dd71aaa8e16a4c421f323abb4c&quot; &gt;&lt;/div&gt;\n",
              "&lt;/body&gt;\n",
              "&lt;script&gt;    \n",
              "    \n",
              "    \n",
              "        var southWest = L.latLng(-90, -180);\n",
              "        var northEast = L.latLng(90, 180);\n",
              "        var bounds = L.latLngBounds(southWest, northEast);\n",
              "    \n",
              "\n",
              "    var map_d4cbe5dd71aaa8e16a4c421f323abb4c = L.map(\n",
              "        &#x27;map_d4cbe5dd71aaa8e16a4c421f323abb4c&#x27;, {\n",
              "        center: [13.794185, -88.89653],\n",
              "        zoom: 9,\n",
              "        maxBounds: bounds,\n",
              "        layers: [],\n",
              "        worldCopyJump: false,\n",
              "        crs: L.CRS.EPSG3857,\n",
              "        zoomControl: true,\n",
              "        });\n",
              "\n",
              "\n",
              "    \n",
              "    var tile_layer_dbcd26db0d28cc8520a28b648b158bb8 = L.tileLayer(\n",
              "        &#x27;https://{s}.tile.openstreetmap.org/{z}/{x}/{y}.png&#x27;,\n",
              "        {\n",
              "        &quot;attribution&quot;: null,\n",
              "        &quot;detectRetina&quot;: false,\n",
              "        &quot;maxNativeZoom&quot;: 18,\n",
              "        &quot;maxZoom&quot;: 18,\n",
              "        &quot;minZoom&quot;: 0,\n",
              "        &quot;noWrap&quot;: false,\n",
              "        &quot;opacity&quot;: 1,\n",
              "        &quot;subdomains&quot;: &quot;abc&quot;,\n",
              "        &quot;tms&quot;: false\n",
              "}).addTo(map_d4cbe5dd71aaa8e16a4c421f323abb4c);\n",
              "    var tile_layer_8bed5c8f0691ea9abd3c97170494df4b = L.tileLayer(\n",
              "        &#x27;https://earthengine.googleapis.com/v1alpha/projects/earthengine-legacy/maps/f6a616aab17f0ed5506b468e5e4945ff-7bb434758c2444d4af3c0f1a01da9da3/tiles/{z}/{x}/{y}&#x27;,\n",
              "        {\n",
              "        &quot;attribution&quot;: &quot;Map Data &amp;copy; &lt;a href=\\&quot;https://earthengine.google.com/\\&quot;&gt;Google Earth Engine&lt;/a&gt;&quot;,\n",
              "        &quot;detectRetina&quot;: false,\n",
              "        &quot;maxNativeZoom&quot;: 18,\n",
              "        &quot;maxZoom&quot;: 18,\n",
              "        &quot;minZoom&quot;: 0,\n",
              "        &quot;noWrap&quot;: false,\n",
              "        &quot;opacity&quot;: 1,\n",
              "        &quot;subdomains&quot;: &quot;abc&quot;,\n",
              "        &quot;tms&quot;: false\n",
              "}).addTo(map_d4cbe5dd71aaa8e16a4c421f323abb4c);\n",
              "    var tile_layer_d141e9fdf4bcef573b1cf3dda154558b = L.tileLayer(\n",
              "        &#x27;https://earthengine.googleapis.com/v1alpha/projects/earthengine-legacy/maps/01182dfbcbe2ea50fc04c3d9bf253d6e-180c61a486e6eed05d438adff769dd18/tiles/{z}/{x}/{y}&#x27;,\n",
              "        {\n",
              "        &quot;attribution&quot;: &quot;Map Data &amp;copy; &lt;a href=\\&quot;https://earthengine.google.com/\\&quot;&gt;Google Earth Engine&lt;/a&gt;&quot;,\n",
              "        &quot;detectRetina&quot;: false,\n",
              "        &quot;maxNativeZoom&quot;: 18,\n",
              "        &quot;maxZoom&quot;: 18,\n",
              "        &quot;minZoom&quot;: 0,\n",
              "        &quot;noWrap&quot;: false,\n",
              "        &quot;opacity&quot;: 1,\n",
              "        &quot;subdomains&quot;: &quot;abc&quot;,\n",
              "        &quot;tms&quot;: false\n",
              "}).addTo(map_d4cbe5dd71aaa8e16a4c421f323abb4c);\n",
              "    \n",
              "            var layer_control_7b71fcfdebcc45f6070a37cb7bc9b5d8 = {\n",
              "                base_layers : { &quot;openstreetmap&quot; : tile_layer_dbcd26db0d28cc8520a28b648b158bb8, },\n",
              "                overlays : { &quot;Study Area Boundaries&quot; : tile_layer_8bed5c8f0691ea9abd3c97170494df4b,&quot;Landsat clipped image L5 - 1992&quot; : tile_layer_d141e9fdf4bcef573b1cf3dda154558b, }\n",
              "                };\n",
              "            L.control.layers(\n",
              "                layer_control_7b71fcfdebcc45f6070a37cb7bc9b5d8.base_layers,\n",
              "                layer_control_7b71fcfdebcc45f6070a37cb7bc9b5d8.overlays,\n",
              "                {position: &#x27;topright&#x27;,\n",
              "                 collapsed: true,\n",
              "                 autoZIndex: true\n",
              "                }).addTo(map_d4cbe5dd71aaa8e16a4c421f323abb4c);\n",
              "            \n",
              "        \n",
              "&lt;/script&gt;\" style=\"position:absolute;width:100%;height:100%;left:0;top:0;border:none !important;\" allowfullscreen webkitallowfullscreen mozallowfullscreen></iframe></div></div>"
            ]
          },
          "metadata": {}
        }
      ]
    },
    {
      "cell_type": "markdown",
      "source": [
        "## Satellite Imagery Classification"
      ],
      "metadata": {
        "id": "1-E9iTYxSk1O"
      }
    },
    {
      "cell_type": "markdown",
      "source": [
        "### Cart Classifier (video)"
      ],
      "metadata": {
        "id": "0x2myMzgTC0P"
      }
    },
    {
      "cell_type": "code",
      "source": [
        "#Importing training data\n",
        "training = ee.FeatureCollection('users/midekisa/Train_Cover_CA')\n",
        "\n",
        "label = 'Class'\n",
        "bands = ['B1', 'B2', 'B3', 'B4', 'B5', 'B7']\n",
        "input = clipped_image.select(bands)\n",
        "\n",
        "train_image = input.sampleRegions(**{\n",
        "    'collection': training,\n",
        "    'properties': [label],\n",
        "    'scale': 30\n",
        "})\n",
        "\n",
        "training_data = train_image.randomColumn()\n",
        "\n",
        "train_set = training_data.filter(ee.Filter.lessThan('random', 0.8))\n",
        "test_set = training_data.filter(ee.Filter.greaterThanOrEquals('random', 0.8))"
      ],
      "metadata": {
        "id": "rXkDRKVjS3un"
      },
      "execution_count": null,
      "outputs": []
    },
    {
      "cell_type": "code",
      "source": [
        "# Classification model using CART\n",
        "cart_classifier = ee.Classifier.smileCart().train(train_set, label, bands)\n",
        "\n",
        "# Classify the image\n",
        "classified_image = input.classify(cart_classifier)\n",
        "\n",
        "# Define palette for the clasification\n",
        "land_cover_palette = [\n",
        "                      '#0C2C84', # water (0)\n",
        "                      '#E31A1C', # urban (1)\n",
        "                      '#005A32', # forest (2)\n",
        "                      '#FF8000', # crop (3)\n",
        "                      '#969696', # barren (4)\n",
        "\n",
        "]"
      ],
      "metadata": {
        "id": "qL1HzN9aS8z-"
      },
      "execution_count": null,
      "outputs": []
    },
    {
      "cell_type": "markdown",
      "source": [
        "### CART classifier AMSS"
      ],
      "metadata": {
        "id": "FH2vXj04RrTX"
      }
    },
    {
      "cell_type": "code",
      "source": [
        "train_datasource_url = 'https://raw.githubusercontent.com/CesarRosales16/Urban-Sprawl-SV/main/datasources/train-data/TrainCoverAMSSC.shp'\n",
        "train_shp_path = '/vsicurl/' + train_datasource_url\n",
        "train_data = gpd.read_file(train_shp_path)\n",
        "train_data.head()"
      ],
      "metadata": {
        "colab": {
          "base_uri": "https://localhost:8080/",
          "height": 206
        },
        "id": "Guc4hXqrRvxl",
        "outputId": "271a9a17-894c-4b0f-843e-56459163d41f"
      },
      "execution_count": null,
      "outputs": [
        {
          "output_type": "execute_result",
          "data": {
            "text/plain": [
              "   Class                    geometry\n",
              "0      0  POINT (-89.06572 13.67649)\n",
              "1      0  POINT (-89.06298 13.69317)\n",
              "2      0  POINT (-89.06092 13.67950)\n",
              "3      0  POINT (-89.06572 13.69017)\n",
              "4      0  POINT (-89.06235 13.68441)"
            ],
            "text/html": [
              "\n",
              "  <div id=\"df-e426ea09-c22b-4eac-b1da-6a8ba8a1acc5\">\n",
              "    <div class=\"colab-df-container\">\n",
              "      <div>\n",
              "<style scoped>\n",
              "    .dataframe tbody tr th:only-of-type {\n",
              "        vertical-align: middle;\n",
              "    }\n",
              "\n",
              "    .dataframe tbody tr th {\n",
              "        vertical-align: top;\n",
              "    }\n",
              "\n",
              "    .dataframe thead th {\n",
              "        text-align: right;\n",
              "    }\n",
              "</style>\n",
              "<table border=\"1\" class=\"dataframe\">\n",
              "  <thead>\n",
              "    <tr style=\"text-align: right;\">\n",
              "      <th></th>\n",
              "      <th>Class</th>\n",
              "      <th>geometry</th>\n",
              "    </tr>\n",
              "  </thead>\n",
              "  <tbody>\n",
              "    <tr>\n",
              "      <th>0</th>\n",
              "      <td>0</td>\n",
              "      <td>POINT (-89.06572 13.67649)</td>\n",
              "    </tr>\n",
              "    <tr>\n",
              "      <th>1</th>\n",
              "      <td>0</td>\n",
              "      <td>POINT (-89.06298 13.69317)</td>\n",
              "    </tr>\n",
              "    <tr>\n",
              "      <th>2</th>\n",
              "      <td>0</td>\n",
              "      <td>POINT (-89.06092 13.67950)</td>\n",
              "    </tr>\n",
              "    <tr>\n",
              "      <th>3</th>\n",
              "      <td>0</td>\n",
              "      <td>POINT (-89.06572 13.69017)</td>\n",
              "    </tr>\n",
              "    <tr>\n",
              "      <th>4</th>\n",
              "      <td>0</td>\n",
              "      <td>POINT (-89.06235 13.68441)</td>\n",
              "    </tr>\n",
              "  </tbody>\n",
              "</table>\n",
              "</div>\n",
              "      <button class=\"colab-df-convert\" onclick=\"convertToInteractive('df-e426ea09-c22b-4eac-b1da-6a8ba8a1acc5')\"\n",
              "              title=\"Convert this dataframe to an interactive table.\"\n",
              "              style=\"display:none;\">\n",
              "        \n",
              "  <svg xmlns=\"http://www.w3.org/2000/svg\" height=\"24px\"viewBox=\"0 0 24 24\"\n",
              "       width=\"24px\">\n",
              "    <path d=\"M0 0h24v24H0V0z\" fill=\"none\"/>\n",
              "    <path d=\"M18.56 5.44l.94 2.06.94-2.06 2.06-.94-2.06-.94-.94-2.06-.94 2.06-2.06.94zm-11 1L8.5 8.5l.94-2.06 2.06-.94-2.06-.94L8.5 2.5l-.94 2.06-2.06.94zm10 10l.94 2.06.94-2.06 2.06-.94-2.06-.94-.94-2.06-.94 2.06-2.06.94z\"/><path d=\"M17.41 7.96l-1.37-1.37c-.4-.4-.92-.59-1.43-.59-.52 0-1.04.2-1.43.59L10.3 9.45l-7.72 7.72c-.78.78-.78 2.05 0 2.83L4 21.41c.39.39.9.59 1.41.59.51 0 1.02-.2 1.41-.59l7.78-7.78 2.81-2.81c.8-.78.8-2.07 0-2.86zM5.41 20L4 18.59l7.72-7.72 1.47 1.35L5.41 20z\"/>\n",
              "  </svg>\n",
              "      </button>\n",
              "      \n",
              "  <style>\n",
              "    .colab-df-container {\n",
              "      display:flex;\n",
              "      flex-wrap:wrap;\n",
              "      gap: 12px;\n",
              "    }\n",
              "\n",
              "    .colab-df-convert {\n",
              "      background-color: #E8F0FE;\n",
              "      border: none;\n",
              "      border-radius: 50%;\n",
              "      cursor: pointer;\n",
              "      display: none;\n",
              "      fill: #1967D2;\n",
              "      height: 32px;\n",
              "      padding: 0 0 0 0;\n",
              "      width: 32px;\n",
              "    }\n",
              "\n",
              "    .colab-df-convert:hover {\n",
              "      background-color: #E2EBFA;\n",
              "      box-shadow: 0px 1px 2px rgba(60, 64, 67, 0.3), 0px 1px 3px 1px rgba(60, 64, 67, 0.15);\n",
              "      fill: #174EA6;\n",
              "    }\n",
              "\n",
              "    [theme=dark] .colab-df-convert {\n",
              "      background-color: #3B4455;\n",
              "      fill: #D2E3FC;\n",
              "    }\n",
              "\n",
              "    [theme=dark] .colab-df-convert:hover {\n",
              "      background-color: #434B5C;\n",
              "      box-shadow: 0px 1px 3px 1px rgba(0, 0, 0, 0.15);\n",
              "      filter: drop-shadow(0px 1px 2px rgba(0, 0, 0, 0.3));\n",
              "      fill: #FFFFFF;\n",
              "    }\n",
              "  </style>\n",
              "\n",
              "      <script>\n",
              "        const buttonEl =\n",
              "          document.querySelector('#df-e426ea09-c22b-4eac-b1da-6a8ba8a1acc5 button.colab-df-convert');\n",
              "        buttonEl.style.display =\n",
              "          google.colab.kernel.accessAllowed ? 'block' : 'none';\n",
              "\n",
              "        async function convertToInteractive(key) {\n",
              "          const element = document.querySelector('#df-e426ea09-c22b-4eac-b1da-6a8ba8a1acc5');\n",
              "          const dataTable =\n",
              "            await google.colab.kernel.invokeFunction('convertToInteractive',\n",
              "                                                     [key], {});\n",
              "          if (!dataTable) return;\n",
              "\n",
              "          const docLinkHtml = 'Like what you see? Visit the ' +\n",
              "            '<a target=\"_blank\" href=https://colab.research.google.com/notebooks/data_table.ipynb>data table notebook</a>'\n",
              "            + ' to learn more about interactive tables.';\n",
              "          element.innerHTML = '';\n",
              "          dataTable['output_type'] = 'display_data';\n",
              "          await google.colab.output.renderOutput(dataTable, element);\n",
              "          const docLink = document.createElement('div');\n",
              "          docLink.innerHTML = docLinkHtml;\n",
              "          element.appendChild(docLink);\n",
              "        }\n",
              "      </script>\n",
              "    </div>\n",
              "  </div>\n",
              "  "
            ]
          },
          "metadata": {},
          "execution_count": 19
        }
      ]
    },
    {
      "cell_type": "code",
      "source": [
        "# Create json from geodataframe\n",
        "train_json = json.loads(train_data.to_json())"
      ],
      "metadata": {
        "id": "mDZFnR3pSMDA"
      },
      "execution_count": null,
      "outputs": []
    },
    {
      "cell_type": "code",
      "source": [
        "#Importing training data\n",
        "training = ee.FeatureCollection(train_json)\n",
        "\n",
        "label = 'Class'\n",
        "bands = ['B1', 'B2', 'B3', 'B4', 'B5', 'B7']\n",
        "input = clipped_image.select(bands)\n",
        "\n",
        "train_image = input.sampleRegions(**{\n",
        "    'collection': training,\n",
        "    'properties': [label],\n",
        "    'scale': 30\n",
        "})\n",
        "\n",
        "\n",
        "training_data = train_image.randomColumn()\n",
        "\n",
        "train_set = training_data.filter(ee.Filter.lessThan('random', 0.8))\n",
        "test_set = training_data.filter(ee.Filter.greaterThanOrEquals('random', 0.8))"
      ],
      "metadata": {
        "id": "2Z9weHSKSchK"
      },
      "execution_count": null,
      "outputs": []
    },
    {
      "cell_type": "code",
      "source": [
        "# Classification model using CART\n",
        "cart_classifier = ee.Classifier.smileCart().train(train_set, label, bands)\n",
        "\n",
        "# Classify the image\n",
        "classified_image = input.classify(cart_classifier)\n",
        "\n",
        "# Define palette for the clasification\n",
        "land_cover_palette = [\n",
        "                      '#0C2C84', # water (0)\n",
        "                      '#E31A1C', # urban (1)\n",
        "                      '#005A32', # forest (2)\n",
        "]"
      ],
      "metadata": {
        "id": "eYMDTYaDSnkf"
      },
      "execution_count": null,
      "outputs": []
    },
    {
      "cell_type": "markdown",
      "source": [
        "## Mapping layers"
      ],
      "metadata": {
        "id": "ypUT5zTQR_Wj"
      }
    },
    {
      "cell_type": "code",
      "source": [
        "# Define a map centered on El Salvador\n",
        "my_map = folium.Map(location=[sv_lat, sv_lon], zoom_start=9, max_bounds=True)\n",
        "\n",
        "#Add Boundaries layer\n",
        "# Reference: https://developers.google.com/earth-engine/guides/feature_collections_visualizing\n",
        "\"\"\"study_area_boundaries = ee.Image().paint(study_area_feature_collection, 1, 2)\n",
        "my_map.add_ee_layer(study_area_boundaries, {'palette': 'FF0000'}, 'Boundaries')\"\"\"\n",
        "my_map.add_ee_layer(roi_fc.draw('006600', 3, 2), {}, 'Study Area Boundaries')\n",
        "\n",
        "# Add the clipped image layer\n",
        "my_map.add_ee_layer(clipped_image, vis_params, 'Landsat clipped image')\n",
        "\n",
        "# Add clasified image\n",
        "my_map.add_ee_layer(classified_image, {'palette': land_cover_palette, 'min': 0, 'max': 2}, 'Cart classification')\n",
        "\n",
        "# Add a layer control panel to the map\n",
        "my_map.add_child(folium.LayerControl())\n",
        "\n",
        "# Displays the map\n",
        "display(my_map)"
      ],
      "metadata": {
        "id": "bI1Yo4jCRxVf",
        "colab": {
          "base_uri": "https://localhost:8080/",
          "height": 763
        },
        "outputId": "f57ff6f3-bf47-4403-84bd-23cfcfee5c5e"
      },
      "execution_count": null,
      "outputs": [
        {
          "output_type": "display_data",
          "data": {
            "text/plain": [
              "<folium.folium.Map at 0x7fc7a35a8c90>"
            ],
            "text/html": [
              "<div style=\"width:100%;\"><div style=\"position:relative;width:100%;height:0;padding-bottom:60%;\"><span style=\"color:#565656\">Make this Notebook Trusted to load map: File -> Trust Notebook</span><iframe srcdoc=\"&lt;!DOCTYPE html&gt;\n",
              "&lt;head&gt;    \n",
              "    &lt;meta http-equiv=&quot;content-type&quot; content=&quot;text/html; charset=UTF-8&quot; /&gt;\n",
              "    &lt;script&gt;L_PREFER_CANVAS=false; L_NO_TOUCH=false; L_DISABLE_3D=false;&lt;/script&gt;\n",
              "    &lt;script src=&quot;https://cdn.jsdelivr.net/npm/leaflet@1.4.0/dist/leaflet.js&quot;&gt;&lt;/script&gt;\n",
              "    &lt;script src=&quot;https://code.jquery.com/jquery-1.12.4.min.js&quot;&gt;&lt;/script&gt;\n",
              "    &lt;script src=&quot;https://maxcdn.bootstrapcdn.com/bootstrap/3.2.0/js/bootstrap.min.js&quot;&gt;&lt;/script&gt;\n",
              "    &lt;script src=&quot;https://cdnjs.cloudflare.com/ajax/libs/Leaflet.awesome-markers/2.0.2/leaflet.awesome-markers.js&quot;&gt;&lt;/script&gt;\n",
              "    &lt;link rel=&quot;stylesheet&quot; href=&quot;https://cdn.jsdelivr.net/npm/leaflet@1.4.0/dist/leaflet.css&quot;/&gt;\n",
              "    &lt;link rel=&quot;stylesheet&quot; href=&quot;https://maxcdn.bootstrapcdn.com/bootstrap/3.2.0/css/bootstrap.min.css&quot;/&gt;\n",
              "    &lt;link rel=&quot;stylesheet&quot; href=&quot;https://maxcdn.bootstrapcdn.com/bootstrap/3.2.0/css/bootstrap-theme.min.css&quot;/&gt;\n",
              "    &lt;link rel=&quot;stylesheet&quot; href=&quot;https://maxcdn.bootstrapcdn.com/font-awesome/4.6.3/css/font-awesome.min.css&quot;/&gt;\n",
              "    &lt;link rel=&quot;stylesheet&quot; href=&quot;https://cdnjs.cloudflare.com/ajax/libs/Leaflet.awesome-markers/2.0.2/leaflet.awesome-markers.css&quot;/&gt;\n",
              "    &lt;link rel=&quot;stylesheet&quot; href=&quot;https://rawcdn.githack.com/python-visualization/folium/master/folium/templates/leaflet.awesome.rotate.css&quot;/&gt;\n",
              "    &lt;style&gt;html, body {width: 100%;height: 100%;margin: 0;padding: 0;}&lt;/style&gt;\n",
              "    &lt;style&gt;#map {position:absolute;top:0;bottom:0;right:0;left:0;}&lt;/style&gt;\n",
              "    \n",
              "    &lt;meta name=&quot;viewport&quot; content=&quot;width=device-width,\n",
              "        initial-scale=1.0, maximum-scale=1.0, user-scalable=no&quot; /&gt;\n",
              "    &lt;style&gt;#map_fd75c51d7f3bb0fe8fd1e96ee19bc43b {\n",
              "        position: relative;\n",
              "        width: 100.0%;\n",
              "        height: 100.0%;\n",
              "        left: 0.0%;\n",
              "        top: 0.0%;\n",
              "        }\n",
              "    &lt;/style&gt;\n",
              "&lt;/head&gt;\n",
              "&lt;body&gt;    \n",
              "    \n",
              "    &lt;div class=&quot;folium-map&quot; id=&quot;map_fd75c51d7f3bb0fe8fd1e96ee19bc43b&quot; &gt;&lt;/div&gt;\n",
              "&lt;/body&gt;\n",
              "&lt;script&gt;    \n",
              "    \n",
              "    \n",
              "        var southWest = L.latLng(-90, -180);\n",
              "        var northEast = L.latLng(90, 180);\n",
              "        var bounds = L.latLngBounds(southWest, northEast);\n",
              "    \n",
              "\n",
              "    var map_fd75c51d7f3bb0fe8fd1e96ee19bc43b = L.map(\n",
              "        &#x27;map_fd75c51d7f3bb0fe8fd1e96ee19bc43b&#x27;, {\n",
              "        center: [13.794185, -88.89653],\n",
              "        zoom: 9,\n",
              "        maxBounds: bounds,\n",
              "        layers: [],\n",
              "        worldCopyJump: false,\n",
              "        crs: L.CRS.EPSG3857,\n",
              "        zoomControl: true,\n",
              "        });\n",
              "\n",
              "\n",
              "    \n",
              "    var tile_layer_b72fb9c7d36f4e955d19dc637bb37970 = L.tileLayer(\n",
              "        &#x27;https://{s}.tile.openstreetmap.org/{z}/{x}/{y}.png&#x27;,\n",
              "        {\n",
              "        &quot;attribution&quot;: null,\n",
              "        &quot;detectRetina&quot;: false,\n",
              "        &quot;maxNativeZoom&quot;: 18,\n",
              "        &quot;maxZoom&quot;: 18,\n",
              "        &quot;minZoom&quot;: 0,\n",
              "        &quot;noWrap&quot;: false,\n",
              "        &quot;opacity&quot;: 1,\n",
              "        &quot;subdomains&quot;: &quot;abc&quot;,\n",
              "        &quot;tms&quot;: false\n",
              "}).addTo(map_fd75c51d7f3bb0fe8fd1e96ee19bc43b);\n",
              "    var tile_layer_43acf20caed39e60f7840e9aedff1c5c = L.tileLayer(\n",
              "        &#x27;https://earthengine.googleapis.com/v1alpha/projects/earthengine-legacy/maps/f6a616aab17f0ed5506b468e5e4945ff-fc04b9ab42d03cf65ce8ad9969cf1dbb/tiles/{z}/{x}/{y}&#x27;,\n",
              "        {\n",
              "        &quot;attribution&quot;: &quot;Map Data &amp;copy; &lt;a href=\\&quot;https://earthengine.google.com/\\&quot;&gt;Google Earth Engine&lt;/a&gt;&quot;,\n",
              "        &quot;detectRetina&quot;: false,\n",
              "        &quot;maxNativeZoom&quot;: 18,\n",
              "        &quot;maxZoom&quot;: 18,\n",
              "        &quot;minZoom&quot;: 0,\n",
              "        &quot;noWrap&quot;: false,\n",
              "        &quot;opacity&quot;: 1,\n",
              "        &quot;subdomains&quot;: &quot;abc&quot;,\n",
              "        &quot;tms&quot;: false\n",
              "}).addTo(map_fd75c51d7f3bb0fe8fd1e96ee19bc43b);\n",
              "    var tile_layer_849e19370f10f025189b0db94f1ee8ad = L.tileLayer(\n",
              "        &#x27;https://earthengine.googleapis.com/v1alpha/projects/earthengine-legacy/maps/bc1b0f26f4b7c881e52ba844b99490b9-2811bd05c7398bc0a8605ccba4e7c544/tiles/{z}/{x}/{y}&#x27;,\n",
              "        {\n",
              "        &quot;attribution&quot;: &quot;Map Data &amp;copy; &lt;a href=\\&quot;https://earthengine.google.com/\\&quot;&gt;Google Earth Engine&lt;/a&gt;&quot;,\n",
              "        &quot;detectRetina&quot;: false,\n",
              "        &quot;maxNativeZoom&quot;: 18,\n",
              "        &quot;maxZoom&quot;: 18,\n",
              "        &quot;minZoom&quot;: 0,\n",
              "        &quot;noWrap&quot;: false,\n",
              "        &quot;opacity&quot;: 1,\n",
              "        &quot;subdomains&quot;: &quot;abc&quot;,\n",
              "        &quot;tms&quot;: false\n",
              "}).addTo(map_fd75c51d7f3bb0fe8fd1e96ee19bc43b);\n",
              "    \n",
              "            var layer_control_5734f4d3e71650e919d3bb2b67b33c73 = {\n",
              "                base_layers : { &quot;openstreetmap&quot; : tile_layer_b72fb9c7d36f4e955d19dc637bb37970, },\n",
              "                overlays : { &quot;Study Area Boundaries&quot; : tile_layer_43acf20caed39e60f7840e9aedff1c5c,&quot;Landsat clipped image&quot; : tile_layer_849e19370f10f025189b0db94f1ee8ad, }\n",
              "                };\n",
              "            L.control.layers(\n",
              "                layer_control_5734f4d3e71650e919d3bb2b67b33c73.base_layers,\n",
              "                layer_control_5734f4d3e71650e919d3bb2b67b33c73.overlays,\n",
              "                {position: &#x27;topright&#x27;,\n",
              "                 collapsed: true,\n",
              "                 autoZIndex: true\n",
              "                }).addTo(map_fd75c51d7f3bb0fe8fd1e96ee19bc43b);\n",
              "            \n",
              "        \n",
              "&lt;/script&gt;\" style=\"position:absolute;width:100%;height:100%;left:0;top:0;border:none !important;\" allowfullscreen webkitallowfullscreen mozallowfullscreen></iframe></div></div>"
            ]
          },
          "metadata": {}
        }
      ]
    },
    {
      "cell_type": "code",
      "source": [
        "\"\"\"clipped_url = clipped_image.getMapId(vis_params)\n",
        "\n",
        "print(ee.Image.getThumbURL([sv_lat, sv_lon], {'Landsat clipped image URL': clipped_url}))\"\"\""
      ],
      "metadata": {
        "colab": {
          "base_uri": "https://localhost:8080/",
          "height": 35
        },
        "id": "9HZX8lD1Yj7l",
        "outputId": "7ed4d204-ea0d-4228-bd70-572d3e36d16e"
      },
      "execution_count": null,
      "outputs": [
        {
          "output_type": "execute_result",
          "data": {
            "text/plain": [
              "\"clipped_url = clipped_image.getMapId(vis_params)\\n\\nprint(ee.Image.getThumbURL([sv_lat, sv_lon], {'Landsat clipped image URL': clipped_url}))\""
            ],
            "application/vnd.google.colaboratory.intrinsic+json": {
              "type": "string"
            }
          },
          "metadata": {},
          "execution_count": 65
        }
      ]
    },
    {
      "cell_type": "markdown",
      "source": [
        "## Export to GeoTIFF"
      ],
      "metadata": {
        "id": "H40bNvh9Yc5h"
      }
    },
    {
      "cell_type": "code",
      "source": [
        "from google.colab import drive\n",
        "drive.mount('/content/drive')"
      ],
      "metadata": {
        "colab": {
          "base_uri": "https://localhost:8080/"
        },
        "id": "firHHk3eYjMz",
        "outputId": "c6f5afb8-af5b-4a75-d371-d937d38cee8c"
      },
      "execution_count": null,
      "outputs": [
        {
          "output_type": "stream",
          "name": "stdout",
          "text": [
            "Mounted at /content/drive\n"
          ]
        }
      ]
    },
    {
      "cell_type": "code",
      "source": [
        "# Path where geotiff are saved\n",
        "drive_path = \"GeoTIFFs\""
      ],
      "metadata": {
        "id": "7217xoEWlP-M"
      },
      "execution_count": null,
      "outputs": []
    },
    {
      "cell_type": "code",
      "source": [
        "!pip install rasterio"
      ],
      "metadata": {
        "id": "UI9qIzpUlnQp",
        "colab": {
          "base_uri": "https://localhost:8080/"
        },
        "outputId": "7c00027a-53ca-4199-e1da-e3f2bb89140f"
      },
      "execution_count": null,
      "outputs": [
        {
          "output_type": "stream",
          "name": "stdout",
          "text": [
            "Collecting rasterio\n",
            "  Downloading rasterio-1.2.10-cp37-cp37m-manylinux1_x86_64.whl (19.3 MB)\n",
            "\u001b[K     |████████████████████████████████| 19.3 MB 5.1 MB/s \n",
            "\u001b[?25hRequirement already satisfied: cligj>=0.5 in /usr/local/lib/python3.7/dist-packages (from rasterio) (0.7.2)\n",
            "Requirement already satisfied: numpy in /usr/local/lib/python3.7/dist-packages (from rasterio) (1.21.6)\n",
            "Requirement already satisfied: click-plugins in /usr/local/lib/python3.7/dist-packages (from rasterio) (1.1.1)\n",
            "Requirement already satisfied: setuptools in /usr/local/lib/python3.7/dist-packages (from rasterio) (57.4.0)\n",
            "Collecting affine\n",
            "  Downloading affine-2.3.1-py2.py3-none-any.whl (16 kB)\n",
            "Requirement already satisfied: certifi in /usr/local/lib/python3.7/dist-packages (from rasterio) (2021.10.8)\n",
            "Requirement already satisfied: click>=4.0 in /usr/local/lib/python3.7/dist-packages (from rasterio) (7.1.2)\n",
            "Collecting snuggs>=1.4.1\n",
            "  Downloading snuggs-1.4.7-py3-none-any.whl (5.4 kB)\n",
            "Requirement already satisfied: attrs in /usr/local/lib/python3.7/dist-packages (from rasterio) (21.4.0)\n",
            "Requirement already satisfied: pyparsing>=2.1.6 in /usr/local/lib/python3.7/dist-packages (from snuggs>=1.4.1->rasterio) (3.0.9)\n",
            "Installing collected packages: snuggs, affine, rasterio\n",
            "Successfully installed affine-2.3.1 rasterio-1.2.10 snuggs-1.4.7\n"
          ]
        }
      ]
    },
    {
      "cell_type": "markdown",
      "source": [
        "### Export classified image"
      ],
      "metadata": {
        "id": "tDevtr2ck8UI"
      }
    },
    {
      "cell_type": "code",
      "source": [
        "# Export the image, specifying scale and region.\n",
        "task = ee.batch.Export.image.toDrive(**{\n",
        "    'image': classified_image,\n",
        "    'description': 'Landasat 8 clasificada',\n",
        "    'folder': drive_path,\n",
        "    'scale': 30,\n",
        "    'region': roi_geom\n",
        "})\n",
        "task.start()"
      ],
      "metadata": {
        "id": "zgR5ENKjYkLO"
      },
      "execution_count": null,
      "outputs": []
    },
    {
      "cell_type": "code",
      "source": [
        "import time \n",
        "while task.active():\n",
        "  print('Polling for task (id: {}).'.format(task.id))\n",
        "  time.sleep(10)"
      ],
      "metadata": {
        "id": "AVTwSZeoY3fU"
      },
      "execution_count": null,
      "outputs": []
    },
    {
      "cell_type": "code",
      "source": [
        "import rasterio\n",
        "from rasterio.plot import show\n",
        "fp = r'drive/My Drive/GeoTIFFs/Landasat 8 clasificada.tif'\n",
        "img = rasterio.open(fp)\n",
        "show(img)"
      ],
      "metadata": {
        "colab": {
          "base_uri": "https://localhost:8080/",
          "height": 282
        },
        "id": "-XXxBiHAcswt",
        "outputId": "953cfa0a-895d-4de5-fcea-36603cffccbe"
      },
      "execution_count": null,
      "outputs": [
        {
          "output_type": "display_data",
          "data": {
            "text/plain": [
              "<Figure size 432x288 with 1 Axes>"
            ],
            "image/png": "[encoded data removed]"
          },
          "metadata": {
            "needs_background": "light"
          }
        },
        {
          "output_type": "execute_result",
          "data": {
            "text/plain": [
              "<matplotlib.axes._subplots.AxesSubplot at 0x7f112b438f50>"
            ]
          },
          "metadata": {},
          "execution_count": 30
        }
      ]
    },
    {
      "cell_type": "markdown",
      "source": [
        "### Export clipped img "
      ],
      "metadata": {
        "id": "b6_SPC7_k2_q"
      }
    },
    {
      "cell_type": "code",
      "source": [
        "# Export the image, specifying scale and region.\n",
        "task = ee.batch.Export.image.toDrive(**{\n",
        "    'image': clipped_image,\n",
        "    'description': 'Landasat 8 cortada',\n",
        "    'folder': drive_path,\n",
        "    'scale': 30,\n",
        "    'region': roi_geom\n",
        "})\n",
        "task.start()"
      ],
      "metadata": {
        "id": "bsDYqOjplEw4"
      },
      "execution_count": null,
      "outputs": []
    },
    {
      "cell_type": "code",
      "source": [
        "import time \n",
        "while task.active():\n",
        "  print('Polling for task (id: {}).'.format(task.id))\n",
        "  time.sleep(10)"
      ],
      "metadata": {
        "id": "0dxB7iyRlh7P"
      },
      "execution_count": null,
      "outputs": []
    },
    {
      "cell_type": "code",
      "source": [
        "import rasterio\n",
        "from rasterio.plot import show\n",
        "fp = r'drive/My Drive/GeoTIFFs/Landasat 8 cortada.tif'\n",
        "img = rasterio.open(fp)\n",
        "show(img)"
      ],
      "metadata": {
        "colab": {
          "base_uri": "https://localhost:8080/",
          "height": 282
        },
        "id": "o8jsuqQSlkYY",
        "outputId": "f0edecb1-e6a2-4dbe-e372-6f43a367b795"
      },
      "execution_count": null,
      "outputs": [
        {
          "output_type": "display_data",
          "data": {
            "text/plain": [
              "<Figure size 432x288 with 1 Axes>"
            ],
            "image/png": "[encoded data removed]"
          },
          "metadata": {
            "needs_background": "light"
          }
        },
        {
          "output_type": "execute_result",
          "data": {
            "text/plain": [
              "<matplotlib.axes._subplots.AxesSubplot at 0x7f112b419590>"
            ]
          },
          "metadata": {},
          "execution_count": 31
        }
      ]
    }
  ]
}