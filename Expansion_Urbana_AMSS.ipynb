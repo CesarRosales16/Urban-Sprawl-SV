{
  "nbformat": 4,
  "nbformat_minor": 0,
  "metadata": {
    "colab": {
      "name": "Expansion Urbana AMSS.ipynb",
      "provenance": [],
      "collapsed_sections": [],
      "authorship_tag": "ABX9TyOrgl4Np37OBFhrs3EZmfXk",
      "include_colab_link": true
    },
    "kernelspec": {
      "name": "python3",
      "display_name": "Python 3"
    },
    "language_info": {
      "name": "python"
    }
  },
  "cells": [
    {
      "cell_type": "markdown",
      "metadata": {
        "id": "view-in-github",
        "colab_type": "text"
      },
      "source": [
        "<a href=\"https://colab.research.google.com/github/CesarRosales16/Urban-Sprawl-SV/blob/main/Expansion_Urbana_AMSS.ipynb\" target=\"_parent\"><img src=\"https://colab.research.google.com/assets/colab-badge.svg\" alt=\"Open In Colab\"/></a>"
      ]
    },
    {
      "cell_type": "markdown",
      "source": [
        "# Análisis de la expansión urbana en el AMSS usando técnicas de Teledetección y Machine Learning\n"
      ],
      "metadata": {
        "id": "6eHyVF0UEUp6"
      }
    },
    {
      "cell_type": "markdown",
      "source": [
        "## Delimitación espacial"
      ],
      "metadata": {
        "id": "VvnAkyGASa6s"
      }
    },
    {
      "cell_type": "code",
      "source": [
        "# Google Earth Engine API\n",
        "import ee\n",
        "# Trigger the authentication flow.\n",
        "ee.Authenticate()\n",
        "\n",
        "# Initialize the library.\n",
        "ee.Initialize()"
      ],
      "metadata": {
        "colab": {
          "base_uri": "https://localhost:8080/"
        },
        "id": "iyLWWpg3EYOz",
        "outputId": "d7ff7e79-efa7-4abb-df02-4e1e46409785"
      },
      "execution_count": 1,
      "outputs": [
        {
          "output_type": "stream",
          "name": "stdout",
          "text": [
            "To authorize access needed by Earth Engine, open the following URL in a web browser and follow the instructions. If the web browser does not start automatically, please manually browse the URL below.\n",
            "\n",
            "    https://code.earthengine.google.com/client-auth?scopes=https%3A//www.googleapis.com/auth/earthengine%20https%3A//www.googleapis.com/auth/devstorage.full_control&request_id=WFLAj4GwGmL4rnyzrP-4lelCYlV7iZ9JbEi2yR9X0KE&tc=-5QNb1OzmKaOR2GThQAJMkMGVw7hj5RCtN7dnNyRtbI&cc=cGnfe_WrFkS8kS8kZzSgx2Obk9E-eokAFugg96QdZFw\n",
            "\n",
            "The authorization workflow will generate a code, which you should paste in the box below. \n",
            "Enter verification code: 4/1AX4XfWhG2cWL9gx6mPwJ65282qxLcX8BW3rJAXuJn5mqaq05Dre7kJCcAEg\n",
            "\n",
            "Successfully saved authorization token.\n"
          ]
        }
      ]
    },
    {
      "cell_type": "code",
      "source": [
        "# Import the Folium library to display interactive maps\n",
        "import folium\n",
        "\n",
        "# Define a method for displaying Earth Engine image tiles to folium map.\n",
        "def add_ee_layer(self, ee_image_object, vis_params, name):\n",
        "  map_id_dict = ee.Image(ee_image_object).getMapId(vis_params)\n",
        "  folium.raster_layers.TileLayer(\n",
        "    tiles = map_id_dict['tile_fetcher'].url_format,\n",
        "    attr = 'Map Data &copy; <a href=\"https://earthengine.google.com/\">Google Earth Engine</a>',\n",
        "    name = name,\n",
        "    overlay = True,\n",
        "    control = True\n",
        "  ).add_to(self)\n",
        "\n",
        "# Add EE drawing method to folium.\n",
        "folium.Map.add_ee_layer = add_ee_layer"
      ],
      "metadata": {
        "id": "0SVMnvxWEl_1"
      },
      "execution_count": 2,
      "outputs": []
    },
    {
      "cell_type": "code",
      "source": [
        "# Install and import geopandas for manage datasets with geospatial data\n",
        "!pip install geopandas\n",
        "import geopandas as gpd"
      ],
      "metadata": {
        "id": "co7YZz0FE-8d",
        "colab": {
          "base_uri": "https://localhost:8080/"
        },
        "outputId": "55758cdd-72f1-4843-fa1a-287f4c5c15a3"
      },
      "execution_count": 3,
      "outputs": [
        {
          "output_type": "stream",
          "name": "stdout",
          "text": [
            "Collecting geopandas\n",
            "  Downloading geopandas-0.10.2-py2.py3-none-any.whl (1.0 MB)\n",
            "\u001b[?25l\r\u001b[K     |▎                               | 10 kB 24.3 MB/s eta 0:00:01\r\u001b[K     |▋                               | 20 kB 12.2 MB/s eta 0:00:01\r\u001b[K     |█                               | 30 kB 8.9 MB/s eta 0:00:01\r\u001b[K     |█▎                              | 40 kB 3.8 MB/s eta 0:00:01\r\u001b[K     |█▋                              | 51 kB 3.8 MB/s eta 0:00:01\r\u001b[K     |██                              | 61 kB 4.5 MB/s eta 0:00:01\r\u001b[K     |██▎                             | 71 kB 4.7 MB/s eta 0:00:01\r\u001b[K     |██▌                             | 81 kB 4.6 MB/s eta 0:00:01\r\u001b[K     |██▉                             | 92 kB 5.1 MB/s eta 0:00:01\r\u001b[K     |███▏                            | 102 kB 4.4 MB/s eta 0:00:01\r\u001b[K     |███▌                            | 112 kB 4.4 MB/s eta 0:00:01\r\u001b[K     |███▉                            | 122 kB 4.4 MB/s eta 0:00:01\r\u001b[K     |████▏                           | 133 kB 4.4 MB/s eta 0:00:01\r\u001b[K     |████▌                           | 143 kB 4.4 MB/s eta 0:00:01\r\u001b[K     |████▊                           | 153 kB 4.4 MB/s eta 0:00:01\r\u001b[K     |█████                           | 163 kB 4.4 MB/s eta 0:00:01\r\u001b[K     |█████▍                          | 174 kB 4.4 MB/s eta 0:00:01\r\u001b[K     |█████▊                          | 184 kB 4.4 MB/s eta 0:00:01\r\u001b[K     |██████                          | 194 kB 4.4 MB/s eta 0:00:01\r\u001b[K     |██████▍                         | 204 kB 4.4 MB/s eta 0:00:01\r\u001b[K     |██████▊                         | 215 kB 4.4 MB/s eta 0:00:01\r\u001b[K     |███████                         | 225 kB 4.4 MB/s eta 0:00:01\r\u001b[K     |███████▎                        | 235 kB 4.4 MB/s eta 0:00:01\r\u001b[K     |███████▋                        | 245 kB 4.4 MB/s eta 0:00:01\r\u001b[K     |████████                        | 256 kB 4.4 MB/s eta 0:00:01\r\u001b[K     |████████▎                       | 266 kB 4.4 MB/s eta 0:00:01\r\u001b[K     |████████▋                       | 276 kB 4.4 MB/s eta 0:00:01\r\u001b[K     |█████████                       | 286 kB 4.4 MB/s eta 0:00:01\r\u001b[K     |█████████▏                      | 296 kB 4.4 MB/s eta 0:00:01\r\u001b[K     |█████████▌                      | 307 kB 4.4 MB/s eta 0:00:01\r\u001b[K     |█████████▉                      | 317 kB 4.4 MB/s eta 0:00:01\r\u001b[K     |██████████▏                     | 327 kB 4.4 MB/s eta 0:00:01\r\u001b[K     |██████████▌                     | 337 kB 4.4 MB/s eta 0:00:01\r\u001b[K     |██████████▉                     | 348 kB 4.4 MB/s eta 0:00:01\r\u001b[K     |███████████▏                    | 358 kB 4.4 MB/s eta 0:00:01\r\u001b[K     |███████████▍                    | 368 kB 4.4 MB/s eta 0:00:01\r\u001b[K     |███████████▊                    | 378 kB 4.4 MB/s eta 0:00:01\r\u001b[K     |████████████                    | 389 kB 4.4 MB/s eta 0:00:01\r\u001b[K     |████████████▍                   | 399 kB 4.4 MB/s eta 0:00:01\r\u001b[K     |████████████▊                   | 409 kB 4.4 MB/s eta 0:00:01\r\u001b[K     |█████████████                   | 419 kB 4.4 MB/s eta 0:00:01\r\u001b[K     |█████████████▍                  | 430 kB 4.4 MB/s eta 0:00:01\r\u001b[K     |█████████████▋                  | 440 kB 4.4 MB/s eta 0:00:01\r\u001b[K     |██████████████                  | 450 kB 4.4 MB/s eta 0:00:01\r\u001b[K     |██████████████▎                 | 460 kB 4.4 MB/s eta 0:00:01\r\u001b[K     |██████████████▋                 | 471 kB 4.4 MB/s eta 0:00:01\r\u001b[K     |███████████████                 | 481 kB 4.4 MB/s eta 0:00:01\r\u001b[K     |███████████████▎                | 491 kB 4.4 MB/s eta 0:00:01\r\u001b[K     |███████████████▋                | 501 kB 4.4 MB/s eta 0:00:01\r\u001b[K     |███████████████▉                | 512 kB 4.4 MB/s eta 0:00:01\r\u001b[K     |████████████████▏               | 522 kB 4.4 MB/s eta 0:00:01\r\u001b[K     |████████████████▌               | 532 kB 4.4 MB/s eta 0:00:01\r\u001b[K     |████████████████▉               | 542 kB 4.4 MB/s eta 0:00:01\r\u001b[K     |█████████████████▏              | 552 kB 4.4 MB/s eta 0:00:01\r\u001b[K     |█████████████████▌              | 563 kB 4.4 MB/s eta 0:00:01\r\u001b[K     |█████████████████▉              | 573 kB 4.4 MB/s eta 0:00:01\r\u001b[K     |██████████████████              | 583 kB 4.4 MB/s eta 0:00:01\r\u001b[K     |██████████████████▍             | 593 kB 4.4 MB/s eta 0:00:01\r\u001b[K     |██████████████████▊             | 604 kB 4.4 MB/s eta 0:00:01\r\u001b[K     |███████████████████             | 614 kB 4.4 MB/s eta 0:00:01\r\u001b[K     |███████████████████▍            | 624 kB 4.4 MB/s eta 0:00:01\r\u001b[K     |███████████████████▊            | 634 kB 4.4 MB/s eta 0:00:01\r\u001b[K     |████████████████████            | 645 kB 4.4 MB/s eta 0:00:01\r\u001b[K     |████████████████████▎           | 655 kB 4.4 MB/s eta 0:00:01\r\u001b[K     |████████████████████▋           | 665 kB 4.4 MB/s eta 0:00:01\r\u001b[K     |█████████████████████           | 675 kB 4.4 MB/s eta 0:00:01\r\u001b[K     |█████████████████████▎          | 686 kB 4.4 MB/s eta 0:00:01\r\u001b[K     |█████████████████████▋          | 696 kB 4.4 MB/s eta 0:00:01\r\u001b[K     |██████████████████████          | 706 kB 4.4 MB/s eta 0:00:01\r\u001b[K     |██████████████████████▎         | 716 kB 4.4 MB/s eta 0:00:01\r\u001b[K     |██████████████████████▋         | 727 kB 4.4 MB/s eta 0:00:01\r\u001b[K     |██████████████████████▉         | 737 kB 4.4 MB/s eta 0:00:01\r\u001b[K     |███████████████████████▏        | 747 kB 4.4 MB/s eta 0:00:01\r\u001b[K     |███████████████████████▌        | 757 kB 4.4 MB/s eta 0:00:01\r\u001b[K     |███████████████████████▉        | 768 kB 4.4 MB/s eta 0:00:01\r\u001b[K     |████████████████████████▏       | 778 kB 4.4 MB/s eta 0:00:01\r\u001b[K     |████████████████████████▌       | 788 kB 4.4 MB/s eta 0:00:01\r\u001b[K     |████████████████████████▉       | 798 kB 4.4 MB/s eta 0:00:01\r\u001b[K     |█████████████████████████       | 808 kB 4.4 MB/s eta 0:00:01\r\u001b[K     |█████████████████████████▍      | 819 kB 4.4 MB/s eta 0:00:01\r\u001b[K     |█████████████████████████▊      | 829 kB 4.4 MB/s eta 0:00:01\r\u001b[K     |██████████████████████████      | 839 kB 4.4 MB/s eta 0:00:01\r\u001b[K     |██████████████████████████▍     | 849 kB 4.4 MB/s eta 0:00:01\r\u001b[K     |██████████████████████████▊     | 860 kB 4.4 MB/s eta 0:00:01\r\u001b[K     |███████████████████████████     | 870 kB 4.4 MB/s eta 0:00:01\r\u001b[K     |███████████████████████████▎    | 880 kB 4.4 MB/s eta 0:00:01\r\u001b[K     |███████████████████████████▋    | 890 kB 4.4 MB/s eta 0:00:01\r\u001b[K     |████████████████████████████    | 901 kB 4.4 MB/s eta 0:00:01\r\u001b[K     |████████████████████████████▎   | 911 kB 4.4 MB/s eta 0:00:01\r\u001b[K     |████████████████████████████▋   | 921 kB 4.4 MB/s eta 0:00:01\r\u001b[K     |█████████████████████████████   | 931 kB 4.4 MB/s eta 0:00:01\r\u001b[K     |█████████████████████████████▎  | 942 kB 4.4 MB/s eta 0:00:01\r\u001b[K     |█████████████████████████████▌  | 952 kB 4.4 MB/s eta 0:00:01\r\u001b[K     |█████████████████████████████▉  | 962 kB 4.4 MB/s eta 0:00:01\r\u001b[K     |██████████████████████████████▏ | 972 kB 4.4 MB/s eta 0:00:01\r\u001b[K     |██████████████████████████████▌ | 983 kB 4.4 MB/s eta 0:00:01\r\u001b[K     |██████████████████████████████▉ | 993 kB 4.4 MB/s eta 0:00:01\r\u001b[K     |███████████████████████████████▏| 1.0 MB 4.4 MB/s eta 0:00:01\r\u001b[K     |███████████████████████████████▌| 1.0 MB 4.4 MB/s eta 0:00:01\r\u001b[K     |███████████████████████████████▊| 1.0 MB 4.4 MB/s eta 0:00:01\r\u001b[K     |████████████████████████████████| 1.0 MB 4.4 MB/s \n",
            "\u001b[?25hRequirement already satisfied: pandas>=0.25.0 in /usr/local/lib/python3.7/dist-packages (from geopandas) (1.3.5)\n",
            "Requirement already satisfied: shapely>=1.6 in /usr/local/lib/python3.7/dist-packages (from geopandas) (1.8.2)\n",
            "Collecting pyproj>=2.2.0\n",
            "  Downloading pyproj-3.2.1-cp37-cp37m-manylinux2010_x86_64.whl (6.3 MB)\n",
            "\u001b[K     |████████████████████████████████| 6.3 MB 45.0 MB/s \n",
            "\u001b[?25hCollecting fiona>=1.8\n",
            "  Downloading Fiona-1.8.21-cp37-cp37m-manylinux2014_x86_64.whl (16.7 MB)\n",
            "\u001b[K     |████████████████████████████████| 16.7 MB 371 kB/s \n",
            "\u001b[?25hRequirement already satisfied: six>=1.7 in /usr/local/lib/python3.7/dist-packages (from fiona>=1.8->geopandas) (1.15.0)\n",
            "Collecting cligj>=0.5\n",
            "  Downloading cligj-0.7.2-py3-none-any.whl (7.1 kB)\n",
            "Requirement already satisfied: attrs>=17 in /usr/local/lib/python3.7/dist-packages (from fiona>=1.8->geopandas) (21.4.0)\n",
            "Collecting munch\n",
            "  Downloading munch-2.5.0-py2.py3-none-any.whl (10 kB)\n",
            "Collecting click-plugins>=1.0\n",
            "  Downloading click_plugins-1.1.1-py2.py3-none-any.whl (7.5 kB)\n",
            "Requirement already satisfied: setuptools in /usr/local/lib/python3.7/dist-packages (from fiona>=1.8->geopandas) (57.4.0)\n",
            "Requirement already satisfied: certifi in /usr/local/lib/python3.7/dist-packages (from fiona>=1.8->geopandas) (2021.10.8)\n",
            "Requirement already satisfied: click>=4.0 in /usr/local/lib/python3.7/dist-packages (from fiona>=1.8->geopandas) (7.1.2)\n",
            "Requirement already satisfied: pytz>=2017.3 in /usr/local/lib/python3.7/dist-packages (from pandas>=0.25.0->geopandas) (2022.1)\n",
            "Requirement already satisfied: numpy>=1.17.3 in /usr/local/lib/python3.7/dist-packages (from pandas>=0.25.0->geopandas) (1.21.6)\n",
            "Requirement already satisfied: python-dateutil>=2.7.3 in /usr/local/lib/python3.7/dist-packages (from pandas>=0.25.0->geopandas) (2.8.2)\n",
            "Installing collected packages: munch, cligj, click-plugins, pyproj, fiona, geopandas\n",
            "Successfully installed click-plugins-1.1.1 cligj-0.7.2 fiona-1.8.21 geopandas-0.10.2 munch-2.5.0 pyproj-3.2.1\n"
          ]
        }
      ]
    },
    {
      "cell_type": "code",
      "source": [
        "# Load data from shapefile (.shp) located in GitHub\n",
        "# https://github.com/CesarRosales16/Urban-Sprawl-SV\n",
        "mun_datasource_url = 'https://raw.githubusercontent.com/CesarRosales16/Urban-Sprawl-SV/main/datasources/municipios-qgis/municipios_wgs84.shp'\n",
        "mun_shp_path = '/vsicurl/' + mun_datasource_url\n",
        "mun_data = gpd.read_file(mun_shp_path)\n",
        "mun_data.head()"
      ],
      "metadata": {
        "id": "_wBU1X-GFBD1",
        "colab": {
          "base_uri": "https://localhost:8080/",
          "height": 617
        },
        "outputId": "f80307b6-8504-444b-fa7e-645dfdb64aa7"
      },
      "execution_count": 4,
      "outputs": [
        {
          "output_type": "execute_result",
          "data": {
            "text/plain": [
              "   fid      NOM_DPTO COD_DPTO           NOM_MUN COD_MUN COD_MUN4  TASA_POBR  \\\n",
              "0  1.0  CHALATENANGO       04  NUEVA CONCEPCION      16     0416       46.6   \n",
              "1  2.0  CHALATENANGO       04     AGUA CALIENTE      01     0401       57.3   \n",
              "2  3.0  CHALATENANGO       04          LA PALMA      12     0412       52.4   \n",
              "3  4.0  CHALATENANGO       04       SAN IGNACIO      25     0425       55.2   \n",
              "4  5.0  CHALATENANGO       04            CITALA      04     0404       55.7   \n",
              "\n",
              "         POBR_FISDL    PERIM_KM    AREA_KM2  POB_TOTAL  POB_HOMB  POB_MUJER  \\\n",
              "0  Pobreza Moderada  111.054433  343.809219      28625     13491      15134   \n",
              "1      Pobreza Alta   59.338583  128.497304       8261      3820       4441   \n",
              "2      Pobreza Alta   75.920713  150.504556      12235      5781       6454   \n",
              "3      Pobreza Alta   50.199616   57.706536       8611      4055       4556   \n",
              "4      Pobreza Alta   59.140700   73.623486       4164      1964       2200   \n",
              "\n",
              "   Shape_Leng  Shape_Area                                           geometry  \n",
              "0    1.015356    0.028779  POLYGON ((-89.28916 14.24249, -89.28889 14.241...  \n",
              "1    0.541842    0.010761  POLYGON ((-89.23636 14.27155, -89.23595 14.271...  \n",
              "2    0.696167    0.012609  POLYGON ((-89.10319 14.35704, -89.10298 14.356...  \n",
              "3    0.460160    0.004835  POLYGON ((-89.08244 14.35526, -89.08251 14.355...  \n",
              "4    0.543241    0.006170  POLYGON ((-89.34774 14.41833, -89.34478 14.418...  "
            ],
            "text/html": [
              "\n",
              "  <div id=\"df-86fd718d-eb86-44cd-aa1d-b90af0359d92\">\n",
              "    <div class=\"colab-df-container\">\n",
              "      <div>\n",
              "<style scoped>\n",
              "    .dataframe tbody tr th:only-of-type {\n",
              "        vertical-align: middle;\n",
              "    }\n",
              "\n",
              "    .dataframe tbody tr th {\n",
              "        vertical-align: top;\n",
              "    }\n",
              "\n",
              "    .dataframe thead th {\n",
              "        text-align: right;\n",
              "    }\n",
              "</style>\n",
              "<table border=\"1\" class=\"dataframe\">\n",
              "  <thead>\n",
              "    <tr style=\"text-align: right;\">\n",
              "      <th></th>\n",
              "      <th>fid</th>\n",
              "      <th>NOM_DPTO</th>\n",
              "      <th>COD_DPTO</th>\n",
              "      <th>NOM_MUN</th>\n",
              "      <th>COD_MUN</th>\n",
              "      <th>COD_MUN4</th>\n",
              "      <th>TASA_POBR</th>\n",
              "      <th>POBR_FISDL</th>\n",
              "      <th>PERIM_KM</th>\n",
              "      <th>AREA_KM2</th>\n",
              "      <th>POB_TOTAL</th>\n",
              "      <th>POB_HOMB</th>\n",
              "      <th>POB_MUJER</th>\n",
              "      <th>Shape_Leng</th>\n",
              "      <th>Shape_Area</th>\n",
              "      <th>geometry</th>\n",
              "    </tr>\n",
              "  </thead>\n",
              "  <tbody>\n",
              "    <tr>\n",
              "      <th>0</th>\n",
              "      <td>1.0</td>\n",
              "      <td>CHALATENANGO</td>\n",
              "      <td>04</td>\n",
              "      <td>NUEVA CONCEPCION</td>\n",
              "      <td>16</td>\n",
              "      <td>0416</td>\n",
              "      <td>46.6</td>\n",
              "      <td>Pobreza Moderada</td>\n",
              "      <td>111.054433</td>\n",
              "      <td>343.809219</td>\n",
              "      <td>28625</td>\n",
              "      <td>13491</td>\n",
              "      <td>15134</td>\n",
              "      <td>1.015356</td>\n",
              "      <td>0.028779</td>\n",
              "      <td>POLYGON ((-89.28916 14.24249, -89.28889 14.241...</td>\n",
              "    </tr>\n",
              "    <tr>\n",
              "      <th>1</th>\n",
              "      <td>2.0</td>\n",
              "      <td>CHALATENANGO</td>\n",
              "      <td>04</td>\n",
              "      <td>AGUA CALIENTE</td>\n",
              "      <td>01</td>\n",
              "      <td>0401</td>\n",
              "      <td>57.3</td>\n",
              "      <td>Pobreza Alta</td>\n",
              "      <td>59.338583</td>\n",
              "      <td>128.497304</td>\n",
              "      <td>8261</td>\n",
              "      <td>3820</td>\n",
              "      <td>4441</td>\n",
              "      <td>0.541842</td>\n",
              "      <td>0.010761</td>\n",
              "      <td>POLYGON ((-89.23636 14.27155, -89.23595 14.271...</td>\n",
              "    </tr>\n",
              "    <tr>\n",
              "      <th>2</th>\n",
              "      <td>3.0</td>\n",
              "      <td>CHALATENANGO</td>\n",
              "      <td>04</td>\n",
              "      <td>LA PALMA</td>\n",
              "      <td>12</td>\n",
              "      <td>0412</td>\n",
              "      <td>52.4</td>\n",
              "      <td>Pobreza Alta</td>\n",
              "      <td>75.920713</td>\n",
              "      <td>150.504556</td>\n",
              "      <td>12235</td>\n",
              "      <td>5781</td>\n",
              "      <td>6454</td>\n",
              "      <td>0.696167</td>\n",
              "      <td>0.012609</td>\n",
              "      <td>POLYGON ((-89.10319 14.35704, -89.10298 14.356...</td>\n",
              "    </tr>\n",
              "    <tr>\n",
              "      <th>3</th>\n",
              "      <td>4.0</td>\n",
              "      <td>CHALATENANGO</td>\n",
              "      <td>04</td>\n",
              "      <td>SAN IGNACIO</td>\n",
              "      <td>25</td>\n",
              "      <td>0425</td>\n",
              "      <td>55.2</td>\n",
              "      <td>Pobreza Alta</td>\n",
              "      <td>50.199616</td>\n",
              "      <td>57.706536</td>\n",
              "      <td>8611</td>\n",
              "      <td>4055</td>\n",
              "      <td>4556</td>\n",
              "      <td>0.460160</td>\n",
              "      <td>0.004835</td>\n",
              "      <td>POLYGON ((-89.08244 14.35526, -89.08251 14.355...</td>\n",
              "    </tr>\n",
              "    <tr>\n",
              "      <th>4</th>\n",
              "      <td>5.0</td>\n",
              "      <td>CHALATENANGO</td>\n",
              "      <td>04</td>\n",
              "      <td>CITALA</td>\n",
              "      <td>04</td>\n",
              "      <td>0404</td>\n",
              "      <td>55.7</td>\n",
              "      <td>Pobreza Alta</td>\n",
              "      <td>59.140700</td>\n",
              "      <td>73.623486</td>\n",
              "      <td>4164</td>\n",
              "      <td>1964</td>\n",
              "      <td>2200</td>\n",
              "      <td>0.543241</td>\n",
              "      <td>0.006170</td>\n",
              "      <td>POLYGON ((-89.34774 14.41833, -89.34478 14.418...</td>\n",
              "    </tr>\n",
              "  </tbody>\n",
              "</table>\n",
              "</div>\n",
              "      <button class=\"colab-df-convert\" onclick=\"convertToInteractive('df-86fd718d-eb86-44cd-aa1d-b90af0359d92')\"\n",
              "              title=\"Convert this dataframe to an interactive table.\"\n",
              "              style=\"display:none;\">\n",
              "        \n",
              "  <svg xmlns=\"http://www.w3.org/2000/svg\" height=\"24px\"viewBox=\"0 0 24 24\"\n",
              "       width=\"24px\">\n",
              "    <path d=\"M0 0h24v24H0V0z\" fill=\"none\"/>\n",
              "    <path d=\"M18.56 5.44l.94 2.06.94-2.06 2.06-.94-2.06-.94-.94-2.06-.94 2.06-2.06.94zm-11 1L8.5 8.5l.94-2.06 2.06-.94-2.06-.94L8.5 2.5l-.94 2.06-2.06.94zm10 10l.94 2.06.94-2.06 2.06-.94-2.06-.94-.94-2.06-.94 2.06-2.06.94z\"/><path d=\"M17.41 7.96l-1.37-1.37c-.4-.4-.92-.59-1.43-.59-.52 0-1.04.2-1.43.59L10.3 9.45l-7.72 7.72c-.78.78-.78 2.05 0 2.83L4 21.41c.39.39.9.59 1.41.59.51 0 1.02-.2 1.41-.59l7.78-7.78 2.81-2.81c.8-.78.8-2.07 0-2.86zM5.41 20L4 18.59l7.72-7.72 1.47 1.35L5.41 20z\"/>\n",
              "  </svg>\n",
              "      </button>\n",
              "      \n",
              "  <style>\n",
              "    .colab-df-container {\n",
              "      display:flex;\n",
              "      flex-wrap:wrap;\n",
              "      gap: 12px;\n",
              "    }\n",
              "\n",
              "    .colab-df-convert {\n",
              "      background-color: #E8F0FE;\n",
              "      border: none;\n",
              "      border-radius: 50%;\n",
              "      cursor: pointer;\n",
              "      display: none;\n",
              "      fill: #1967D2;\n",
              "      height: 32px;\n",
              "      padding: 0 0 0 0;\n",
              "      width: 32px;\n",
              "    }\n",
              "\n",
              "    .colab-df-convert:hover {\n",
              "      background-color: #E2EBFA;\n",
              "      box-shadow: 0px 1px 2px rgba(60, 64, 67, 0.3), 0px 1px 3px 1px rgba(60, 64, 67, 0.15);\n",
              "      fill: #174EA6;\n",
              "    }\n",
              "\n",
              "    [theme=dark] .colab-df-convert {\n",
              "      background-color: #3B4455;\n",
              "      fill: #D2E3FC;\n",
              "    }\n",
              "\n",
              "    [theme=dark] .colab-df-convert:hover {\n",
              "      background-color: #434B5C;\n",
              "      box-shadow: 0px 1px 3px 1px rgba(0, 0, 0, 0.15);\n",
              "      filter: drop-shadow(0px 1px 2px rgba(0, 0, 0, 0.3));\n",
              "      fill: #FFFFFF;\n",
              "    }\n",
              "  </style>\n",
              "\n",
              "      <script>\n",
              "        const buttonEl =\n",
              "          document.querySelector('#df-86fd718d-eb86-44cd-aa1d-b90af0359d92 button.colab-df-convert');\n",
              "        buttonEl.style.display =\n",
              "          google.colab.kernel.accessAllowed ? 'block' : 'none';\n",
              "\n",
              "        async function convertToInteractive(key) {\n",
              "          const element = document.querySelector('#df-86fd718d-eb86-44cd-aa1d-b90af0359d92');\n",
              "          const dataTable =\n",
              "            await google.colab.kernel.invokeFunction('convertToInteractive',\n",
              "                                                     [key], {});\n",
              "          if (!dataTable) return;\n",
              "\n",
              "          const docLinkHtml = 'Like what you see? Visit the ' +\n",
              "            '<a target=\"_blank\" href=https://colab.research.google.com/notebooks/data_table.ipynb>data table notebook</a>'\n",
              "            + ' to learn more about interactive tables.';\n",
              "          element.innerHTML = '';\n",
              "          dataTable['output_type'] = 'display_data';\n",
              "          await google.colab.output.renderOutput(dataTable, element);\n",
              "          const docLink = document.createElement('div');\n",
              "          docLink.innerHTML = docLinkHtml;\n",
              "          element.appendChild(docLink);\n",
              "        }\n",
              "      </script>\n",
              "    </div>\n",
              "  </div>\n",
              "  "
            ]
          },
          "metadata": {},
          "execution_count": 4
        }
      ]
    },
    {
      "cell_type": "code",
      "source": [
        "# Set coordinate reference system to dataset (WGS84 = epsg:4326)\n",
        "mun_data.crs = 'epsg:4326'\n",
        "print(mun_data.crs)\n",
        "mun_data.plot()"
      ],
      "metadata": {
        "id": "yGGt0mJqFFWd",
        "colab": {
          "base_uri": "https://localhost:8080/",
          "height": 265
        },
        "outputId": "cfc47839-395f-4647-8a30-9ae41a425912"
      },
      "execution_count": 5,
      "outputs": [
        {
          "output_type": "stream",
          "name": "stdout",
          "text": [
            "epsg:4326\n"
          ]
        },
        {
          "output_type": "execute_result",
          "data": {
            "text/plain": [
              "<matplotlib.axes._subplots.AxesSubplot at 0x7fc7a9459510>"
            ]
          },
          "metadata": {},
          "execution_count": 5
        },
        {
          "output_type": "display_data",
          "data": {
            "text/plain": [
              "<Figure size 432x288 with 1 Axes>"
            ],
            "image/png": "[encoded data removed]"
          },
          "metadata": {
            "needs_background": "light"
          }
        }
      ]
    },
    {
      "cell_type": "code",
      "source": [
        "# Create a new dataset based on AMSS municipalities\n",
        "mun_amss = ['NEJAPA', 'TONACATEPEQUE', 'CUSCATANCINGO', 'APOPA', 'DELGADO', 'AYUTUXTEPEQUE', 'MEJICANOS', 'SAN SALVADOR',\n",
        "'SAN MARTIN', 'ILOPANGO', 'SOYAPANGO', 'SAN MARCOS', 'ANTIGUO CUSCATLAN', 'SANTA TECLA']\n",
        "amss_data = mun_data.loc[mun_data.NOM_MUN.isin(mun_amss)]"
      ],
      "metadata": {
        "id": "u7jco1S8FHyT"
      },
      "execution_count": 6,
      "outputs": []
    },
    {
      "cell_type": "code",
      "source": [
        "# Create a new dataset based on aiditional municipalities, for our case Colon\n",
        "mun_aditional = ['COLON']\n",
        "mun_aditional_data = mun_data.loc[mun_data.NOM_MUN.isin(mun_aditional)]"
      ],
      "metadata": {
        "id": "NptAejDXFKXM"
      },
      "execution_count": 7,
      "outputs": []
    },
    {
      "cell_type": "code",
      "source": [
        "# Plot amss and colon in a single map\n",
        "ax = amss_data.plot(figsize=(8,8), color='none', edgecolor='gray')\n",
        "mun_aditional_data.plot(ax=ax, color='none', edgecolor='red')"
      ],
      "metadata": {
        "id": "gm3_ddaWFNFj",
        "colab": {
          "base_uri": "https://localhost:8080/",
          "height": 500
        },
        "outputId": "6d30cb8f-f1a3-428e-fcc9-0aa9c6b51cdf"
      },
      "execution_count": 8,
      "outputs": [
        {
          "output_type": "execute_result",
          "data": {
            "text/plain": [
              "<matplotlib.axes._subplots.AxesSubplot at 0x7fc7a944e8d0>"
            ]
          },
          "metadata": {},
          "execution_count": 8
        },
        {
          "output_type": "display_data",
          "data": {
            "text/plain": [
              "<Figure size 576x576 with 1 Axes>"
            ],
            "image/png": "[encoded data removed]"
          },
          "metadata": {
            "needs_background": "light"
          }
        }
      ]
    },
    {
      "cell_type": "code",
      "source": [
        "# Merge AMSS and aditional municipalities in a single dataframe for our ROI (Region Of Interest)\n",
        "mun_roi = mun_amss + mun_aditional\n",
        "roi_data = mun_data.loc[mun_data.NOM_MUN.isin(mun_roi)]"
      ],
      "metadata": {
        "id": "EwaQoVBMFOEt"
      },
      "execution_count": 9,
      "outputs": []
    },
    {
      "cell_type": "code",
      "source": [
        "# Plot or ROI\n",
        "roi_data.plot(figsize=(10,10), color='none', edgecolor='gray')"
      ],
      "metadata": {
        "id": "eMVochzzFPab",
        "colab": {
          "base_uri": "https://localhost:8080/",
          "height": 609
        },
        "outputId": "a3b10bce-a7b5-4a9d-c4db-bac1ccb92c16"
      },
      "execution_count": 10,
      "outputs": [
        {
          "output_type": "execute_result",
          "data": {
            "text/plain": [
              "<matplotlib.axes._subplots.AxesSubplot at 0x7fc7a945cfd0>"
            ]
          },
          "metadata": {},
          "execution_count": 10
        },
        {
          "output_type": "display_data",
          "data": {
            "text/plain": [
              "<Figure size 720x720 with 1 Axes>"
            ],
            "image/png": "[encoded data removed]"
          },
          "metadata": {
            "needs_background": "light"
          }
        }
      ]
    },
    {
      "cell_type": "code",
      "source": [
        "# Check the CRS for the final df\n",
        "print(roi_data.crs)"
      ],
      "metadata": {
        "id": "QN_5Mex_GMrV",
        "colab": {
          "base_uri": "https://localhost:8080/"
        },
        "outputId": "e9cc98dd-bfea-4ca9-8d5e-6477ee2cee58"
      },
      "execution_count": 11,
      "outputs": [
        {
          "output_type": "stream",
          "name": "stdout",
          "text": [
            "epsg:4326\n"
          ]
        }
      ]
    },
    {
      "cell_type": "code",
      "source": [
        "# Geographic data for SV\n",
        "sv_lon = -88.89653\n",
        "sv_lat = 13.794185\n",
        "sv_poi = ee.Geometry.Point(sv_lon, sv_lat)"
      ],
      "metadata": {
        "id": "ncPGEAqAG25M"
      },
      "execution_count": 12,
      "outputs": []
    },
    {
      "cell_type": "code",
      "source": [
        "# Import json library to transform geopandas to json and then to GEE feature collection\n",
        "import json\n",
        "\n",
        "# Create json from our ROI geodataframe\n",
        "roi_json = json.loads(roi_data.to_json())\n",
        "\n",
        "# Craete Google Earth Engine FeatureCollection from geojson\n",
        "roi_fc = ee.FeatureCollection(roi_json)\n",
        "\n",
        "# Create GEE Geometry from FeatureCollection\n",
        "roi_geom = ee.Geometry(roi_fc.geometry())"
      ],
      "metadata": {
        "id": "0EoewHFbH82s"
      },
      "execution_count": 13,
      "outputs": []
    },
    {
      "cell_type": "markdown",
      "source": [
        "## Clipping landsat images"
      ],
      "metadata": {
        "id": "NbVpPLSPR1p7"
      }
    },
    {
      "cell_type": "code",
      "source": [
        "#Define cloud masks for landsat images\n",
        "def cloudMaskL8(img):\n",
        "  '''  \n",
        "  Function to mask clouds based on the pixel_qa band of Landsat 8 SR data. See:\n",
        "  https://developers.google.com/earth-engine/datasets/catalog/LANDSAT_LC08_C01_T1_SR\n",
        "  \n",
        "  Params:\n",
        "  -------\n",
        "  - img: image input Landsat 8 SR image\n",
        "  \n",
        "  Return:\n",
        "  -------\n",
        "  cloudmasked Landsat 8 image\n",
        "  '''\n",
        "  cloudShadowBitMask = (1 << 3)\n",
        "  cloudsBitMask = (1 << 5)\n",
        "  # Get the pixel QA band.\n",
        "  qa = img.select('pixel_qa')\n",
        "  # Both flags should be set to zero, indicating clear conditions.\n",
        "  mask = qa.bitwiseAnd(cloudShadowBitMask).eq(0)\\\n",
        "           .And(qa.bitwiseAnd(cloudsBitMask).eq(0))\n",
        "  return img.updateMask(mask)   \n",
        "\n",
        "def cloudMaskL457(img):\n",
        "  '''  \n",
        "  Function to mask clouds based on the pixel_qa band of Landsat 4/5/7 SR data. See:\n",
        "  https://developers.google.com/earth-engine/datasets/catalog/LANDSAT_LT05_C01_T1_SR\n",
        "  \n",
        "  Params:\n",
        "  -------\n",
        "  - img: image input Landsat 4/5/7 SR image\n",
        "  \n",
        "  Return:\n",
        "  -------\n",
        "  cloudmasked Landsat 4/5/7 image\n",
        "  '''\n",
        "  # Get the pixel QA band.\n",
        "  qa = img.select('pixel_qa')\n",
        "  # If the cloud bit (5) is set and the cloud confidence (7) is high or the cloud shadow bit is set (3), then it's a bad pixel.\n",
        "  cloud = qa.bitwiseAnd(1 << 5)\\\n",
        "                  .And(qa.bitwiseAnd(1 << 7))\\\n",
        "                  .Or(qa.bitwiseAnd(1 << 3))\n",
        "  # Remove edge pixels that don't occur in all bands\n",
        "  mask = img.mask().reduce(ee.Reducer.min())\n",
        "  return img.updateMask(cloud.Not()).updateMask(mask)   "
      ],
      "metadata": {
        "id": "04whIroOlOqZ"
      },
      "execution_count": 68,
      "outputs": []
    },
    {
      "cell_type": "code",
      "source": [
        "# Clipping landsat image\n",
        "\"\"\"\n",
        "Params needed to landsat image\n",
        "landsat_collection_path = 'LANDSAT/LC08/C01/T1_SR'\n",
        "initial_date = '2015-01-01'\n",
        "final_date = '2015-12-31'\n",
        "sort_filter = 'CLOUD_COVER'\n",
        "\"\"\"\n",
        "\n",
        "# Load Landsat Collection\n",
        "landsat_collection = ee.ImageCollection('LANDSAT/LC08/C01/T1_SR')\n",
        "\n",
        "\n",
        "# Clips image to desired area\n",
        "clipped_image = landsat_collection\\\n",
        "  .filterBounds(roi_geom)\\\n",
        "  .filterDate('2015-01-01','2015-12-31')\\\n",
        "  .filter(ee.Filter.lt('CLOUD_COVER', 20))\\\n",
        "  .map(cloudMaskL8)\\\n",
        "  .median()\\\n",
        "  .clip(roi_geom)\n",
        "\n",
        "\"\"\"# Clips image to desired area\n",
        "clipped_image = landsat_collection\\\n",
        "  .filterBounds(roi_geom)\\\n",
        "  .filterDate('2015-01-01','2015-12-31')\\\n",
        "  .filter(ee.Filter.lt('CLOUD_COVER', 20))\\\n",
        "  .map(maskS2clouds)\\ \n",
        "  .median()\\\n",
        "  .multiply(0.0001)\\ \n",
        "  .clip(roi_geom)\"\"\"\n",
        "\n",
        "# Set visualization parameters\n",
        "vis_params = {\n",
        "    'bands':['B4', 'B3', 'B2'], \n",
        "    'min': 0, \n",
        "    'max': 3000, \n",
        "    'gamma': 1.4\n",
        "}"
      ],
      "metadata": {
        "id": "LVgZvkm9T0xb"
      },
      "execution_count": 69,
      "outputs": []
    },
    {
      "cell_type": "markdown",
      "source": [
        "### Generar imagenes landsat dinamicamente (INTENTO)"
      ],
      "metadata": {
        "id": "W-lih9CDG76M"
      }
    },
    {
      "cell_type": "code",
      "source": [
        "# Function that clips landsat images\n",
        "def clipLandsatImage(year, cloud_contamination):\n",
        "  if year >= 1985 and year <= 1999:\n",
        "    landsat_num = 'LT05'\n",
        "  elif year >= 2000 and year <= 2013:\n",
        "    landsat_num = 'LE07'\n",
        "  elif year >= 2014 and year <= 2021:\n",
        "    landsat_num = 'LC08'\n",
        "  #print('Año',year, ':',landsat_num)\n",
        "  landsat_collection = ee.ImageCollection('LANDSAT/'+landsat_num+'/C01/T1_SR')\n",
        "  clipped_image = landsat_collection\\\n",
        "    .filterBounds(roi_geom)\\\n",
        "    .filterDate(str(year)+'-01-01', str(year)+'-12-31')\\\n",
        "    .filter(ee.Filter.lt('CLOUD_COVER', cloud_contamination))\\\n",
        "    .map(cloudMaskL8 if landsat_num == 'LC08' else cloudMaskL457)\\\n",
        "    .median()\\\n",
        "    .clip(roi_geom)\n",
        "  return clipped_image"
      ],
      "metadata": {
        "id": "1_bbV8iQ5gxC"
      },
      "execution_count": 70,
      "outputs": []
    },
    {
      "cell_type": "code",
      "source": [
        "initial_year = 1992\n",
        "end_year = 2021\n",
        "cloud_contamination = 20\n",
        "clipped_images = []\n",
        "\n",
        "for year in range(initial_year, end_year + 1):\n",
        "  clipped_images.append(clipLandsatImage(year, cloud_contamination))\n",
        "print(len(clipped_images))"
      ],
      "metadata": {
        "colab": {
          "base_uri": "https://localhost:8080/"
        },
        "id": "rXWZRtdU8kG1",
        "outputId": "4c68e66f-a274-4f68-98ea-d9d9533ef581"
      },
      "execution_count": 73,
      "outputs": [
        {
          "output_type": "stream",
          "name": "stdout",
          "text": [
            "30\n"
          ]
        }
      ]
    },
    {
      "cell_type": "code",
      "source": [
        "# Define a map centered on El Salvador\n",
        "my_map = folium.Map(location=[sv_lat, sv_lon], zoom_start=9, max_bounds=True)\n",
        "\n",
        "#Add Boundaries layer\n",
        "# Reference: https://developers.google.com/earth-engine/guides/feature_collections_visualizing\n",
        "\"\"\"study_area_boundaries = ee.Image().paint(study_area_feature_collection, 1, 2)\n",
        "my_map.add_ee_layer(study_area_boundaries, {'palette': 'FF0000'}, 'Boundaries')\"\"\"\n",
        "my_map.add_ee_layer(roi_fc.draw('006600', 3, 2), {}, 'Study Area Boundaries')\n",
        "\n",
        "# Add the clipped image layer\n",
        "my_map.add_ee_layer(clipped_images[0], vis_params, 'Landsat clipped image 0')\n",
        "my_map.add_ee_layer(clipped_images[8], vis_params, 'Landsat clipped image 8')\n",
        "my_map.add_ee_layer(clipped_images[22], vis_params, 'Landsat clipped image 22')\n",
        "my_map.add_ee_layer(clipped_images[29], vis_params, 'Landsat clipped image 29')\n",
        "\n",
        "# Add clasified image\n",
        "#my_map.add_ee_layer(classified_image, {'palette': land_cover_palette, 'min': 0, 'max': 2}, 'Cart classification')\n",
        "\n",
        "# Add a layer control panel to the map\n",
        "my_map.add_child(folium.LayerControl())\n",
        "\n",
        "# Displays the map\n",
        "display(my_map)"
      ],
      "metadata": {
        "colab": {
          "base_uri": "https://localhost:8080/",
          "height": 763
        },
        "id": "8mcGL7IFE1Ik",
        "outputId": "a7174070-85a4-47c5-ebb5-dec637caa575"
      },
      "execution_count": 74,
      "outputs": [
        {
          "output_type": "display_data",
          "data": {
            "text/plain": [
              "<folium.folium.Map at 0x7fc7a0fc1e90>"
            ],
            "text/html": [
              "<div style=\"width:100%;\"><div style=\"position:relative;width:100%;height:0;padding-bottom:60%;\"><span style=\"color:#565656\">Make this Notebook Trusted to load map: File -> Trust Notebook</span><iframe srcdoc=\"&lt;!DOCTYPE html&gt;\n",
              "&lt;head&gt;    \n",
              "    &lt;meta http-equiv=&quot;content-type&quot; content=&quot;text/html; charset=UTF-8&quot; /&gt;\n",
              "    &lt;script&gt;L_PREFER_CANVAS=false; L_NO_TOUCH=false; L_DISABLE_3D=false;&lt;/script&gt;\n",
              "    &lt;script src=&quot;https://cdn.jsdelivr.net/npm/leaflet@1.4.0/dist/leaflet.js&quot;&gt;&lt;/script&gt;\n",
              "    &lt;script src=&quot;https://code.jquery.com/jquery-1.12.4.min.js&quot;&gt;&lt;/script&gt;\n",
              "    &lt;script src=&quot;https://maxcdn.bootstrapcdn.com/bootstrap/3.2.0/js/bootstrap.min.js&quot;&gt;&lt;/script&gt;\n",
              "    &lt;script src=&quot;https://cdnjs.cloudflare.com/ajax/libs/Leaflet.awesome-markers/2.0.2/leaflet.awesome-markers.js&quot;&gt;&lt;/script&gt;\n",
              "    &lt;link rel=&quot;stylesheet&quot; href=&quot;https://cdn.jsdelivr.net/npm/leaflet@1.4.0/dist/leaflet.css&quot;/&gt;\n",
              "    &lt;link rel=&quot;stylesheet&quot; href=&quot;https://maxcdn.bootstrapcdn.com/bootstrap/3.2.0/css/bootstrap.min.css&quot;/&gt;\n",
              "    &lt;link rel=&quot;stylesheet&quot; href=&quot;https://maxcdn.bootstrapcdn.com/bootstrap/3.2.0/css/bootstrap-theme.min.css&quot;/&gt;\n",
              "    &lt;link rel=&quot;stylesheet&quot; href=&quot;https://maxcdn.bootstrapcdn.com/font-awesome/4.6.3/css/font-awesome.min.css&quot;/&gt;\n",
              "    &lt;link rel=&quot;stylesheet&quot; href=&quot;https://cdnjs.cloudflare.com/ajax/libs/Leaflet.awesome-markers/2.0.2/leaflet.awesome-markers.css&quot;/&gt;\n",
              "    &lt;link rel=&quot;stylesheet&quot; href=&quot;https://rawcdn.githack.com/python-visualization/folium/master/folium/templates/leaflet.awesome.rotate.css&quot;/&gt;\n",
              "    &lt;style&gt;html, body {width: 100%;height: 100%;margin: 0;padding: 0;}&lt;/style&gt;\n",
              "    &lt;style&gt;#map {position:absolute;top:0;bottom:0;right:0;left:0;}&lt;/style&gt;\n",
              "    \n",
              "    &lt;meta name=&quot;viewport&quot; content=&quot;width=device-width,\n",
              "        initial-scale=1.0, maximum-scale=1.0, user-scalable=no&quot; /&gt;\n",
              "    &lt;style&gt;#map_0bbbddef779bf27965e03d6b4df90f2e {\n",
              "        position: relative;\n",
              "        width: 100.0%;\n",
              "        height: 100.0%;\n",
              "        left: 0.0%;\n",
              "        top: 0.0%;\n",
              "        }\n",
              "    &lt;/style&gt;\n",
              "&lt;/head&gt;\n",
              "&lt;body&gt;    \n",
              "    \n",
              "    &lt;div class=&quot;folium-map&quot; id=&quot;map_0bbbddef779bf27965e03d6b4df90f2e&quot; &gt;&lt;/div&gt;\n",
              "&lt;/body&gt;\n",
              "&lt;script&gt;    \n",
              "    \n",
              "    \n",
              "        var southWest = L.latLng(-90, -180);\n",
              "        var northEast = L.latLng(90, 180);\n",
              "        var bounds = L.latLngBounds(southWest, northEast);\n",
              "    \n",
              "\n",
              "    var map_0bbbddef779bf27965e03d6b4df90f2e = L.map(\n",
              "        &#x27;map_0bbbddef779bf27965e03d6b4df90f2e&#x27;, {\n",
              "        center: [13.794185, -88.89653],\n",
              "        zoom: 9,\n",
              "        maxBounds: bounds,\n",
              "        layers: [],\n",
              "        worldCopyJump: false,\n",
              "        crs: L.CRS.EPSG3857,\n",
              "        zoomControl: true,\n",
              "        });\n",
              "\n",
              "\n",
              "    \n",
              "    var tile_layer_c21566386b80bce00ccecefef114d51d = L.tileLayer(\n",
              "        &#x27;https://{s}.tile.openstreetmap.org/{z}/{x}/{y}.png&#x27;,\n",
              "        {\n",
              "        &quot;attribution&quot;: null,\n",
              "        &quot;detectRetina&quot;: false,\n",
              "        &quot;maxNativeZoom&quot;: 18,\n",
              "        &quot;maxZoom&quot;: 18,\n",
              "        &quot;minZoom&quot;: 0,\n",
              "        &quot;noWrap&quot;: false,\n",
              "        &quot;opacity&quot;: 1,\n",
              "        &quot;subdomains&quot;: &quot;abc&quot;,\n",
              "        &quot;tms&quot;: false\n",
              "}).addTo(map_0bbbddef779bf27965e03d6b4df90f2e);\n",
              "    var tile_layer_ee91590c9cd974ec40340ea80a9f7c4b = L.tileLayer(\n",
              "        &#x27;https://earthengine.googleapis.com/v1alpha/projects/earthengine-legacy/maps/f6a616aab17f0ed5506b468e5e4945ff-9fce52998cb1ce71bc97c3f5fc1ebc57/tiles/{z}/{x}/{y}&#x27;,\n",
              "        {\n",
              "        &quot;attribution&quot;: &quot;Map Data &amp;copy; &lt;a href=\\&quot;https://earthengine.google.com/\\&quot;&gt;Google Earth Engine&lt;/a&gt;&quot;,\n",
              "        &quot;detectRetina&quot;: false,\n",
              "        &quot;maxNativeZoom&quot;: 18,\n",
              "        &quot;maxZoom&quot;: 18,\n",
              "        &quot;minZoom&quot;: 0,\n",
              "        &quot;noWrap&quot;: false,\n",
              "        &quot;opacity&quot;: 1,\n",
              "        &quot;subdomains&quot;: &quot;abc&quot;,\n",
              "        &quot;tms&quot;: false\n",
              "}).addTo(map_0bbbddef779bf27965e03d6b4df90f2e);\n",
              "    var tile_layer_30a190d60032e7a220dd3f0c30c6c75d = L.tileLayer(\n",
              "        &#x27;https://earthengine.googleapis.com/v1alpha/projects/earthengine-legacy/maps/a1a5b8159a74a82b15bada67dd5b5d4c-5f49b38a9ecba1f6c1753c201f027bd6/tiles/{z}/{x}/{y}&#x27;,\n",
              "        {\n",
              "        &quot;attribution&quot;: &quot;Map Data &amp;copy; &lt;a href=\\&quot;https://earthengine.google.com/\\&quot;&gt;Google Earth Engine&lt;/a&gt;&quot;,\n",
              "        &quot;detectRetina&quot;: false,\n",
              "        &quot;maxNativeZoom&quot;: 18,\n",
              "        &quot;maxZoom&quot;: 18,\n",
              "        &quot;minZoom&quot;: 0,\n",
              "        &quot;noWrap&quot;: false,\n",
              "        &quot;opacity&quot;: 1,\n",
              "        &quot;subdomains&quot;: &quot;abc&quot;,\n",
              "        &quot;tms&quot;: false\n",
              "}).addTo(map_0bbbddef779bf27965e03d6b4df90f2e);\n",
              "    var tile_layer_2f19bdea01f51f711c9487109b13ba4a = L.tileLayer(\n",
              "        &#x27;https://earthengine.googleapis.com/v1alpha/projects/earthengine-legacy/maps/57aa68d433425ae6296435b012592849-001224f6c9578256804d8072c6d9b203/tiles/{z}/{x}/{y}&#x27;,\n",
              "        {\n",
              "        &quot;attribution&quot;: &quot;Map Data &amp;copy; &lt;a href=\\&quot;https://earthengine.google.com/\\&quot;&gt;Google Earth Engine&lt;/a&gt;&quot;,\n",
              "        &quot;detectRetina&quot;: false,\n",
              "        &quot;maxNativeZoom&quot;: 18,\n",
              "        &quot;maxZoom&quot;: 18,\n",
              "        &quot;minZoom&quot;: 0,\n",
              "        &quot;noWrap&quot;: false,\n",
              "        &quot;opacity&quot;: 1,\n",
              "        &quot;subdomains&quot;: &quot;abc&quot;,\n",
              "        &quot;tms&quot;: false\n",
              "}).addTo(map_0bbbddef779bf27965e03d6b4df90f2e);\n",
              "    var tile_layer_4225f97e1457dff337f67878f0e24c44 = L.tileLayer(\n",
              "        &#x27;https://earthengine.googleapis.com/v1alpha/projects/earthengine-legacy/maps/636f2a92b31ed17d4b012b95cd3a55b1-5ae9e8c606fe0118c1cf5b907d3ddab9/tiles/{z}/{x}/{y}&#x27;,\n",
              "        {\n",
              "        &quot;attribution&quot;: &quot;Map Data &amp;copy; &lt;a href=\\&quot;https://earthengine.google.com/\\&quot;&gt;Google Earth Engine&lt;/a&gt;&quot;,\n",
              "        &quot;detectRetina&quot;: false,\n",
              "        &quot;maxNativeZoom&quot;: 18,\n",
              "        &quot;maxZoom&quot;: 18,\n",
              "        &quot;minZoom&quot;: 0,\n",
              "        &quot;noWrap&quot;: false,\n",
              "        &quot;opacity&quot;: 1,\n",
              "        &quot;subdomains&quot;: &quot;abc&quot;,\n",
              "        &quot;tms&quot;: false\n",
              "}).addTo(map_0bbbddef779bf27965e03d6b4df90f2e);\n",
              "    var tile_layer_0e18ed7eed342c3a6deaa3c3ff473ad7 = L.tileLayer(\n",
              "        &#x27;https://earthengine.googleapis.com/v1alpha/projects/earthengine-legacy/maps/3ac2df1b6981445bc72b21227a73abc2-250b9a1132abe2635550baad9f97cba9/tiles/{z}/{x}/{y}&#x27;,\n",
              "        {\n",
              "        &quot;attribution&quot;: &quot;Map Data &amp;copy; &lt;a href=\\&quot;https://earthengine.google.com/\\&quot;&gt;Google Earth Engine&lt;/a&gt;&quot;,\n",
              "        &quot;detectRetina&quot;: false,\n",
              "        &quot;maxNativeZoom&quot;: 18,\n",
              "        &quot;maxZoom&quot;: 18,\n",
              "        &quot;minZoom&quot;: 0,\n",
              "        &quot;noWrap&quot;: false,\n",
              "        &quot;opacity&quot;: 1,\n",
              "        &quot;subdomains&quot;: &quot;abc&quot;,\n",
              "        &quot;tms&quot;: false\n",
              "}).addTo(map_0bbbddef779bf27965e03d6b4df90f2e);\n",
              "    \n",
              "            var layer_control_1ef654ea949b15bd0852a85c1ca227ef = {\n",
              "                base_layers : { &quot;openstreetmap&quot; : tile_layer_c21566386b80bce00ccecefef114d51d, },\n",
              "                overlays : { &quot;Study Area Boundaries&quot; : tile_layer_ee91590c9cd974ec40340ea80a9f7c4b,&quot;Landsat clipped image 0&quot; : tile_layer_30a190d60032e7a220dd3f0c30c6c75d,&quot;Landsat clipped image 8&quot; : tile_layer_2f19bdea01f51f711c9487109b13ba4a,&quot;Landsat clipped image 22&quot; : tile_layer_4225f97e1457dff337f67878f0e24c44,&quot;Landsat clipped image 29&quot; : tile_layer_0e18ed7eed342c3a6deaa3c3ff473ad7, }\n",
              "                };\n",
              "            L.control.layers(\n",
              "                layer_control_1ef654ea949b15bd0852a85c1ca227ef.base_layers,\n",
              "                layer_control_1ef654ea949b15bd0852a85c1ca227ef.overlays,\n",
              "                {position: &#x27;topright&#x27;,\n",
              "                 collapsed: true,\n",
              "                 autoZIndex: true\n",
              "                }).addTo(map_0bbbddef779bf27965e03d6b4df90f2e);\n",
              "            \n",
              "        \n",
              "&lt;/script&gt;\" style=\"position:absolute;width:100%;height:100%;left:0;top:0;border:none !important;\" allowfullscreen webkitallowfullscreen mozallowfullscreen></iframe></div></div>"
            ]
          },
          "metadata": {}
        }
      ]
    },
    {
      "cell_type": "markdown",
      "source": [
        "### Obtener imagenes landsat de forma dinamica (intento 2)"
      ],
      "metadata": {
        "id": "MWs3GZrgJczd"
      }
    },
    {
      "cell_type": "code",
      "source": [
        "# Function that retrieves Landsat Collection number for a given year\n",
        "def getLandsatCollectionNumber(year):\n",
        "  if year >= 1985 and year <= 1999:\n",
        "    return 'LT05'\n",
        "  elif year >= 2000 and year <= 2013:\n",
        "    return 'LE07'\n",
        "  elif year >= 2014 and year <= 2021:\n",
        "    return 'LC08'"
      ],
      "metadata": {
        "id": "-TnXdDICJiBz"
      },
      "execution_count": 85,
      "outputs": []
    },
    {
      "cell_type": "code",
      "source": [
        "# Function that clips a single Landsat Image given landsat collection number, a year, a roi and a porcentage of cloud contamination\n",
        "def clipLandsatImage(year, landsat_number, cloud_contamination, roi):\n",
        "\n",
        "  landsat_path = 'LANDSAT/' + landsat_number + '/C01/T1_SR'\n",
        "  initial_date = str(year) + '-01-01'\n",
        "  end_date = str(year) + '-12-31'\n",
        "\n",
        "  landsat_collection = ee.ImageCollection(landsat_path)\n",
        "\n",
        "  clipped_image = landsat_collection\\\n",
        "    .filterBounds(roi)\\\n",
        "    .filterDate(initial_date, end_date)\\\n",
        "    .filter(ee.Filter.lt('CLOUD_COVER', cloud_contamination))\\\n",
        "    .map(cloudMaskL8 if landsat_number == 'LC08' else cloudMaskL457)\\\n",
        "    .median()\\\n",
        "    .clip(roi)\n",
        "\n",
        "  return clipped_image"
      ],
      "metadata": {
        "id": "tvVJqza8J2G1"
      },
      "execution_count": 86,
      "outputs": []
    },
    {
      "cell_type": "code",
      "source": [
        "# Function that clips n Landsat Images in a range of years, given a cloud contamination percentage and a roi\n",
        "def clipLandsatImagesInRange(initial_year, end_year, cloud_contamination, roi):\n",
        "  clipped_images = []\n",
        "  for year in range(initial_year, end_year + 1):\n",
        "    landsat_num = getLandsatCollectionNumber(year)\n",
        "    clipped_images.append(clipLandsatImage(year, landsat_num, cloud_contamination, roi_geom))\n",
        "  print(\"Number of clipped images: \", len(clipped_images))\n",
        "  return clipped_images"
      ],
      "metadata": {
        "id": "zRnceTQVKzbc"
      },
      "execution_count": 87,
      "outputs": []
    },
    {
      "cell_type": "code",
      "source": [
        "clipped_images_modular = clipLandsatImagesInRange(initial_year=1992, end_year=2021, cloud_contamination=30, roi=roi_geom)"
      ],
      "metadata": {
        "colab": {
          "base_uri": "https://localhost:8080/"
        },
        "id": "vaQYAZdsNRUc",
        "outputId": "489f662c-90d6-4dc8-c89a-b6c6f3c624aa"
      },
      "execution_count": 89,
      "outputs": [
        {
          "output_type": "stream",
          "name": "stdout",
          "text": [
            "Number of clipped images:  30\n"
          ]
        }
      ]
    },
    {
      "cell_type": "code",
      "source": [
        "# Define a map centered on El Salvador\n",
        "my_map = folium.Map(location=[sv_lat, sv_lon], zoom_start=9, max_bounds=True)\n",
        "\n",
        "#Add Boundaries layer\n",
        "# Reference: https://developers.google.com/earth-engine/guides/feature_collections_visualizing\n",
        "\"\"\"study_area_boundaries = ee.Image().paint(study_area_feature_collection, 1, 2)\n",
        "my_map.add_ee_layer(study_area_boundaries, {'palette': 'FF0000'}, 'Boundaries')\"\"\"\n",
        "my_map.add_ee_layer(roi_fc.draw('006600', 3, 2), {}, 'Study Area Boundaries')\n",
        "\n",
        "# Add the clipped image layer\n",
        "my_map.add_ee_layer(clipped_images_modular[0], vis_params, 'Landsat clipped image L5 0')\n",
        "my_map.add_ee_layer(clipped_images_modular[8], vis_params, 'Landsat clipped image L7 8')\n",
        "my_map.add_ee_layer(clipped_images_modular[22], vis_params, 'Landsat clipped image L8 22')\n",
        "my_map.add_ee_layer(clipped_images_modular[29], vis_params, 'Landsat clipped image L8 29')\n",
        "\n",
        "# Add clasified image\n",
        "#my_map.add_ee_layer(classified_image, {'palette': land_cover_palette, 'min': 0, 'max': 2}, 'Cart classification')\n",
        "\n",
        "# Add a layer control panel to the map\n",
        "my_map.add_child(folium.LayerControl())\n",
        "\n",
        "# Displays the map\n",
        "display(my_map)"
      ],
      "metadata": {
        "colab": {
          "base_uri": "https://localhost:8080/",
          "height": 763
        },
        "id": "6Cd00uDfNofM",
        "outputId": "31449d05-669b-4959-8010-847a01dbd13b"
      },
      "execution_count": 90,
      "outputs": [
        {
          "output_type": "display_data",
          "data": {
            "text/plain": [
              "<folium.folium.Map at 0x7fc7a2220f10>"
            ],
            "text/html": [
              "<div style=\"width:100%;\"><div style=\"position:relative;width:100%;height:0;padding-bottom:60%;\"><span style=\"color:#565656\">Make this Notebook Trusted to load map: File -> Trust Notebook</span><iframe srcdoc=\"&lt;!DOCTYPE html&gt;\n",
              "&lt;head&gt;    \n",
              "    &lt;meta http-equiv=&quot;content-type&quot; content=&quot;text/html; charset=UTF-8&quot; /&gt;\n",
              "    &lt;script&gt;L_PREFER_CANVAS=false; L_NO_TOUCH=false; L_DISABLE_3D=false;&lt;/script&gt;\n",
              "    &lt;script src=&quot;https://cdn.jsdelivr.net/npm/leaflet@1.4.0/dist/leaflet.js&quot;&gt;&lt;/script&gt;\n",
              "    &lt;script src=&quot;https://code.jquery.com/jquery-1.12.4.min.js&quot;&gt;&lt;/script&gt;\n",
              "    &lt;script src=&quot;https://maxcdn.bootstrapcdn.com/bootstrap/3.2.0/js/bootstrap.min.js&quot;&gt;&lt;/script&gt;\n",
              "    &lt;script src=&quot;https://cdnjs.cloudflare.com/ajax/libs/Leaflet.awesome-markers/2.0.2/leaflet.awesome-markers.js&quot;&gt;&lt;/script&gt;\n",
              "    &lt;link rel=&quot;stylesheet&quot; href=&quot;https://cdn.jsdelivr.net/npm/leaflet@1.4.0/dist/leaflet.css&quot;/&gt;\n",
              "    &lt;link rel=&quot;stylesheet&quot; href=&quot;https://maxcdn.bootstrapcdn.com/bootstrap/3.2.0/css/bootstrap.min.css&quot;/&gt;\n",
              "    &lt;link rel=&quot;stylesheet&quot; href=&quot;https://maxcdn.bootstrapcdn.com/bootstrap/3.2.0/css/bootstrap-theme.min.css&quot;/&gt;\n",
              "    &lt;link rel=&quot;stylesheet&quot; href=&quot;https://maxcdn.bootstrapcdn.com/font-awesome/4.6.3/css/font-awesome.min.css&quot;/&gt;\n",
              "    &lt;link rel=&quot;stylesheet&quot; href=&quot;https://cdnjs.cloudflare.com/ajax/libs/Leaflet.awesome-markers/2.0.2/leaflet.awesome-markers.css&quot;/&gt;\n",
              "    &lt;link rel=&quot;stylesheet&quot; href=&quot;https://rawcdn.githack.com/python-visualization/folium/master/folium/templates/leaflet.awesome.rotate.css&quot;/&gt;\n",
              "    &lt;style&gt;html, body {width: 100%;height: 100%;margin: 0;padding: 0;}&lt;/style&gt;\n",
              "    &lt;style&gt;#map {position:absolute;top:0;bottom:0;right:0;left:0;}&lt;/style&gt;\n",
              "    \n",
              "    &lt;meta name=&quot;viewport&quot; content=&quot;width=device-width,\n",
              "        initial-scale=1.0, maximum-scale=1.0, user-scalable=no&quot; /&gt;\n",
              "    &lt;style&gt;#map_01065bd0afaf7db7c6b50b89ec38c785 {\n",
              "        position: relative;\n",
              "        width: 100.0%;\n",
              "        height: 100.0%;\n",
              "        left: 0.0%;\n",
              "        top: 0.0%;\n",
              "        }\n",
              "    &lt;/style&gt;\n",
              "&lt;/head&gt;\n",
              "&lt;body&gt;    \n",
              "    \n",
              "    &lt;div class=&quot;folium-map&quot; id=&quot;map_01065bd0afaf7db7c6b50b89ec38c785&quot; &gt;&lt;/div&gt;\n",
              "&lt;/body&gt;\n",
              "&lt;script&gt;    \n",
              "    \n",
              "    \n",
              "        var southWest = L.latLng(-90, -180);\n",
              "        var northEast = L.latLng(90, 180);\n",
              "        var bounds = L.latLngBounds(southWest, northEast);\n",
              "    \n",
              "\n",
              "    var map_01065bd0afaf7db7c6b50b89ec38c785 = L.map(\n",
              "        &#x27;map_01065bd0afaf7db7c6b50b89ec38c785&#x27;, {\n",
              "        center: [13.794185, -88.89653],\n",
              "        zoom: 9,\n",
              "        maxBounds: bounds,\n",
              "        layers: [],\n",
              "        worldCopyJump: false,\n",
              "        crs: L.CRS.EPSG3857,\n",
              "        zoomControl: true,\n",
              "        });\n",
              "\n",
              "\n",
              "    \n",
              "    var tile_layer_d2d1236fa31f01a9dbccabc7cd9733c5 = L.tileLayer(\n",
              "        &#x27;https://{s}.tile.openstreetmap.org/{z}/{x}/{y}.png&#x27;,\n",
              "        {\n",
              "        &quot;attribution&quot;: null,\n",
              "        &quot;detectRetina&quot;: false,\n",
              "        &quot;maxNativeZoom&quot;: 18,\n",
              "        &quot;maxZoom&quot;: 18,\n",
              "        &quot;minZoom&quot;: 0,\n",
              "        &quot;noWrap&quot;: false,\n",
              "        &quot;opacity&quot;: 1,\n",
              "        &quot;subdomains&quot;: &quot;abc&quot;,\n",
              "        &quot;tms&quot;: false\n",
              "}).addTo(map_01065bd0afaf7db7c6b50b89ec38c785);\n",
              "    var tile_layer_d900f5838a8ec3ff60aad55e3fad9e7f = L.tileLayer(\n",
              "        &#x27;https://earthengine.googleapis.com/v1alpha/projects/earthengine-legacy/maps/f6a616aab17f0ed5506b468e5e4945ff-31f173848bcbfcf3d2e63f07d840cd35/tiles/{z}/{x}/{y}&#x27;,\n",
              "        {\n",
              "        &quot;attribution&quot;: &quot;Map Data &amp;copy; &lt;a href=\\&quot;https://earthengine.google.com/\\&quot;&gt;Google Earth Engine&lt;/a&gt;&quot;,\n",
              "        &quot;detectRetina&quot;: false,\n",
              "        &quot;maxNativeZoom&quot;: 18,\n",
              "        &quot;maxZoom&quot;: 18,\n",
              "        &quot;minZoom&quot;: 0,\n",
              "        &quot;noWrap&quot;: false,\n",
              "        &quot;opacity&quot;: 1,\n",
              "        &quot;subdomains&quot;: &quot;abc&quot;,\n",
              "        &quot;tms&quot;: false\n",
              "}).addTo(map_01065bd0afaf7db7c6b50b89ec38c785);\n",
              "    var tile_layer_a34e2146f2059ed3fe1ad691291473bd = L.tileLayer(\n",
              "        &#x27;https://earthengine.googleapis.com/v1alpha/projects/earthengine-legacy/maps/3d3a98a6090c0299eaa9efb049c3a969-e62092817cf3f2d8423e7f98cebec429/tiles/{z}/{x}/{y}&#x27;,\n",
              "        {\n",
              "        &quot;attribution&quot;: &quot;Map Data &amp;copy; &lt;a href=\\&quot;https://earthengine.google.com/\\&quot;&gt;Google Earth Engine&lt;/a&gt;&quot;,\n",
              "        &quot;detectRetina&quot;: false,\n",
              "        &quot;maxNativeZoom&quot;: 18,\n",
              "        &quot;maxZoom&quot;: 18,\n",
              "        &quot;minZoom&quot;: 0,\n",
              "        &quot;noWrap&quot;: false,\n",
              "        &quot;opacity&quot;: 1,\n",
              "        &quot;subdomains&quot;: &quot;abc&quot;,\n",
              "        &quot;tms&quot;: false\n",
              "}).addTo(map_01065bd0afaf7db7c6b50b89ec38c785);\n",
              "    var tile_layer_9d67190afed6864c589de46c347a9d24 = L.tileLayer(\n",
              "        &#x27;https://earthengine.googleapis.com/v1alpha/projects/earthengine-legacy/maps/8e237901ce6a3b7db63a0f4013072a31-9d9df48e7d4f6bf5e03691e45b993f5e/tiles/{z}/{x}/{y}&#x27;,\n",
              "        {\n",
              "        &quot;attribution&quot;: &quot;Map Data &amp;copy; &lt;a href=\\&quot;https://earthengine.google.com/\\&quot;&gt;Google Earth Engine&lt;/a&gt;&quot;,\n",
              "        &quot;detectRetina&quot;: false,\n",
              "        &quot;maxNativeZoom&quot;: 18,\n",
              "        &quot;maxZoom&quot;: 18,\n",
              "        &quot;minZoom&quot;: 0,\n",
              "        &quot;noWrap&quot;: false,\n",
              "        &quot;opacity&quot;: 1,\n",
              "        &quot;subdomains&quot;: &quot;abc&quot;,\n",
              "        &quot;tms&quot;: false\n",
              "}).addTo(map_01065bd0afaf7db7c6b50b89ec38c785);\n",
              "    var tile_layer_8543560874d3c215cf4cb6f11c4a6f14 = L.tileLayer(\n",
              "        &#x27;https://earthengine.googleapis.com/v1alpha/projects/earthengine-legacy/maps/7a96f3ed4b6419a656ba96835245e680-1fb43646744d768244b9e4893c2fd469/tiles/{z}/{x}/{y}&#x27;,\n",
              "        {\n",
              "        &quot;attribution&quot;: &quot;Map Data &amp;copy; &lt;a href=\\&quot;https://earthengine.google.com/\\&quot;&gt;Google Earth Engine&lt;/a&gt;&quot;,\n",
              "        &quot;detectRetina&quot;: false,\n",
              "        &quot;maxNativeZoom&quot;: 18,\n",
              "        &quot;maxZoom&quot;: 18,\n",
              "        &quot;minZoom&quot;: 0,\n",
              "        &quot;noWrap&quot;: false,\n",
              "        &quot;opacity&quot;: 1,\n",
              "        &quot;subdomains&quot;: &quot;abc&quot;,\n",
              "        &quot;tms&quot;: false\n",
              "}).addTo(map_01065bd0afaf7db7c6b50b89ec38c785);\n",
              "    var tile_layer_c7fdd2f31fe161f36838c04ce85e5cba = L.tileLayer(\n",
              "        &#x27;https://earthengine.googleapis.com/v1alpha/projects/earthengine-legacy/maps/f46d1a7f12842138b0ef36049d1e9899-2f06bac3a9e64083ec6761d03ccea53e/tiles/{z}/{x}/{y}&#x27;,\n",
              "        {\n",
              "        &quot;attribution&quot;: &quot;Map Data &amp;copy; &lt;a href=\\&quot;https://earthengine.google.com/\\&quot;&gt;Google Earth Engine&lt;/a&gt;&quot;,\n",
              "        &quot;detectRetina&quot;: false,\n",
              "        &quot;maxNativeZoom&quot;: 18,\n",
              "        &quot;maxZoom&quot;: 18,\n",
              "        &quot;minZoom&quot;: 0,\n",
              "        &quot;noWrap&quot;: false,\n",
              "        &quot;opacity&quot;: 1,\n",
              "        &quot;subdomains&quot;: &quot;abc&quot;,\n",
              "        &quot;tms&quot;: false\n",
              "}).addTo(map_01065bd0afaf7db7c6b50b89ec38c785);\n",
              "    \n",
              "            var layer_control_7edea248f85bcce0c6e1ba90cd41a9eb = {\n",
              "                base_layers : { &quot;openstreetmap&quot; : tile_layer_d2d1236fa31f01a9dbccabc7cd9733c5, },\n",
              "                overlays : { &quot;Study Area Boundaries&quot; : tile_layer_d900f5838a8ec3ff60aad55e3fad9e7f,&quot;Landsat clipped image L5 0&quot; : tile_layer_a34e2146f2059ed3fe1ad691291473bd,&quot;Landsat clipped image L7 8&quot; : tile_layer_9d67190afed6864c589de46c347a9d24,&quot;Landsat clipped image L8 22&quot; : tile_layer_8543560874d3c215cf4cb6f11c4a6f14,&quot;Landsat clipped image L8 29&quot; : tile_layer_c7fdd2f31fe161f36838c04ce85e5cba, }\n",
              "                };\n",
              "            L.control.layers(\n",
              "                layer_control_7edea248f85bcce0c6e1ba90cd41a9eb.base_layers,\n",
              "                layer_control_7edea248f85bcce0c6e1ba90cd41a9eb.overlays,\n",
              "                {position: &#x27;topright&#x27;,\n",
              "                 collapsed: true,\n",
              "                 autoZIndex: true\n",
              "                }).addTo(map_01065bd0afaf7db7c6b50b89ec38c785);\n",
              "            \n",
              "        \n",
              "&lt;/script&gt;\" style=\"position:absolute;width:100%;height:100%;left:0;top:0;border:none !important;\" allowfullscreen webkitallowfullscreen mozallowfullscreen></iframe></div></div>"
            ]
          },
          "metadata": {}
        }
      ]
    },
    {
      "cell_type": "markdown",
      "source": [
        "## Satellite Imagery Classification"
      ],
      "metadata": {
        "id": "1-E9iTYxSk1O"
      }
    },
    {
      "cell_type": "markdown",
      "source": [
        "### Cart Classifier (video)"
      ],
      "metadata": {
        "id": "0x2myMzgTC0P"
      }
    },
    {
      "cell_type": "code",
      "source": [
        "#Importing training data\n",
        "training = ee.FeatureCollection('users/midekisa/Train_Cover_CA')\n",
        "\n",
        "label = 'Class'\n",
        "bands = ['B1', 'B2', 'B3', 'B4', 'B5', 'B7']\n",
        "input = clipped_image.select(bands)\n",
        "\n",
        "train_image = input.sampleRegions(**{\n",
        "    'collection': training,\n",
        "    'properties': [label],\n",
        "    'scale': 30\n",
        "})\n",
        "\n",
        "training_data = train_image.randomColumn()\n",
        "\n",
        "train_set = training_data.filter(ee.Filter.lessThan('random', 0.8))\n",
        "test_set = training_data.filter(ee.Filter.greaterThanOrEquals('random', 0.8))"
      ],
      "metadata": {
        "id": "rXkDRKVjS3un"
      },
      "execution_count": 17,
      "outputs": []
    },
    {
      "cell_type": "code",
      "source": [
        "# Classification model using CART\n",
        "cart_classifier = ee.Classifier.smileCart().train(train_set, label, bands)\n",
        "\n",
        "# Classify the image\n",
        "classified_image = input.classify(cart_classifier)\n",
        "\n",
        "# Define palette for the clasification\n",
        "land_cover_palette = [\n",
        "                      '#0C2C84', # water (0)\n",
        "                      '#E31A1C', # urban (1)\n",
        "                      '#005A32', # forest (2)\n",
        "                      '#FF8000', # crop (3)\n",
        "                      '#969696', # barren (4)\n",
        "\n",
        "]"
      ],
      "metadata": {
        "id": "qL1HzN9aS8z-"
      },
      "execution_count": 18,
      "outputs": []
    },
    {
      "cell_type": "markdown",
      "source": [
        "### CART classifier AMSS"
      ],
      "metadata": {
        "id": "FH2vXj04RrTX"
      }
    },
    {
      "cell_type": "code",
      "source": [
        "train_datasource_url = 'https://raw.githubusercontent.com/CesarRosales16/Urban-Sprawl-SV/main/datasources/train-data/TrainCoverAMSSC.shp'\n",
        "train_shp_path = '/vsicurl/' + train_datasource_url\n",
        "train_data = gpd.read_file(train_shp_path)\n",
        "train_data.head()"
      ],
      "metadata": {
        "colab": {
          "base_uri": "https://localhost:8080/",
          "height": 206
        },
        "id": "Guc4hXqrRvxl",
        "outputId": "271a9a17-894c-4b0f-843e-56459163d41f"
      },
      "execution_count": 19,
      "outputs": [
        {
          "output_type": "execute_result",
          "data": {
            "text/plain": [
              "   Class                    geometry\n",
              "0      0  POINT (-89.06572 13.67649)\n",
              "1      0  POINT (-89.06298 13.69317)\n",
              "2      0  POINT (-89.06092 13.67950)\n",
              "3      0  POINT (-89.06572 13.69017)\n",
              "4      0  POINT (-89.06235 13.68441)"
            ],
            "text/html": [
              "\n",
              "  <div id=\"df-e426ea09-c22b-4eac-b1da-6a8ba8a1acc5\">\n",
              "    <div class=\"colab-df-container\">\n",
              "      <div>\n",
              "<style scoped>\n",
              "    .dataframe tbody tr th:only-of-type {\n",
              "        vertical-align: middle;\n",
              "    }\n",
              "\n",
              "    .dataframe tbody tr th {\n",
              "        vertical-align: top;\n",
              "    }\n",
              "\n",
              "    .dataframe thead th {\n",
              "        text-align: right;\n",
              "    }\n",
              "</style>\n",
              "<table border=\"1\" class=\"dataframe\">\n",
              "  <thead>\n",
              "    <tr style=\"text-align: right;\">\n",
              "      <th></th>\n",
              "      <th>Class</th>\n",
              "      <th>geometry</th>\n",
              "    </tr>\n",
              "  </thead>\n",
              "  <tbody>\n",
              "    <tr>\n",
              "      <th>0</th>\n",
              "      <td>0</td>\n",
              "      <td>POINT (-89.06572 13.67649)</td>\n",
              "    </tr>\n",
              "    <tr>\n",
              "      <th>1</th>\n",
              "      <td>0</td>\n",
              "      <td>POINT (-89.06298 13.69317)</td>\n",
              "    </tr>\n",
              "    <tr>\n",
              "      <th>2</th>\n",
              "      <td>0</td>\n",
              "      <td>POINT (-89.06092 13.67950)</td>\n",
              "    </tr>\n",
              "    <tr>\n",
              "      <th>3</th>\n",
              "      <td>0</td>\n",
              "      <td>POINT (-89.06572 13.69017)</td>\n",
              "    </tr>\n",
              "    <tr>\n",
              "      <th>4</th>\n",
              "      <td>0</td>\n",
              "      <td>POINT (-89.06235 13.68441)</td>\n",
              "    </tr>\n",
              "  </tbody>\n",
              "</table>\n",
              "</div>\n",
              "      <button class=\"colab-df-convert\" onclick=\"convertToInteractive('df-e426ea09-c22b-4eac-b1da-6a8ba8a1acc5')\"\n",
              "              title=\"Convert this dataframe to an interactive table.\"\n",
              "              style=\"display:none;\">\n",
              "        \n",
              "  <svg xmlns=\"http://www.w3.org/2000/svg\" height=\"24px\"viewBox=\"0 0 24 24\"\n",
              "       width=\"24px\">\n",
              "    <path d=\"M0 0h24v24H0V0z\" fill=\"none\"/>\n",
              "    <path d=\"M18.56 5.44l.94 2.06.94-2.06 2.06-.94-2.06-.94-.94-2.06-.94 2.06-2.06.94zm-11 1L8.5 8.5l.94-2.06 2.06-.94-2.06-.94L8.5 2.5l-.94 2.06-2.06.94zm10 10l.94 2.06.94-2.06 2.06-.94-2.06-.94-.94-2.06-.94 2.06-2.06.94z\"/><path d=\"M17.41 7.96l-1.37-1.37c-.4-.4-.92-.59-1.43-.59-.52 0-1.04.2-1.43.59L10.3 9.45l-7.72 7.72c-.78.78-.78 2.05 0 2.83L4 21.41c.39.39.9.59 1.41.59.51 0 1.02-.2 1.41-.59l7.78-7.78 2.81-2.81c.8-.78.8-2.07 0-2.86zM5.41 20L4 18.59l7.72-7.72 1.47 1.35L5.41 20z\"/>\n",
              "  </svg>\n",
              "      </button>\n",
              "      \n",
              "  <style>\n",
              "    .colab-df-container {\n",
              "      display:flex;\n",
              "      flex-wrap:wrap;\n",
              "      gap: 12px;\n",
              "    }\n",
              "\n",
              "    .colab-df-convert {\n",
              "      background-color: #E8F0FE;\n",
              "      border: none;\n",
              "      border-radius: 50%;\n",
              "      cursor: pointer;\n",
              "      display: none;\n",
              "      fill: #1967D2;\n",
              "      height: 32px;\n",
              "      padding: 0 0 0 0;\n",
              "      width: 32px;\n",
              "    }\n",
              "\n",
              "    .colab-df-convert:hover {\n",
              "      background-color: #E2EBFA;\n",
              "      box-shadow: 0px 1px 2px rgba(60, 64, 67, 0.3), 0px 1px 3px 1px rgba(60, 64, 67, 0.15);\n",
              "      fill: #174EA6;\n",
              "    }\n",
              "\n",
              "    [theme=dark] .colab-df-convert {\n",
              "      background-color: #3B4455;\n",
              "      fill: #D2E3FC;\n",
              "    }\n",
              "\n",
              "    [theme=dark] .colab-df-convert:hover {\n",
              "      background-color: #434B5C;\n",
              "      box-shadow: 0px 1px 3px 1px rgba(0, 0, 0, 0.15);\n",
              "      filter: drop-shadow(0px 1px 2px rgba(0, 0, 0, 0.3));\n",
              "      fill: #FFFFFF;\n",
              "    }\n",
              "  </style>\n",
              "\n",
              "      <script>\n",
              "        const buttonEl =\n",
              "          document.querySelector('#df-e426ea09-c22b-4eac-b1da-6a8ba8a1acc5 button.colab-df-convert');\n",
              "        buttonEl.style.display =\n",
              "          google.colab.kernel.accessAllowed ? 'block' : 'none';\n",
              "\n",
              "        async function convertToInteractive(key) {\n",
              "          const element = document.querySelector('#df-e426ea09-c22b-4eac-b1da-6a8ba8a1acc5');\n",
              "          const dataTable =\n",
              "            await google.colab.kernel.invokeFunction('convertToInteractive',\n",
              "                                                     [key], {});\n",
              "          if (!dataTable) return;\n",
              "\n",
              "          const docLinkHtml = 'Like what you see? Visit the ' +\n",
              "            '<a target=\"_blank\" href=https://colab.research.google.com/notebooks/data_table.ipynb>data table notebook</a>'\n",
              "            + ' to learn more about interactive tables.';\n",
              "          element.innerHTML = '';\n",
              "          dataTable['output_type'] = 'display_data';\n",
              "          await google.colab.output.renderOutput(dataTable, element);\n",
              "          const docLink = document.createElement('div');\n",
              "          docLink.innerHTML = docLinkHtml;\n",
              "          element.appendChild(docLink);\n",
              "        }\n",
              "      </script>\n",
              "    </div>\n",
              "  </div>\n",
              "  "
            ]
          },
          "metadata": {},
          "execution_count": 19
        }
      ]
    },
    {
      "cell_type": "code",
      "source": [
        "# Create json from geodataframe\n",
        "train_json = json.loads(train_data.to_json())"
      ],
      "metadata": {
        "id": "mDZFnR3pSMDA"
      },
      "execution_count": 20,
      "outputs": []
    },
    {
      "cell_type": "code",
      "source": [
        "#Importing training data\n",
        "training = ee.FeatureCollection(train_json)\n",
        "\n",
        "label = 'Class'\n",
        "bands = ['B1', 'B2', 'B3', 'B4', 'B5', 'B7']\n",
        "input = clipped_image.select(bands)\n",
        "\n",
        "train_image = input.sampleRegions(**{\n",
        "    'collection': training,\n",
        "    'properties': [label],\n",
        "    'scale': 30\n",
        "})\n",
        "\n",
        "\n",
        "training_data = train_image.randomColumn()\n",
        "\n",
        "train_set = training_data.filter(ee.Filter.lessThan('random', 0.8))\n",
        "test_set = training_data.filter(ee.Filter.greaterThanOrEquals('random', 0.8))"
      ],
      "metadata": {
        "id": "2Z9weHSKSchK"
      },
      "execution_count": 21,
      "outputs": []
    },
    {
      "cell_type": "code",
      "source": [
        "# Classification model using CART\n",
        "cart_classifier = ee.Classifier.smileCart().train(train_set, label, bands)\n",
        "\n",
        "# Classify the image\n",
        "classified_image = input.classify(cart_classifier)\n",
        "\n",
        "# Define palette for the clasification\n",
        "land_cover_palette = [\n",
        "                      '#0C2C84', # water (0)\n",
        "                      '#E31A1C', # urban (1)\n",
        "                      '#005A32', # forest (2)\n",
        "]"
      ],
      "metadata": {
        "id": "eYMDTYaDSnkf"
      },
      "execution_count": 22,
      "outputs": []
    },
    {
      "cell_type": "markdown",
      "source": [
        "## Mapping layers"
      ],
      "metadata": {
        "id": "ypUT5zTQR_Wj"
      }
    },
    {
      "cell_type": "code",
      "source": [
        "# Define a map centered on El Salvador\n",
        "my_map = folium.Map(location=[sv_lat, sv_lon], zoom_start=9, max_bounds=True)\n",
        "\n",
        "#Add Boundaries layer\n",
        "# Reference: https://developers.google.com/earth-engine/guides/feature_collections_visualizing\n",
        "\"\"\"study_area_boundaries = ee.Image().paint(study_area_feature_collection, 1, 2)\n",
        "my_map.add_ee_layer(study_area_boundaries, {'palette': 'FF0000'}, 'Boundaries')\"\"\"\n",
        "my_map.add_ee_layer(roi_fc.draw('006600', 3, 2), {}, 'Study Area Boundaries')\n",
        "\n",
        "# Add the clipped image layer\n",
        "my_map.add_ee_layer(clipped_image, vis_params, 'Landsat clipped image')\n",
        "\n",
        "# Add clasified image\n",
        "my_map.add_ee_layer(classified_image, {'palette': land_cover_palette, 'min': 0, 'max': 2}, 'Cart classification')\n",
        "\n",
        "# Add a layer control panel to the map\n",
        "my_map.add_child(folium.LayerControl())\n",
        "\n",
        "# Displays the map\n",
        "display(my_map)"
      ],
      "metadata": {
        "id": "bI1Yo4jCRxVf",
        "colab": {
          "base_uri": "https://localhost:8080/",
          "height": 763
        },
        "outputId": "f57ff6f3-bf47-4403-84bd-23cfcfee5c5e"
      },
      "execution_count": 63,
      "outputs": [
        {
          "output_type": "display_data",
          "data": {
            "text/plain": [
              "<folium.folium.Map at 0x7fc7a35a8c90>"
            ],
            "text/html": [
              "<div style=\"width:100%;\"><div style=\"position:relative;width:100%;height:0;padding-bottom:60%;\"><span style=\"color:#565656\">Make this Notebook Trusted to load map: File -> Trust Notebook</span><iframe srcdoc=\"&lt;!DOCTYPE html&gt;\n",
              "&lt;head&gt;    \n",
              "    &lt;meta http-equiv=&quot;content-type&quot; content=&quot;text/html; charset=UTF-8&quot; /&gt;\n",
              "    &lt;script&gt;L_PREFER_CANVAS=false; L_NO_TOUCH=false; L_DISABLE_3D=false;&lt;/script&gt;\n",
              "    &lt;script src=&quot;https://cdn.jsdelivr.net/npm/leaflet@1.4.0/dist/leaflet.js&quot;&gt;&lt;/script&gt;\n",
              "    &lt;script src=&quot;https://code.jquery.com/jquery-1.12.4.min.js&quot;&gt;&lt;/script&gt;\n",
              "    &lt;script src=&quot;https://maxcdn.bootstrapcdn.com/bootstrap/3.2.0/js/bootstrap.min.js&quot;&gt;&lt;/script&gt;\n",
              "    &lt;script src=&quot;https://cdnjs.cloudflare.com/ajax/libs/Leaflet.awesome-markers/2.0.2/leaflet.awesome-markers.js&quot;&gt;&lt;/script&gt;\n",
              "    &lt;link rel=&quot;stylesheet&quot; href=&quot;https://cdn.jsdelivr.net/npm/leaflet@1.4.0/dist/leaflet.css&quot;/&gt;\n",
              "    &lt;link rel=&quot;stylesheet&quot; href=&quot;https://maxcdn.bootstrapcdn.com/bootstrap/3.2.0/css/bootstrap.min.css&quot;/&gt;\n",
              "    &lt;link rel=&quot;stylesheet&quot; href=&quot;https://maxcdn.bootstrapcdn.com/bootstrap/3.2.0/css/bootstrap-theme.min.css&quot;/&gt;\n",
              "    &lt;link rel=&quot;stylesheet&quot; href=&quot;https://maxcdn.bootstrapcdn.com/font-awesome/4.6.3/css/font-awesome.min.css&quot;/&gt;\n",
              "    &lt;link rel=&quot;stylesheet&quot; href=&quot;https://cdnjs.cloudflare.com/ajax/libs/Leaflet.awesome-markers/2.0.2/leaflet.awesome-markers.css&quot;/&gt;\n",
              "    &lt;link rel=&quot;stylesheet&quot; href=&quot;https://rawcdn.githack.com/python-visualization/folium/master/folium/templates/leaflet.awesome.rotate.css&quot;/&gt;\n",
              "    &lt;style&gt;html, body {width: 100%;height: 100%;margin: 0;padding: 0;}&lt;/style&gt;\n",
              "    &lt;style&gt;#map {position:absolute;top:0;bottom:0;right:0;left:0;}&lt;/style&gt;\n",
              "    \n",
              "    &lt;meta name=&quot;viewport&quot; content=&quot;width=device-width,\n",
              "        initial-scale=1.0, maximum-scale=1.0, user-scalable=no&quot; /&gt;\n",
              "    &lt;style&gt;#map_fd75c51d7f3bb0fe8fd1e96ee19bc43b {\n",
              "        position: relative;\n",
              "        width: 100.0%;\n",
              "        height: 100.0%;\n",
              "        left: 0.0%;\n",
              "        top: 0.0%;\n",
              "        }\n",
              "    &lt;/style&gt;\n",
              "&lt;/head&gt;\n",
              "&lt;body&gt;    \n",
              "    \n",
              "    &lt;div class=&quot;folium-map&quot; id=&quot;map_fd75c51d7f3bb0fe8fd1e96ee19bc43b&quot; &gt;&lt;/div&gt;\n",
              "&lt;/body&gt;\n",
              "&lt;script&gt;    \n",
              "    \n",
              "    \n",
              "        var southWest = L.latLng(-90, -180);\n",
              "        var northEast = L.latLng(90, 180);\n",
              "        var bounds = L.latLngBounds(southWest, northEast);\n",
              "    \n",
              "\n",
              "    var map_fd75c51d7f3bb0fe8fd1e96ee19bc43b = L.map(\n",
              "        &#x27;map_fd75c51d7f3bb0fe8fd1e96ee19bc43b&#x27;, {\n",
              "        center: [13.794185, -88.89653],\n",
              "        zoom: 9,\n",
              "        maxBounds: bounds,\n",
              "        layers: [],\n",
              "        worldCopyJump: false,\n",
              "        crs: L.CRS.EPSG3857,\n",
              "        zoomControl: true,\n",
              "        });\n",
              "\n",
              "\n",
              "    \n",
              "    var tile_layer_b72fb9c7d36f4e955d19dc637bb37970 = L.tileLayer(\n",
              "        &#x27;https://{s}.tile.openstreetmap.org/{z}/{x}/{y}.png&#x27;,\n",
              "        {\n",
              "        &quot;attribution&quot;: null,\n",
              "        &quot;detectRetina&quot;: false,\n",
              "        &quot;maxNativeZoom&quot;: 18,\n",
              "        &quot;maxZoom&quot;: 18,\n",
              "        &quot;minZoom&quot;: 0,\n",
              "        &quot;noWrap&quot;: false,\n",
              "        &quot;opacity&quot;: 1,\n",
              "        &quot;subdomains&quot;: &quot;abc&quot;,\n",
              "        &quot;tms&quot;: false\n",
              "}).addTo(map_fd75c51d7f3bb0fe8fd1e96ee19bc43b);\n",
              "    var tile_layer_43acf20caed39e60f7840e9aedff1c5c = L.tileLayer(\n",
              "        &#x27;https://earthengine.googleapis.com/v1alpha/projects/earthengine-legacy/maps/f6a616aab17f0ed5506b468e5e4945ff-fc04b9ab42d03cf65ce8ad9969cf1dbb/tiles/{z}/{x}/{y}&#x27;,\n",
              "        {\n",
              "        &quot;attribution&quot;: &quot;Map Data &amp;copy; &lt;a href=\\&quot;https://earthengine.google.com/\\&quot;&gt;Google Earth Engine&lt;/a&gt;&quot;,\n",
              "        &quot;detectRetina&quot;: false,\n",
              "        &quot;maxNativeZoom&quot;: 18,\n",
              "        &quot;maxZoom&quot;: 18,\n",
              "        &quot;minZoom&quot;: 0,\n",
              "        &quot;noWrap&quot;: false,\n",
              "        &quot;opacity&quot;: 1,\n",
              "        &quot;subdomains&quot;: &quot;abc&quot;,\n",
              "        &quot;tms&quot;: false\n",
              "}).addTo(map_fd75c51d7f3bb0fe8fd1e96ee19bc43b);\n",
              "    var tile_layer_849e19370f10f025189b0db94f1ee8ad = L.tileLayer(\n",
              "        &#x27;https://earthengine.googleapis.com/v1alpha/projects/earthengine-legacy/maps/bc1b0f26f4b7c881e52ba844b99490b9-2811bd05c7398bc0a8605ccba4e7c544/tiles/{z}/{x}/{y}&#x27;,\n",
              "        {\n",
              "        &quot;attribution&quot;: &quot;Map Data &amp;copy; &lt;a href=\\&quot;https://earthengine.google.com/\\&quot;&gt;Google Earth Engine&lt;/a&gt;&quot;,\n",
              "        &quot;detectRetina&quot;: false,\n",
              "        &quot;maxNativeZoom&quot;: 18,\n",
              "        &quot;maxZoom&quot;: 18,\n",
              "        &quot;minZoom&quot;: 0,\n",
              "        &quot;noWrap&quot;: false,\n",
              "        &quot;opacity&quot;: 1,\n",
              "        &quot;subdomains&quot;: &quot;abc&quot;,\n",
              "        &quot;tms&quot;: false\n",
              "}).addTo(map_fd75c51d7f3bb0fe8fd1e96ee19bc43b);\n",
              "    \n",
              "            var layer_control_5734f4d3e71650e919d3bb2b67b33c73 = {\n",
              "                base_layers : { &quot;openstreetmap&quot; : tile_layer_b72fb9c7d36f4e955d19dc637bb37970, },\n",
              "                overlays : { &quot;Study Area Boundaries&quot; : tile_layer_43acf20caed39e60f7840e9aedff1c5c,&quot;Landsat clipped image&quot; : tile_layer_849e19370f10f025189b0db94f1ee8ad, }\n",
              "                };\n",
              "            L.control.layers(\n",
              "                layer_control_5734f4d3e71650e919d3bb2b67b33c73.base_layers,\n",
              "                layer_control_5734f4d3e71650e919d3bb2b67b33c73.overlays,\n",
              "                {position: &#x27;topright&#x27;,\n",
              "                 collapsed: true,\n",
              "                 autoZIndex: true\n",
              "                }).addTo(map_fd75c51d7f3bb0fe8fd1e96ee19bc43b);\n",
              "            \n",
              "        \n",
              "&lt;/script&gt;\" style=\"position:absolute;width:100%;height:100%;left:0;top:0;border:none !important;\" allowfullscreen webkitallowfullscreen mozallowfullscreen></iframe></div></div>"
            ]
          },
          "metadata": {}
        }
      ]
    },
    {
      "cell_type": "code",
      "source": [
        "\"\"\"clipped_url = clipped_image.getMapId(vis_params)\n",
        "\n",
        "print(ee.Image.getThumbURL([sv_lat, sv_lon], {'Landsat clipped image URL': clipped_url}))\"\"\""
      ],
      "metadata": {
        "colab": {
          "base_uri": "https://localhost:8080/",
          "height": 35
        },
        "id": "9HZX8lD1Yj7l",
        "outputId": "7ed4d204-ea0d-4228-bd70-572d3e36d16e"
      },
      "execution_count": 65,
      "outputs": [
        {
          "output_type": "execute_result",
          "data": {
            "text/plain": [
              "\"clipped_url = clipped_image.getMapId(vis_params)\\n\\nprint(ee.Image.getThumbURL([sv_lat, sv_lon], {'Landsat clipped image URL': clipped_url}))\""
            ],
            "application/vnd.google.colaboratory.intrinsic+json": {
              "type": "string"
            }
          },
          "metadata": {},
          "execution_count": 65
        }
      ]
    },
    {
      "cell_type": "markdown",
      "source": [
        "## Export to GeoTIFF"
      ],
      "metadata": {
        "id": "H40bNvh9Yc5h"
      }
    },
    {
      "cell_type": "code",
      "source": [
        "from google.colab import drive\n",
        "drive.mount('/content/drive')"
      ],
      "metadata": {
        "colab": {
          "base_uri": "https://localhost:8080/"
        },
        "id": "firHHk3eYjMz",
        "outputId": "c6f5afb8-af5b-4a75-d371-d937d38cee8c"
      },
      "execution_count": null,
      "outputs": [
        {
          "output_type": "stream",
          "name": "stdout",
          "text": [
            "Mounted at /content/drive\n"
          ]
        }
      ]
    },
    {
      "cell_type": "code",
      "source": [
        "# Path where geotiff are saved\n",
        "drive_path = \"GeoTIFFs\""
      ],
      "metadata": {
        "id": "7217xoEWlP-M"
      },
      "execution_count": null,
      "outputs": []
    },
    {
      "cell_type": "code",
      "source": [
        "!pip install rasterio"
      ],
      "metadata": {
        "id": "UI9qIzpUlnQp",
        "colab": {
          "base_uri": "https://localhost:8080/"
        },
        "outputId": "7c00027a-53ca-4199-e1da-e3f2bb89140f"
      },
      "execution_count": null,
      "outputs": [
        {
          "output_type": "stream",
          "name": "stdout",
          "text": [
            "Collecting rasterio\n",
            "  Downloading rasterio-1.2.10-cp37-cp37m-manylinux1_x86_64.whl (19.3 MB)\n",
            "\u001b[K     |████████████████████████████████| 19.3 MB 5.1 MB/s \n",
            "\u001b[?25hRequirement already satisfied: cligj>=0.5 in /usr/local/lib/python3.7/dist-packages (from rasterio) (0.7.2)\n",
            "Requirement already satisfied: numpy in /usr/local/lib/python3.7/dist-packages (from rasterio) (1.21.6)\n",
            "Requirement already satisfied: click-plugins in /usr/local/lib/python3.7/dist-packages (from rasterio) (1.1.1)\n",
            "Requirement already satisfied: setuptools in /usr/local/lib/python3.7/dist-packages (from rasterio) (57.4.0)\n",
            "Collecting affine\n",
            "  Downloading affine-2.3.1-py2.py3-none-any.whl (16 kB)\n",
            "Requirement already satisfied: certifi in /usr/local/lib/python3.7/dist-packages (from rasterio) (2021.10.8)\n",
            "Requirement already satisfied: click>=4.0 in /usr/local/lib/python3.7/dist-packages (from rasterio) (7.1.2)\n",
            "Collecting snuggs>=1.4.1\n",
            "  Downloading snuggs-1.4.7-py3-none-any.whl (5.4 kB)\n",
            "Requirement already satisfied: attrs in /usr/local/lib/python3.7/dist-packages (from rasterio) (21.4.0)\n",
            "Requirement already satisfied: pyparsing>=2.1.6 in /usr/local/lib/python3.7/dist-packages (from snuggs>=1.4.1->rasterio) (3.0.9)\n",
            "Installing collected packages: snuggs, affine, rasterio\n",
            "Successfully installed affine-2.3.1 rasterio-1.2.10 snuggs-1.4.7\n"
          ]
        }
      ]
    },
    {
      "cell_type": "markdown",
      "source": [
        "### Export classified image"
      ],
      "metadata": {
        "id": "tDevtr2ck8UI"
      }
    },
    {
      "cell_type": "code",
      "source": [
        "# Export the image, specifying scale and region.\n",
        "task = ee.batch.Export.image.toDrive(**{\n",
        "    'image': classified_image,\n",
        "    'description': 'Landasat 8 clasificada',\n",
        "    'folder': drive_path,\n",
        "    'scale': 30,\n",
        "    'region': roi_geom\n",
        "})\n",
        "task.start()"
      ],
      "metadata": {
        "id": "zgR5ENKjYkLO"
      },
      "execution_count": null,
      "outputs": []
    },
    {
      "cell_type": "code",
      "source": [
        "import time \n",
        "while task.active():\n",
        "  print('Polling for task (id: {}).'.format(task.id))\n",
        "  time.sleep(10)"
      ],
      "metadata": {
        "id": "AVTwSZeoY3fU"
      },
      "execution_count": null,
      "outputs": []
    },
    {
      "cell_type": "code",
      "source": [
        "import rasterio\n",
        "from rasterio.plot import show\n",
        "fp = r'drive/My Drive/GeoTIFFs/Landasat 8 clasificada.tif'\n",
        "img = rasterio.open(fp)\n",
        "show(img)"
      ],
      "metadata": {
        "colab": {
          "base_uri": "https://localhost:8080/",
          "height": 282
        },
        "id": "-XXxBiHAcswt",
        "outputId": "953cfa0a-895d-4de5-fcea-36603cffccbe"
      },
      "execution_count": null,
      "outputs": [
        {
          "output_type": "display_data",
          "data": {
            "text/plain": [
              "<Figure size 432x288 with 1 Axes>"
            ],
            "image/png": "[encoded data removed]"
          },
          "metadata": {
            "needs_background": "light"
          }
        },
        {
          "output_type": "execute_result",
          "data": {
            "text/plain": [
              "<matplotlib.axes._subplots.AxesSubplot at 0x7f112b438f50>"
            ]
          },
          "metadata": {},
          "execution_count": 30
        }
      ]
    },
    {
      "cell_type": "markdown",
      "source": [
        "### Export clipped img "
      ],
      "metadata": {
        "id": "b6_SPC7_k2_q"
      }
    },
    {
      "cell_type": "code",
      "source": [
        "# Export the image, specifying scale and region.\n",
        "task = ee.batch.Export.image.toDrive(**{\n",
        "    'image': clipped_image,\n",
        "    'description': 'Landasat 8 cortada',\n",
        "    'folder': drive_path,\n",
        "    'scale': 30,\n",
        "    'region': roi_geom\n",
        "})\n",
        "task.start()"
      ],
      "metadata": {
        "id": "bsDYqOjplEw4"
      },
      "execution_count": null,
      "outputs": []
    },
    {
      "cell_type": "code",
      "source": [
        "import time \n",
        "while task.active():\n",
        "  print('Polling for task (id: {}).'.format(task.id))\n",
        "  time.sleep(10)"
      ],
      "metadata": {
        "id": "0dxB7iyRlh7P"
      },
      "execution_count": null,
      "outputs": []
    },
    {
      "cell_type": "code",
      "source": [
        "import rasterio\n",
        "from rasterio.plot import show\n",
        "fp = r'drive/My Drive/GeoTIFFs/Landasat 8 cortada.tif'\n",
        "img = rasterio.open(fp)\n",
        "show(img)"
      ],
      "metadata": {
        "colab": {
          "base_uri": "https://localhost:8080/",
          "height": 282
        },
        "id": "o8jsuqQSlkYY",
        "outputId": "f0edecb1-e6a2-4dbe-e372-6f43a367b795"
      },
      "execution_count": null,
      "outputs": [
        {
          "output_type": "display_data",
          "data": {
            "text/plain": [
              "<Figure size 432x288 with 1 Axes>"
            ],
            "image/png": "[encoded data removed]"
          },
          "metadata": {
            "needs_background": "light"
          }
        },
        {
          "output_type": "execute_result",
          "data": {
            "text/plain": [
              "<matplotlib.axes._subplots.AxesSubplot at 0x7f112b419590>"
            ]
          },
          "metadata": {},
          "execution_count": 31
        }
      ]
    }
  ]
}